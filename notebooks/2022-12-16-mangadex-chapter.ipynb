{
 "cells": [
  {
   "cell_type": "code",
   "execution_count": 26,
   "metadata": {},
   "outputs": [],
   "source": [
    "%load_ext autoreload\n",
    "%autoreload 2\n",
    "%load_ext lab_black"
   ]
  },
  {
   "attachments": {},
   "cell_type": "markdown",
   "metadata": {},
   "source": [
    "## proccesing using requests"
   ]
  },
  {
   "cell_type": "code",
   "execution_count": 2,
   "metadata": {},
   "outputs": [],
   "source": [
    "import requests\n",
    "import json\n",
    "import pandas as pd\n",
    "\n",
    "# get a list of all manga\n",
    "base_url = \"https://api.mangadex.org\"\n",
    "uuid = \"a990c2a1-b54f-4f4f-986c-3cdab1c9f2f9\"\n",
    "r = requests.get(f\"{base_url}/chapter?manga={uuid}\")"
   ]
  },
  {
   "cell_type": "code",
   "execution_count": 4,
   "metadata": {},
   "outputs": [
    {
     "data": {
      "text/html": [
       "<div>\n",
       "<style scoped>\n",
       "    .dataframe tbody tr th:only-of-type {\n",
       "        vertical-align: middle;\n",
       "    }\n",
       "\n",
       "    .dataframe tbody tr th {\n",
       "        vertical-align: top;\n",
       "    }\n",
       "\n",
       "    .dataframe thead th {\n",
       "        text-align: right;\n",
       "    }\n",
       "</style>\n",
       "<table border=\"1\" class=\"dataframe\">\n",
       "  <thead>\n",
       "    <tr style=\"text-align: right;\">\n",
       "      <th></th>\n",
       "      <th>result</th>\n",
       "      <th>response</th>\n",
       "      <th>data</th>\n",
       "      <th>limit</th>\n",
       "      <th>offset</th>\n",
       "      <th>total</th>\n",
       "    </tr>\n",
       "  </thead>\n",
       "  <tbody>\n",
       "    <tr>\n",
       "      <th>0</th>\n",
       "      <td>ok</td>\n",
       "      <td>collection</td>\n",
       "      <td>{'id': '1ab38d10-5a67-42e2-80c9-4c5e99e79345',...</td>\n",
       "      <td>10</td>\n",
       "      <td>0</td>\n",
       "      <td>754</td>\n",
       "    </tr>\n",
       "    <tr>\n",
       "      <th>1</th>\n",
       "      <td>ok</td>\n",
       "      <td>collection</td>\n",
       "      <td>{'id': 'c2d304aa-135f-4de7-8526-d4b73c3114fc',...</td>\n",
       "      <td>10</td>\n",
       "      <td>0</td>\n",
       "      <td>754</td>\n",
       "    </tr>\n",
       "    <tr>\n",
       "      <th>2</th>\n",
       "      <td>ok</td>\n",
       "      <td>collection</td>\n",
       "      <td>{'id': 'cf65eca6-a331-4dcf-b3de-2f9756db55f8',...</td>\n",
       "      <td>10</td>\n",
       "      <td>0</td>\n",
       "      <td>754</td>\n",
       "    </tr>\n",
       "    <tr>\n",
       "      <th>3</th>\n",
       "      <td>ok</td>\n",
       "      <td>collection</td>\n",
       "      <td>{'id': 'fa3600ee-8b9f-4d7a-ba94-7d1d414c8d55',...</td>\n",
       "      <td>10</td>\n",
       "      <td>0</td>\n",
       "      <td>754</td>\n",
       "    </tr>\n",
       "    <tr>\n",
       "      <th>4</th>\n",
       "      <td>ok</td>\n",
       "      <td>collection</td>\n",
       "      <td>{'id': 'c4c2594f-2ed2-4480-b147-56341a7b9edd',...</td>\n",
       "      <td>10</td>\n",
       "      <td>0</td>\n",
       "      <td>754</td>\n",
       "    </tr>\n",
       "  </tbody>\n",
       "</table>\n",
       "</div>"
      ],
      "text/plain": [
       "  result    response                                               data  \\\n",
       "0     ok  collection  {'id': '1ab38d10-5a67-42e2-80c9-4c5e99e79345',...   \n",
       "1     ok  collection  {'id': 'c2d304aa-135f-4de7-8526-d4b73c3114fc',...   \n",
       "2     ok  collection  {'id': 'cf65eca6-a331-4dcf-b3de-2f9756db55f8',...   \n",
       "3     ok  collection  {'id': 'fa3600ee-8b9f-4d7a-ba94-7d1d414c8d55',...   \n",
       "4     ok  collection  {'id': 'c4c2594f-2ed2-4480-b147-56341a7b9edd',...   \n",
       "\n",
       "   limit  offset  total  \n",
       "0     10       0    754  \n",
       "1     10       0    754  \n",
       "2     10       0    754  \n",
       "3     10       0    754  \n",
       "4     10       0    754  "
      ]
     },
     "execution_count": 4,
     "metadata": {},
     "output_type": "execute_result"
    }
   ],
   "source": [
    "pd.DataFrame(r.json()).head()"
   ]
  },
  {
   "cell_type": "code",
   "execution_count": 8,
   "metadata": {},
   "outputs": [
    {
     "data": {
      "text/html": [
       "<div>\n",
       "<style scoped>\n",
       "    .dataframe tbody tr th:only-of-type {\n",
       "        vertical-align: middle;\n",
       "    }\n",
       "\n",
       "    .dataframe tbody tr th {\n",
       "        vertical-align: top;\n",
       "    }\n",
       "\n",
       "    .dataframe thead th {\n",
       "        text-align: right;\n",
       "    }\n",
       "</style>\n",
       "<table border=\"1\" class=\"dataframe\">\n",
       "  <thead>\n",
       "    <tr style=\"text-align: right;\">\n",
       "      <th></th>\n",
       "      <th>id</th>\n",
       "      <th>type</th>\n",
       "      <th>attributes</th>\n",
       "      <th>relationships</th>\n",
       "    </tr>\n",
       "  </thead>\n",
       "  <tbody>\n",
       "    <tr>\n",
       "      <th>0</th>\n",
       "      <td>1ab38d10-5a67-42e2-80c9-4c5e99e79345</td>\n",
       "      <td>chapter</td>\n",
       "      <td>{'volume': '1', 'chapter': '1', 'title': 'Let'...</td>\n",
       "      <td>[{'id': 'df075688-f7da-4cd0-9805-90ec13b48b3f'...</td>\n",
       "    </tr>\n",
       "    <tr>\n",
       "      <th>1</th>\n",
       "      <td>c2d304aa-135f-4de7-8526-d4b73c3114fc</td>\n",
       "      <td>chapter</td>\n",
       "      <td>{'volume': '1', 'chapter': '2', 'title': 'Let'...</td>\n",
       "      <td>[{'id': 'df075688-f7da-4cd0-9805-90ec13b48b3f'...</td>\n",
       "    </tr>\n",
       "    <tr>\n",
       "      <th>2</th>\n",
       "      <td>cf65eca6-a331-4dcf-b3de-2f9756db55f8</td>\n",
       "      <td>chapter</td>\n",
       "      <td>{'volume': '1', 'chapter': '3', 'title': 'Let'...</td>\n",
       "      <td>[{'id': 'df075688-f7da-4cd0-9805-90ec13b48b3f'...</td>\n",
       "    </tr>\n",
       "    <tr>\n",
       "      <th>3</th>\n",
       "      <td>fa3600ee-8b9f-4d7a-ba94-7d1d414c8d55</td>\n",
       "      <td>chapter</td>\n",
       "      <td>{'volume': '1', 'chapter': '4', 'title': 'Let'...</td>\n",
       "      <td>[{'id': 'df075688-f7da-4cd0-9805-90ec13b48b3f'...</td>\n",
       "    </tr>\n",
       "    <tr>\n",
       "      <th>4</th>\n",
       "      <td>c4c2594f-2ed2-4480-b147-56341a7b9edd</td>\n",
       "      <td>chapter</td>\n",
       "      <td>{'volume': '1', 'chapter': '5', 'title': 'Let'...</td>\n",
       "      <td>[{'id': 'df075688-f7da-4cd0-9805-90ec13b48b3f'...</td>\n",
       "    </tr>\n",
       "    <tr>\n",
       "      <th>5</th>\n",
       "      <td>6d42fdf2-9204-4812-8fbe-be2e4e548bf2</td>\n",
       "      <td>chapter</td>\n",
       "      <td>{'volume': '1', 'chapter': '6', 'title': 'Let'...</td>\n",
       "      <td>[{'id': 'df075688-f7da-4cd0-9805-90ec13b48b3f'...</td>\n",
       "    </tr>\n",
       "    <tr>\n",
       "      <th>6</th>\n",
       "      <td>f65e6506-357c-4919-bee0-e53de3778152</td>\n",
       "      <td>chapter</td>\n",
       "      <td>{'volume': '1', 'chapter': '7', 'title': 'Let'...</td>\n",
       "      <td>[{'id': 'df075688-f7da-4cd0-9805-90ec13b48b3f'...</td>\n",
       "    </tr>\n",
       "    <tr>\n",
       "      <th>7</th>\n",
       "      <td>275c4f28-508c-4b76-bf8c-59c3827be711</td>\n",
       "      <td>chapter</td>\n",
       "      <td>{'volume': '1', 'chapter': '7.5', 'title': 'Om...</td>\n",
       "      <td>[{'id': 'efd8e5ca-eef9-43c6-9a1a-d5199c43d758'...</td>\n",
       "    </tr>\n",
       "    <tr>\n",
       "      <th>8</th>\n",
       "      <td>d8c15f44-c61e-434d-ba8b-e27c7fbb2453</td>\n",
       "      <td>chapter</td>\n",
       "      <td>{'volume': '2', 'chapter': '8', 'title': 'Let'...</td>\n",
       "      <td>[{'id': 'df075688-f7da-4cd0-9805-90ec13b48b3f'...</td>\n",
       "    </tr>\n",
       "    <tr>\n",
       "      <th>9</th>\n",
       "      <td>62655be8-16a8-4646-ac0a-7fbeae4a4dd4</td>\n",
       "      <td>chapter</td>\n",
       "      <td>{'volume': '2', 'chapter': '9', 'title': 'Let'...</td>\n",
       "      <td>[{'id': 'df075688-f7da-4cd0-9805-90ec13b48b3f'...</td>\n",
       "    </tr>\n",
       "  </tbody>\n",
       "</table>\n",
       "</div>"
      ],
      "text/plain": [
       "                                     id     type  \\\n",
       "0  1ab38d10-5a67-42e2-80c9-4c5e99e79345  chapter   \n",
       "1  c2d304aa-135f-4de7-8526-d4b73c3114fc  chapter   \n",
       "2  cf65eca6-a331-4dcf-b3de-2f9756db55f8  chapter   \n",
       "3  fa3600ee-8b9f-4d7a-ba94-7d1d414c8d55  chapter   \n",
       "4  c4c2594f-2ed2-4480-b147-56341a7b9edd  chapter   \n",
       "5  6d42fdf2-9204-4812-8fbe-be2e4e548bf2  chapter   \n",
       "6  f65e6506-357c-4919-bee0-e53de3778152  chapter   \n",
       "7  275c4f28-508c-4b76-bf8c-59c3827be711  chapter   \n",
       "8  d8c15f44-c61e-434d-ba8b-e27c7fbb2453  chapter   \n",
       "9  62655be8-16a8-4646-ac0a-7fbeae4a4dd4  chapter   \n",
       "\n",
       "                                          attributes  \\\n",
       "0  {'volume': '1', 'chapter': '1', 'title': 'Let'...   \n",
       "1  {'volume': '1', 'chapter': '2', 'title': 'Let'...   \n",
       "2  {'volume': '1', 'chapter': '3', 'title': 'Let'...   \n",
       "3  {'volume': '1', 'chapter': '4', 'title': 'Let'...   \n",
       "4  {'volume': '1', 'chapter': '5', 'title': 'Let'...   \n",
       "5  {'volume': '1', 'chapter': '6', 'title': 'Let'...   \n",
       "6  {'volume': '1', 'chapter': '7', 'title': 'Let'...   \n",
       "7  {'volume': '1', 'chapter': '7.5', 'title': 'Om...   \n",
       "8  {'volume': '2', 'chapter': '8', 'title': 'Let'...   \n",
       "9  {'volume': '2', 'chapter': '9', 'title': 'Let'...   \n",
       "\n",
       "                                       relationships  \n",
       "0  [{'id': 'df075688-f7da-4cd0-9805-90ec13b48b3f'...  \n",
       "1  [{'id': 'df075688-f7da-4cd0-9805-90ec13b48b3f'...  \n",
       "2  [{'id': 'df075688-f7da-4cd0-9805-90ec13b48b3f'...  \n",
       "3  [{'id': 'df075688-f7da-4cd0-9805-90ec13b48b3f'...  \n",
       "4  [{'id': 'df075688-f7da-4cd0-9805-90ec13b48b3f'...  \n",
       "5  [{'id': 'df075688-f7da-4cd0-9805-90ec13b48b3f'...  \n",
       "6  [{'id': 'df075688-f7da-4cd0-9805-90ec13b48b3f'...  \n",
       "7  [{'id': 'efd8e5ca-eef9-43c6-9a1a-d5199c43d758'...  \n",
       "8  [{'id': 'df075688-f7da-4cd0-9805-90ec13b48b3f'...  \n",
       "9  [{'id': 'df075688-f7da-4cd0-9805-90ec13b48b3f'...  "
      ]
     },
     "execution_count": 8,
     "metadata": {},
     "output_type": "execute_result"
    }
   ],
   "source": [
    "pd.DataFrame(r.json()[\"data\"])"
   ]
  },
  {
   "cell_type": "code",
   "execution_count": 9,
   "metadata": {},
   "outputs": [
    {
     "data": {
      "text/plain": [
       "[100, 200, 300]"
      ]
     },
     "execution_count": 9,
     "metadata": {},
     "output_type": "execute_result"
    }
   ],
   "source": [
    "# and just testing around for the scraper offset logic\n",
    "list(range(100, 350, 100))"
   ]
  },
  {
   "attachments": {},
   "cell_type": "markdown",
   "metadata": {},
   "source": [
    "## processing scraped data with spark"
   ]
  },
  {
   "cell_type": "code",
   "execution_count": 4,
   "metadata": {},
   "outputs": [
    {
     "name": "stdout",
     "output_type": "stream",
     "text": [
      "root\n",
      " |-- attributes: struct (nullable = true)\n",
      " |    |-- chapter: string (nullable = true)\n",
      " |    |-- createdAt: string (nullable = true)\n",
      " |    |-- externalUrl: string (nullable = true)\n",
      " |    |-- pages: long (nullable = true)\n",
      " |    |-- publishAt: string (nullable = true)\n",
      " |    |-- readableAt: string (nullable = true)\n",
      " |    |-- title: string (nullable = true)\n",
      " |    |-- translatedLanguage: string (nullable = true)\n",
      " |    |-- updatedAt: string (nullable = true)\n",
      " |    |-- version: long (nullable = true)\n",
      " |    |-- volume: string (nullable = true)\n",
      " |-- id: string (nullable = true)\n",
      " |-- relationships: array (nullable = true)\n",
      " |    |-- element: struct (containsNull = true)\n",
      " |    |    |-- id: string (nullable = true)\n",
      " |    |    |-- type: string (nullable = true)\n",
      " |-- type: string (nullable = true)\n",
      "\n",
      "-RECORD 0---------------------------------------------------------------------\n",
      " attributes    | {1, 2019-06-17T18:50:42+00:00, null, 31, 2019-06-17T18:50... \n",
      " id            | 6e404a94-3624-4ded-8f2a-f3944606fb7a                         \n",
      " relationships | [{0058de88-ef1e-4257-ae8b-9d33e7a07636, scanlation_group}... \n",
      " type          | chapter                                                      \n",
      "-RECORD 1---------------------------------------------------------------------\n",
      " attributes    | {2, 2019-06-17T18:51:15+00:00, null, 26, 2019-06-17T18:51... \n",
      " id            | b5833dc1-bb16-4504-8ee2-736b3777d087                         \n",
      " relationships | [{0058de88-ef1e-4257-ae8b-9d33e7a07636, scanlation_group}... \n",
      " type          | chapter                                                      \n",
      "-RECORD 2---------------------------------------------------------------------\n",
      " attributes    | {3, 2019-06-17T18:56:02+00:00, null, 29, 2019-06-17T18:56... \n",
      " id            | a6a115bb-4b87-481f-9075-dab812ca2c28                         \n",
      " relationships | [{0058de88-ef1e-4257-ae8b-9d33e7a07636, scanlation_group}... \n",
      " type          | chapter                                                      \n",
      "only showing top 3 rows\n",
      "\n"
     ]
    }
   ],
   "source": [
    "from pyspark.sql import functions as F\n",
    "from manga_recsys.spark import get_spark\n",
    "\n",
    "spark = get_spark()\n",
    "df = spark.read.json(\"../data/raw/2022-12-16-mangadex-chapter.ndjson\")\n",
    "df.printSchema()\n",
    "df.show(n=3, truncate=60, vertical=True)"
   ]
  },
  {
   "cell_type": "code",
   "execution_count": 5,
   "metadata": {},
   "outputs": [
    {
     "data": {
      "text/plain": [
       "1488685"
      ]
     },
     "execution_count": 5,
     "metadata": {},
     "output_type": "execute_result"
    }
   ],
   "source": [
    "df.count()"
   ]
  },
  {
   "cell_type": "code",
   "execution_count": 7,
   "metadata": {},
   "outputs": [
    {
     "name": "stdout",
     "output_type": "stream",
     "text": [
      "-RECORD 0---------------------------------------\n",
      " chapter            | 1                         \n",
      " createdAt          | 2019-06-17T18:50:42+00:00 \n",
      " externalUrl        | null                      \n",
      " pages              | 31                        \n",
      " publishAt          | 2019-06-17T18:50:42+00:00 \n",
      " readableAt         | 2019-06-17T18:50:42+00:00 \n",
      " title              |                           \n",
      " translatedLanguage | en                        \n",
      " updatedAt          | 2019-06-17T18:50:42+00:00 \n",
      " version            | 1                         \n",
      " volume             | null                      \n",
      "only showing top 1 row\n",
      "\n"
     ]
    }
   ],
   "source": [
    "df.select(\"attributes.*\").show(n=1, truncate=60, vertical=True)"
   ]
  },
  {
   "cell_type": "code",
   "execution_count": 11,
   "metadata": {},
   "outputs": [
    {
     "name": "stdout",
     "output_type": "stream",
     "text": [
      "-RECORD 0----------------------------------------------------------------------------------------------------------------------------------------------------------------\n",
      " relationships | [{0058de88-ef1e-4257-ae8b-9d33e7a07636, scanlation_group}, {84c7d300-80fc-4f31-99da-5833ebdc842a, manga}, {a35c2b5d-c290-4024-b4ae-de1452ff291a, user}] \n",
      "only showing top 1 row\n",
      "\n"
     ]
    }
   ],
   "source": [
    "df.select(\"relationships\").show(n=1, truncate=False, vertical=True)"
   ]
  },
  {
   "cell_type": "code",
   "execution_count": 19,
   "metadata": {},
   "outputs": [
    {
     "name": "stdout",
     "output_type": "stream",
     "text": [
      "+------------------+----------+------------+\n",
      "|translatedLanguage|countManga|countChapter|\n",
      "+------------------+----------+------------+\n",
      "|                en|     40139|      716144|\n",
      "|             pt-br|      6773|      178521|\n",
      "|                fr|      4694|       86084|\n",
      "|             es-la|      4390|       74189|\n",
      "|                ru|      4160|      117129|\n",
      "|                pl|      3883|       72745|\n",
      "|                id|      3499|       34818|\n",
      "|                tr|      2791|       51149|\n",
      "|                it|      2635|       43410|\n",
      "|                vi|      1459|       14310|\n",
      "|                es|      1400|       31987|\n",
      "|             zh-hk|       774|       10517|\n",
      "|                de|       544|        6774|\n",
      "|                ar|       533|       11159|\n",
      "|                hu|       499|        9903|\n",
      "|                zh|       450|        6065|\n",
      "|                uk|       419|        5676|\n",
      "|                th|       418|        3819|\n",
      "|                bg|       247|        3317|\n",
      "|                fa|       191|        2650|\n",
      "+------------------+----------+------------+\n",
      "only showing top 20 rows\n",
      "\n"
     ]
    }
   ],
   "source": [
    "translated_counts = (\n",
    "    df.select(\"id\", \"attributes.translatedLanguage\", F.explode(\"relationships\"))\n",
    "    .select(\n",
    "        \"id\", \"translatedLanguage\", F.col(\"col.id\").alias(\"relationship_id\"), \"col.type\"\n",
    "    )\n",
    "    .where(\"type == 'manga'\")\n",
    "    .groupBy(\"translatedLanguage\")\n",
    "    .agg(\n",
    "        F.countDistinct(\"relationship_id\").alias(\"countManga\"),\n",
    "        F.count(\"*\").alias(\"countChapter\"),\n",
    "    )\n",
    "    .orderBy(\"countManga\", ascending=False)\n",
    ")\n",
    "translated_counts.show()"
   ]
  },
  {
   "cell_type": "code",
   "execution_count": 22,
   "metadata": {},
   "outputs": [],
   "source": [
    "translated_counts.toPandas().fillna(\"unknown\").to_json(\n",
    "    \"../data/processed/2022-12-16-mangadex-chapter-translated-counts.json\",\n",
    "    orient=\"records\",\n",
    ")"
   ]
  },
  {
   "cell_type": "code",
   "execution_count": 25,
   "metadata": {},
   "outputs": [
    {
     "name": "stdout",
     "output_type": "stream",
     "text": [
      "+----------------+-------+\n",
      "|            type|  count|\n",
      "+----------------+-------+\n",
      "|scanlation_group|1533191|\n",
      "|            user|1486386|\n",
      "|           manga|1488685|\n",
      "+----------------+-------+\n",
      "\n"
     ]
    }
   ],
   "source": [
    "df.select(F.explode(\"relationships\")).select(\"col.*\").groupBy(\"type\").count().show()"
   ]
  },
  {
   "cell_type": "code",
   "execution_count": 31,
   "metadata": {},
   "outputs": [
    {
     "name": "stdout",
     "output_type": "stream",
     "text": [
      "+----------------------------------------------------------+\n",
      "|relationships                                             |\n",
      "+----------------------------------------------------------+\n",
      "|{type -> user, id -> a35c2b5d-c290-4024-b4ae-de1452ff291a}|\n",
      "|{type -> user, id -> a35c2b5d-c290-4024-b4ae-de1452ff291a}|\n",
      "|{type -> user, id -> a35c2b5d-c290-4024-b4ae-de1452ff291a}|\n",
      "+----------------------------------------------------------+\n",
      "only showing top 3 rows\n",
      "\n"
     ]
    }
   ],
   "source": [
    "from manga_recsys.commands.utils import mappify_struct\n",
    "\n",
    "df.select(mappify_struct(\"relationships\").alias(\"relationships\")).show(\n",
    "    truncate=False, n=3\n",
    ")"
   ]
  },
  {
   "cell_type": "code",
   "execution_count": 38,
   "metadata": {},
   "outputs": [
    {
     "name": "stdout",
     "output_type": "stream",
     "text": [
      "root\n",
      " |-- id: string (nullable = true)\n",
      " |-- attributes: struct (nullable = true)\n",
      " |    |-- chapter: string (nullable = true)\n",
      " |    |-- createdAt: string (nullable = true)\n",
      " |    |-- externalUrl: string (nullable = true)\n",
      " |    |-- pages: long (nullable = true)\n",
      " |    |-- publishAt: string (nullable = true)\n",
      " |    |-- readableAt: string (nullable = true)\n",
      " |    |-- title: string (nullable = true)\n",
      " |    |-- translatedLanguage: string (nullable = true)\n",
      " |    |-- updatedAt: string (nullable = true)\n",
      " |    |-- version: long (nullable = true)\n",
      " |    |-- volume: string (nullable = true)\n",
      " |-- type: string (nullable = true)\n",
      " |-- relationships: struct (nullable = true)\n",
      " |    |-- manga: string (nullable = true)\n",
      " |    |-- scanlation_group: string (nullable = true)\n",
      " |    |-- user: string (nullable = true)\n",
      "\n",
      "-RECORD 0--------------------------------------------------------------------------------------------------------------------------------------------------------------------------\n",
      " id            | 15508fea-7597-4205-8384-5f44fcd63858                                                                                                                              \n",
      " attributes    | {59, 2022-07-09T00:46:20+00:00, null, 14, 2022-07-09T00:46:20+00:00, 2022-07-09T00:46:20+00:00, Gengis Khan (5), pt-br, 2022-07-09T00:46:32+00:00, 3, null}       \n",
      " type          | chapter                                                                                                                                                           \n",
      " relationships | {1389d660-b9b1-4c6a-81af-eab4dbf3f22b, a6f52ca8-d7c2-4d0c-a612-94f70d523281, cec304e4-dbe4-47b1-aa97-87afec9a201e}                                                \n",
      "-RECORD 1--------------------------------------------------------------------------------------------------------------------------------------------------------------------------\n",
      " id            | 9af3599c-4d92-4cff-b987-511e6271b80a                                                                                                                              \n",
      " attributes    | {8, 2022-07-31T19:04:02+00:00, null, 76, 2022-07-31T19:04:03+00:00, 2022-07-31T19:04:03+00:00, Petals within the Pendant, en, 2022-07-31T19:05:47+00:00, 3, null} \n",
      " type          | chapter                                                                                                                                                           \n",
      " relationships | {abbc96e8-af94-4068-adfa-4372de5c3f25, 96f98b7e-cf02-4a39-9c09-e33da9e3035e, 5e93a256-6513-4282-8633-3de757e1fd26}                                                \n",
      "-RECORD 2--------------------------------------------------------------------------------------------------------------------------------------------------------------------------\n",
      " id            | d1b90f2f-65c5-4784-82f6-b924c6847015                                                                                                                              \n",
      " attributes    | {2, 2021-02-15T13:20:17+00:00, null, 18, 2021-02-15T13:20:17+00:00, 2021-02-15T13:20:17+00:00, , id, 2021-09-27T17:46:38+00:00, 2, 1}                             \n",
      " type          | chapter                                                                                                                                                           \n",
      " relationships | {706a3219-646d-4fdd-833c-234ca616029e, 2b6589a0-5e58-4472-a3b0-9faddf79aa15, 32f6c7f7-81d3-4289-931d-569014b2f474}                                                \n",
      "only showing top 3 rows\n",
      "\n"
     ]
    }
   ],
   "source": [
    "from manga_recsys.commands.utils import pivot_relationship\n",
    "\n",
    "pivoted = pivot_relationship(df, \"relationships\")\n",
    "pivoted.printSchema()\n",
    "pivoted.show(truncate=False, n=3, vertical=True)"
   ]
  }
 ],
 "metadata": {
  "kernelspec": {
   "display_name": ".venv",
   "language": "python",
   "name": "python3"
  },
  "language_info": {
   "codemirror_mode": {
    "name": "ipython",
    "version": 3
   },
   "file_extension": ".py",
   "mimetype": "text/x-python",
   "name": "python",
   "nbconvert_exporter": "python",
   "pygments_lexer": "ipython3",
   "version": "3.10.5"
  },
  "orig_nbformat": 4,
  "vscode": {
   "interpreter": {
    "hash": "bca7b2bdba768571c0082ebd75c4aeb7591ff0a55f8644ae03b303997b530c9d"
   }
  }
 },
 "nbformat": 4,
 "nbformat_minor": 2
}
