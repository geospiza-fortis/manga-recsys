{
 "cells": [
  {
   "cell_type": "code",
   "execution_count": 1,
   "metadata": {},
   "outputs": [],
   "source": [
    "%load_ext autoreload\n",
    "%autoreload 2\n",
    "%load_ext lab_black\n",
    "from pyspark.sql import functions as F, Window\n",
    "from manga_recsys.spark import get_spark\n",
    "\n",
    "spark = get_spark()"
   ]
  },
  {
   "cell_type": "code",
   "execution_count": 2,
   "metadata": {},
   "outputs": [],
   "source": [
    "from IPython.display import display\n",
    "from manga_recsys.models.manga import get_manga_tags\n",
    "\n",
    "manga_info = spark.read.parquet(\n",
    "    \"../data/processed/2022-12-17-metadata-listing/manga_info.parquet\"\n",
    ")"
   ]
  },
  {
   "cell_type": "code",
   "execution_count": 3,
   "metadata": {},
   "outputs": [
    {
     "name": "stdout",
     "output_type": "stream",
     "text": [
      "+-------+------+\n",
      "|group  |count |\n",
      "+-------+------+\n",
      "|genre  |162147|\n",
      "|format |65332 |\n",
      "|theme  |60276 |\n",
      "|content|3886  |\n",
      "+-------+------+\n",
      "\n"
     ]
    }
   ],
   "source": [
    "manga_info.select(\"id\", F.explode(\"tags\").alias(\"tag\")).groupBy(\n",
    "    \"tag.group\"\n",
    ").count().orderBy(F.desc(\"count\")).show(100, False)"
   ]
  },
  {
   "cell_type": "code",
   "execution_count": 7,
   "metadata": {},
   "outputs": [
    {
     "name": "stdout",
     "output_type": "stream",
     "text": [
      "genre\n",
      "+-------------+-----+\n",
      "|name         |count|\n",
      "+-------------+-----+\n",
      "|Romance      |25827|\n",
      "|Comedy       |22401|\n",
      "|Drama        |19622|\n",
      "|Slice of Life|13781|\n",
      "|Fantasy      |12470|\n",
      "|Boys' Love   |11896|\n",
      "|Action       |11559|\n",
      "|Adventure    |7232 |\n",
      "|Girls' Love  |4989 |\n",
      "|Psychological|4780 |\n",
      "|Tragedy      |4103 |\n",
      "|Mystery      |4103 |\n",
      "|Historical   |3744 |\n",
      "|Sci-Fi       |3053 |\n",
      "|Horror       |2802 |\n",
      "|Isekai       |2112 |\n",
      "|Thriller     |1892 |\n",
      "|Sports       |1600 |\n",
      "|Crime        |1156 |\n",
      "|Philosophical|841  |\n",
      "|Mecha        |810  |\n",
      "|Wuxia        |365  |\n",
      "|Superhero    |359  |\n",
      "|Medical      |342  |\n",
      "|Magical Girls|308  |\n",
      "+-------------+-----+\n",
      "\n",
      "format\n",
      "+----------------+-----+\n",
      "|name            |count|\n",
      "+----------------+-----+\n",
      "|Oneshot         |14874|\n",
      "|Doujinshi       |11985|\n",
      "|Web Comic       |10328|\n",
      "|Full Color      |9369 |\n",
      "|Long Strip      |9084 |\n",
      "|Adaptation      |4225 |\n",
      "|Anthology       |1664 |\n",
      "|4-Koma          |1277 |\n",
      "|Official Colored|1211 |\n",
      "|Award Winning   |692  |\n",
      "|User Created    |531  |\n",
      "|Fan Colored     |92   |\n",
      "+----------------+-----+\n",
      "\n",
      "theme\n",
      "+-----------------+-----+\n",
      "|name             |count|\n",
      "+-----------------+-----+\n",
      "|School Life      |13235|\n",
      "|Supernatural     |9179 |\n",
      "|Magic            |2860 |\n",
      "|Martial Arts     |2453 |\n",
      "|Harem            |2389 |\n",
      "|Monsters         |2262 |\n",
      "|Demons           |1789 |\n",
      "|Crossdressing    |1762 |\n",
      "|Survival         |1730 |\n",
      "|Reincarnation    |1708 |\n",
      "|Loli             |1670 |\n",
      "|Office Workers   |1459 |\n",
      "|Animals          |1444 |\n",
      "|Military         |1361 |\n",
      "|Incest           |1238 |\n",
      "|Shota            |1203 |\n",
      "|Video Games      |1138 |\n",
      "|Delinquents      |1081 |\n",
      "|Monster Girls    |965  |\n",
      "|Genderswap       |933  |\n",
      "|Time Travel      |839  |\n",
      "|Ghosts           |755  |\n",
      "|Cooking          |755  |\n",
      "|Police           |712  |\n",
      "|Vampires         |622  |\n",
      "|Music            |608  |\n",
      "|Mafia            |586  |\n",
      "|Post-Apocalyptic |546  |\n",
      "|Aliens           |538  |\n",
      "|Reverse Harem    |459  |\n",
      "|Villainess       |415  |\n",
      "|Gyaru            |362  |\n",
      "|Samurai          |343  |\n",
      "|Zombies          |303  |\n",
      "|Virtual Reality  |226  |\n",
      "|Ninja            |215  |\n",
      "|Traditional Games|133  |\n",
      "+-----------------+-----+\n",
      "\n",
      "content\n",
      "+---------------+-----+\n",
      "|name           |count|\n",
      "+---------------+-----+\n",
      "|Sexual Violence|2103 |\n",
      "|Gore           |1783 |\n",
      "+---------------+-----+\n",
      "\n"
     ]
    }
   ],
   "source": [
    "for group in [\"genre\", \"format\", \"theme\", \"content\"]:\n",
    "    # show all the counts of tags\n",
    "    print(group)\n",
    "    (\n",
    "        manga_info.select(\"id\", F.explode(\"tags\").alias(\"tag\"))\n",
    "        .filter(F.col(\"tag.group\") == group)\n",
    "        .groupBy(\"tag.name\")\n",
    "        .count()\n",
    "        .orderBy(F.desc(\"count\"))\n",
    "        .show(100, False)\n",
    "    )"
   ]
  }
 ],
 "metadata": {
  "kernelspec": {
   "display_name": ".venv",
   "language": "python",
   "name": "python3"
  },
  "language_info": {
   "codemirror_mode": {
    "name": "ipython",
    "version": 3
   },
   "file_extension": ".py",
   "mimetype": "text/x-python",
   "name": "python",
   "nbconvert_exporter": "python",
   "pygments_lexer": "ipython3",
   "version": "3.10.5"
  },
  "orig_nbformat": 4,
  "vscode": {
   "interpreter": {
    "hash": "bca7b2bdba768571c0082ebd75c4aeb7591ff0a55f8644ae03b303997b530c9d"
   }
  }
 },
 "nbformat": 4,
 "nbformat_minor": 2
}
