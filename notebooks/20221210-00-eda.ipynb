{
 "cells": [
  {
   "cell_type": "code",
   "execution_count": 1,
   "metadata": {},
   "outputs": [],
   "source": [
    "%load_ext autoreload\n",
    "%autoreload 2\n",
    "%load_ext lab_black"
   ]
  },
  {
   "cell_type": "code",
   "execution_count": 3,
   "metadata": {},
   "outputs": [
    {
     "data": {
      "text/html": [
       "\n",
       "            <div>\n",
       "                <p><b>SparkSession - in-memory</b></p>\n",
       "                \n",
       "        <div>\n",
       "            <p><b>SparkContext</b></p>\n",
       "\n",
       "            <p><a href=\"http://DESKTOP-A3EF5O5.mshome.net:4042\">Spark UI</a></p>\n",
       "\n",
       "            <dl>\n",
       "              <dt>Version</dt>\n",
       "                <dd><code>v3.3.1</code></dd>\n",
       "              <dt>Master</dt>\n",
       "                <dd><code>local[*]</code></dd>\n",
       "              <dt>AppName</dt>\n",
       "                <dd><code>pyspark-shell</code></dd>\n",
       "            </dl>\n",
       "        </div>\n",
       "        \n",
       "            </div>\n",
       "        "
      ],
      "text/plain": [
       "<pyspark.sql.session.SparkSession at 0x222563b4a90>"
      ]
     },
     "execution_count": 3,
     "metadata": {},
     "output_type": "execute_result"
    }
   ],
   "source": [
    "from pyspark.sql import functions as F\n",
    "from manga_recsys.spark import get_spark\n",
    "\n",
    "spark = get_spark()\n",
    "spark"
   ]
  },
  {
   "cell_type": "code",
   "execution_count": 5,
   "metadata": {},
   "outputs": [
    {
     "name": "stdout",
     "output_type": "stream",
     "text": [
      "+------------------------------------+--------------------------------------------------------------------------------+-----+--------------------------------------------------------------------------------+\n",
      "|                                  id|                                                                   relationships| type|                                                                      attributes|\n",
      "+------------------------------------+--------------------------------------------------------------------------------+-----+--------------------------------------------------------------------------------+\n",
      "|6b64bfb7-8fff-4633-82e2-340cbb8bc92e|[{060503b8-a561-4dd8-8607-6524eebb90bf, null, author}, {060503b8-a561-4dd8-86...|manga|{[en], false, safe, 2021-03-12T22:52:05+00:00, false, null, null, 8b366aa0-41...|\n",
      "|4660003f-15c9-4b52-84c1-ba46c6943edf|[{a49063fb-6a3e-4a4b-a304-dc1a1198afba, null, author}, {2a1c83c6-4bfd-41bf-8e...|manga|{[en], false, safe, 2018-10-04T19:06:02+00:00, false, , , f913d687-6c46-4fdd-...|\n",
      "|699f08d0-7661-4f8e-8eb8-9718b3de1a7a|[{58ba1343-e99e-45e9-b698-4149a3d835ea, null, author}, {ca455fcc-0a2a-4fbf-bc...|manga|{[en], false, erotica, 2021-08-27T09:00:36+00:00, false, 32, , a0d65fc3-b68b-...|\n",
      "+------------------------------------+--------------------------------------------------------------------------------+-----+--------------------------------------------------------------------------------+\n",
      "only showing top 3 rows\n",
      "\n",
      "root\n",
      " |-- id: string (nullable = true)\n",
      " |-- relationships: array (nullable = true)\n",
      " |    |-- element: struct (containsNull = true)\n",
      " |    |    |-- id: string (nullable = true)\n",
      " |    |    |-- related: string (nullable = true)\n",
      " |    |    |-- type: string (nullable = true)\n",
      " |-- type: string (nullable = true)\n",
      " |-- attributes: struct (nullable = true)\n",
      " |    |-- availableTranslatedLanguages: array (nullable = true)\n",
      " |    |    |-- element: string (containsNull = true)\n",
      " |    |-- chapterNumbersResetOnNewVolume: boolean (nullable = true)\n",
      " |    |-- contentRating: string (nullable = true)\n",
      " |    |-- createdAt: string (nullable = true)\n",
      " |    |-- isLocked: boolean (nullable = true)\n",
      " |    |-- lastChapter: string (nullable = true)\n",
      " |    |-- lastVolume: string (nullable = true)\n",
      " |    |-- latestUploadedChapter: string (nullable = true)\n",
      " |    |-- originalLanguage: string (nullable = true)\n",
      " |    |-- publicationDemographic: string (nullable = true)\n",
      " |    |-- state: string (nullable = true)\n",
      " |    |-- status: string (nullable = true)\n",
      " |    |-- tags: array (nullable = true)\n",
      " |    |    |-- element: struct (containsNull = true)\n",
      " |    |    |    |-- attributes: struct (nullable = true)\n",
      " |    |    |    |    |-- group: string (nullable = true)\n",
      " |    |    |    |    |-- name: struct (nullable = true)\n",
      " |    |    |    |    |    |-- en: string (nullable = true)\n",
      " |    |    |    |    |-- version: long (nullable = true)\n",
      " |    |    |    |-- id: string (nullable = true)\n",
      " |    |    |    |-- relationships: array (nullable = true)\n",
      " |    |    |    |    |-- element: string (containsNull = true)\n",
      " |    |    |    |-- type: string (nullable = true)\n",
      " |    |-- updatedAt: string (nullable = true)\n",
      " |    |-- version: long (nullable = true)\n",
      " |    |-- year: long (nullable = true)\n",
      " |    |-- altTitles: map (nullable = true)\n",
      " |    |    |-- key: string\n",
      " |    |    |-- value: string (valueContainsNull = true)\n",
      " |    |-- description: map (nullable = true)\n",
      " |    |    |-- key: string\n",
      " |    |    |-- value: string (valueContainsNull = true)\n",
      " |    |-- links: map (nullable = true)\n",
      " |    |    |-- key: string\n",
      " |    |    |-- value: string (valueContainsNull = true)\n",
      " |    |-- title: map (nullable = true)\n",
      " |    |    |-- key: string\n",
      " |    |    |-- value: string (valueContainsNull = true)\n",
      "\n"
     ]
    }
   ],
   "source": [
    "df = spark.read.parquet(\"../data/processed/2022-12-10-mangadex-manga/\")\n",
    "df.show(n=3, truncate=80)\n",
    "df.printSchema()"
   ]
  },
  {
   "cell_type": "markdown",
   "metadata": {},
   "source": [
    "# how many tags are there"
   ]
  },
  {
   "cell_type": "code",
   "execution_count": 12,
   "metadata": {},
   "outputs": [
    {
     "name": "stdout",
     "output_type": "stream",
     "text": [
      "+------------------------------------+-------------------------+------------------------------------+-------------+----+\n",
      "|                                  id|               attributes|                                  id|relationships|type|\n",
      "+------------------------------------+-------------------------+------------------------------------+-------------+----+\n",
      "|6b64bfb7-8fff-4633-82e2-340cbb8bc92e| {genre, {Boys' Love}, 1}|5920b825-4181-4a17-beeb-9918b0ff7a30|           []| tag|\n",
      "|6b64bfb7-8fff-4633-82e2-340cbb8bc92e| {format, {Doujinshi}, 1}|b13b2a48-c720-44a9-9c77-39c9979373fb|           []| tag|\n",
      "|6b64bfb7-8fff-4633-82e2-340cbb8bc92e|{format, {Full Color}, 1}|f5ba408b-0e7a-484d-8d49-4e9125ac96de|           []| tag|\n",
      "+------------------------------------+-------------------------+------------------------------------+-------------+----+\n",
      "only showing top 3 rows\n",
      "\n",
      "root\n",
      " |-- id: string (nullable = true)\n",
      " |-- attributes: struct (nullable = true)\n",
      " |    |-- group: string (nullable = true)\n",
      " |    |-- name: struct (nullable = true)\n",
      " |    |    |-- en: string (nullable = true)\n",
      " |    |-- version: long (nullable = true)\n",
      " |-- id: string (nullable = true)\n",
      " |-- relationships: array (nullable = true)\n",
      " |    |-- element: string (containsNull = true)\n",
      " |-- type: string (nullable = true)\n",
      "\n"
     ]
    }
   ],
   "source": [
    "tags = df.select(\"id\", F.explode(\"attributes.tags\").alias(\"tags\")).select(\n",
    "    \"id\", \"tags.*\"\n",
    ")\n",
    "tags.show(n=3, truncate=80)\n",
    "tags.printSchema()"
   ]
  },
  {
   "cell_type": "code",
   "execution_count": 19,
   "metadata": {},
   "outputs": [
    {
     "name": "stdout",
     "output_type": "stream",
     "text": [
      "+-------+------+\n",
      "|  group| count|\n",
      "+-------+------+\n",
      "|  genre|162147|\n",
      "| format| 65332|\n",
      "|content|  3886|\n",
      "|  theme| 60276|\n",
      "+-------+------+\n",
      "\n"
     ]
    }
   ],
   "source": [
    "tags.groupBy(\"attributes.group\").count().show()"
   ]
  },
  {
   "cell_type": "code",
   "execution_count": 21,
   "metadata": {},
   "outputs": [
    {
     "name": "stdout",
     "output_type": "stream",
     "text": [
      "+-------------+-----+\n",
      "|           en|count|\n",
      "+-------------+-----+\n",
      "|    Anthology| 1664|\n",
      "|  Girls' Love| 4989|\n",
      "|     Monsters| 2262|\n",
      "|       Horror| 2802|\n",
      "|      Romance|25827|\n",
      "|       Comedy|22401|\n",
      "|       Ghosts|  755|\n",
      "|        Harem| 2389|\n",
      "|     Thriller| 1892|\n",
      "|Magical Girls|  308|\n",
      "|        Mecha|  810|\n",
      "|    Adventure| 7232|\n",
      "|     Military| 1361|\n",
      "|      Samurai|  343|\n",
      "|   Full Color| 9369|\n",
      "|       Isekai| 2112|\n",
      "|        Shota| 1203|\n",
      "|        Mafia|  586|\n",
      "|   Genderswap|  933|\n",
      "|        Gyaru|  362|\n",
      "+-------------+-----+\n",
      "only showing top 20 rows\n",
      "\n"
     ]
    }
   ],
   "source": [
    "tags.groupBy(\"attributes.name.en\").count().show()"
   ]
  },
  {
   "cell_type": "code",
   "execution_count": 27,
   "metadata": {},
   "outputs": [
    {
     "name": "stdout",
     "output_type": "stream",
     "text": [
      "+---+----------+---+-------------+----+\n",
      "| id|attributes| id|relationships|type|\n",
      "+---+----------+---+-------------+----+\n",
      "+---+----------+---+-------------+----+\n",
      "\n"
     ]
    }
   ],
   "source": [
    "tags.where(\"size(relationships) > 0\").show()"
   ]
  },
  {
   "cell_type": "markdown",
   "metadata": {},
   "source": [
    "## distribution of chapter counts"
   ]
  },
  {
   "cell_type": "code",
   "execution_count": 39,
   "metadata": {},
   "outputs": [
    {
     "name": "stdout",
     "output_type": "stream",
     "text": [
      "-RECORD 0----------------------------------------------------------------------------------------------------------\n",
      " id                             | 6b64bfb7-8fff-4633-82e2-340cbb8bc92e                                             \n",
      " availableTranslatedLanguages   | [en]                                                                             \n",
      " chapterNumbersResetOnNewVolume | false                                                                            \n",
      " contentRating                  | safe                                                                             \n",
      " createdAt                      | 2021-03-12T22:52:05+00:00                                                        \n",
      " isLocked                       | false                                                                            \n",
      " lastChapter                    | null                                                                             \n",
      " lastVolume                     | null                                                                             \n",
      " latestUploadedChapter          | 8b366aa0-4179-4b98-a44d-3b6a810e5759                                             \n",
      " originalLanguage               | ja                                                                               \n",
      " publicationDemographic         | josei                                                                            \n",
      " state                          | published                                                                        \n",
      " status                         | completed                                                                        \n",
      " tags                           | [{{genre, {Boys' Love}, 1}, 5920b825-4181-4a17-beeb-9918b0ff7a30, [], tag}, {... \n",
      " updatedAt                      | 2021-05-25T15:43:27+00:00                                                        \n",
      " version                        | 2                                                                                \n",
      " year                           | null                                                                             \n",
      " altTitles                      | {en -> あなたのチョコ、ちょっと頂戴。}                                           \n",
      " description                    | null                                                                             \n",
      " links                          | null                                                                             \n",
      " title                          | null                                                                             \n",
      "-RECORD 1----------------------------------------------------------------------------------------------------------\n",
      " id                             | 4660003f-15c9-4b52-84c1-ba46c6943edf                                             \n",
      " availableTranslatedLanguages   | [en]                                                                             \n",
      " chapterNumbersResetOnNewVolume | false                                                                            \n",
      " contentRating                  | safe                                                                             \n",
      " createdAt                      | 2018-10-04T19:06:02+00:00                                                        \n",
      " isLocked                       | false                                                                            \n",
      " lastChapter                    |                                                                                  \n",
      " lastVolume                     |                                                                                  \n",
      " latestUploadedChapter          | f913d687-6c46-4fdd-aa82-91a6ef8fe6f1                                             \n",
      " originalLanguage               | ja                                                                               \n",
      " publicationDemographic         | shoujo                                                                           \n",
      " state                          | published                                                                        \n",
      " status                         | completed                                                                        \n",
      " tags                           | [{{format, {Oneshot}, 1}, 0234a31e-a729-4e28-9d6a-3f87c4966b9e, [], tag}, {{g... \n",
      " updatedAt                      | 2021-12-07T14:57:16+00:00                                                        \n",
      " version                        | 3                                                                                \n",
      " year                           | null                                                                             \n",
      " altTitles                      | {en -> To You of Earth-Born, ja -> 地球生まれのあなたへ}                         \n",
      " description                    | null                                                                             \n",
      " links                          | null                                                                             \n",
      " title                          | null                                                                             \n",
      "-RECORD 2----------------------------------------------------------------------------------------------------------\n",
      " id                             | 699f08d0-7661-4f8e-8eb8-9718b3de1a7a                                             \n",
      " availableTranslatedLanguages   | [en]                                                                             \n",
      " chapterNumbersResetOnNewVolume | false                                                                            \n",
      " contentRating                  | erotica                                                                          \n",
      " createdAt                      | 2021-08-27T09:00:36+00:00                                                        \n",
      " isLocked                       | false                                                                            \n",
      " lastChapter                    | 32                                                                               \n",
      " lastVolume                     |                                                                                  \n",
      " latestUploadedChapter          | a0d65fc3-b68b-4880-bedd-3c1284143f4d                                             \n",
      " originalLanguage               | zh                                                                               \n",
      " publicationDemographic         | shoujo                                                                           \n",
      " state                          | published                                                                        \n",
      " status                         | cancelled                                                                        \n",
      " tags                           | [{{format, {Long Strip}, 1}, 3e2b8dae-350e-4ab8-a8ce-016e844b9f0d, [], tag}, ... \n",
      " updatedAt                      | 2022-03-15T17:56:58+00:00                                                        \n",
      " version                        | 5                                                                                \n",
      " year                           | 2021                                                                             \n",
      " altTitles                      | {en -> I Won't Fall in Love With My Contract Girlfriend, zh-ro -> Wo Cai Bu H... \n",
      " description                    | null                                                                             \n",
      " links                          | null                                                                             \n",
      " title                          | null                                                                             \n",
      "only showing top 3 rows\n",
      "\n"
     ]
    }
   ],
   "source": [
    "manga = df.select(\"id\", \"attributes.*\").where(\"latestUploadedChapter is not null\")\n",
    "\n",
    "manga.show(n=3, truncate=80, vertical=True)"
   ]
  },
  {
   "cell_type": "code",
   "execution_count": 47,
   "metadata": {},
   "outputs": [],
   "source": [
    "pdf = manga.select(F.col(\"lastChapter\").cast(\"double\")).toPandas()"
   ]
  },
  {
   "cell_type": "code",
   "execution_count": 81,
   "metadata": {},
   "outputs": [
    {
     "data": {
      "image/png": "[encoded data removed]",
      "text/plain": [
       "<Figure size 640x480 with 1 Axes>"
      ]
     },
     "metadata": {},
     "output_type": "display_data"
    }
   ],
   "source": [
    "import matplotlib.pyplot as plt\n",
    "import numpy as np\n",
    "\n",
    "y = pdf.lastChapter[(pdf.lastChapter < 400)]\n",
    "y[~(y > 0)] = 0\n",
    "plt.hist(np.log(y + 1), bins=20)\n",
    "plt.title(\"histogram of log of reported last chapter\")\n",
    "plt.show()"
   ]
  }
 ],
 "metadata": {
  "kernelspec": {
   "display_name": "Python 3.10.5 ('.venv': poetry)",
   "language": "python",
   "name": "python3"
  },
  "language_info": {
   "codemirror_mode": {
    "name": "ipython",
    "version": 3
   },
   "file_extension": ".py",
   "mimetype": "text/x-python",
   "name": "python",
   "nbconvert_exporter": "python",
   "pygments_lexer": "ipython3",
   "version": "3.10.5"
  },
  "orig_nbformat": 4,
  "vscode": {
   "interpreter": {
    "hash": "bca7b2bdba768571c0082ebd75c4aeb7591ff0a55f8644ae03b303997b530c9d"
   }
  }
 },
 "nbformat": 4,
 "nbformat_minor": 2
}
