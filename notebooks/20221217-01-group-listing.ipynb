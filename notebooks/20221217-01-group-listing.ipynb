{
 "cells": [
  {
   "attachments": {},
   "cell_type": "markdown",
   "metadata": {},
   "source": [
    "# group listing\n",
    "\n",
    "This notebook is to figure out what metadata that we'd like to show for group recommendations.\n",
    "Given a group, what are other similar group?\n",
    "In addition, given a group, what are the manga that they've translated?\n",
    "And finally, given a group, what are some similar manga that they might translate?"
   ]
  },
  {
   "cell_type": "code",
   "execution_count": 38,
   "metadata": {},
   "outputs": [
    {
     "name": "stdout",
     "output_type": "stream",
     "text": [
      "The autoreload extension is already loaded. To reload it, use:\n",
      "  %reload_ext autoreload\n",
      "The lab_black extension is already loaded. To reload it, use:\n",
      "  %reload_ext lab_black\n"
     ]
    }
   ],
   "source": [
    "%load_ext autoreload\n",
    "%autoreload 2\n",
    "%load_ext lab_black\n",
    "from pyspark.sql import functions as F, Window\n",
    "from manga_recsys.spark import get_spark\n",
    "\n",
    "spark = get_spark()"
   ]
  },
  {
   "cell_type": "code",
   "execution_count": 2,
   "metadata": {},
   "outputs": [
    {
     "name": "stdout",
     "output_type": "stream",
     "text": [
      "root\n",
      " |-- attributes: struct (nullable = true)\n",
      " |    |-- altNames: array (nullable = true)\n",
      " |    |    |-- element: struct (containsNull = true)\n",
      " |    |    |    |-- en: string (nullable = true)\n",
      " |    |-- contactEmail: string (nullable = true)\n",
      " |    |-- createdAt: string (nullable = true)\n",
      " |    |-- description: string (nullable = true)\n",
      " |    |-- discord: string (nullable = true)\n",
      " |    |-- focusedLanguages: array (nullable = true)\n",
      " |    |    |-- element: string (containsNull = true)\n",
      " |    |-- inactive: boolean (nullable = true)\n",
      " |    |-- ircChannel: string (nullable = true)\n",
      " |    |-- ircServer: string (nullable = true)\n",
      " |    |-- locked: boolean (nullable = true)\n",
      " |    |-- mangaUpdates: string (nullable = true)\n",
      " |    |-- name: string (nullable = true)\n",
      " |    |-- official: boolean (nullable = true)\n",
      " |    |-- publishDelay: string (nullable = true)\n",
      " |    |-- twitter: string (nullable = true)\n",
      " |    |-- updatedAt: string (nullable = true)\n",
      " |    |-- verified: boolean (nullable = true)\n",
      " |    |-- version: long (nullable = true)\n",
      " |    |-- website: string (nullable = true)\n",
      " |-- id: string (nullable = true)\n",
      " |-- relationships: array (nullable = true)\n",
      " |    |-- element: struct (containsNull = true)\n",
      " |    |    |-- id: string (nullable = true)\n",
      " |    |    |-- type: string (nullable = true)\n",
      " |-- type: string (nullable = true)\n",
      "\n"
     ]
    }
   ],
   "source": [
    "group = spark.read.parquet(\"../data/processed/2022-12-17-mangadex-group.parquet\")\n",
    "group.printSchema()"
   ]
  },
  {
   "cell_type": "code",
   "execution_count": 16,
   "metadata": {},
   "outputs": [
    {
     "name": "stdout",
     "output_type": "stream",
     "text": [
      "+------------------------------------+-------------------+\n",
      "|group_id                            |group_name         |\n",
      "+------------------------------------+-------------------+\n",
      "|c6931ee7-b4cd-44da-a52b-c8d1a90db4d2|LaSecteDuScan      |\n",
      "|3eef1981-4ab5-434c-a13a-8128351447b7|Alive Scans        |\n",
      "|145f9110-0a6c-4b71-8737-6acb1a3c5da4|Unknown            |\n",
      "|7f4ea5d0-6af4-48a4-b56c-c7240668096b|Effortposting Scans|\n",
      "|c1a3aadb-8b80-4456-93b7-68ba90f819ce|Saikai Scan        |\n",
      "+------------------------------------+-------------------+\n",
      "only showing top 5 rows\n",
      "\n"
     ]
    }
   ],
   "source": [
    "group_names = group.select(\n",
    "    F.col(\"id\").alias(\"group_id\"), F.col(\"attributes.name\").alias(\"group_name\")\n",
    ")\n",
    "group_names.show(5, False)"
   ]
  },
  {
   "attachments": {},
   "cell_type": "markdown",
   "metadata": {},
   "source": [
    "Try to find all the manga that a group has scanned."
   ]
  },
  {
   "cell_type": "code",
   "execution_count": 28,
   "metadata": {},
   "outputs": [],
   "source": [
    "manga = spark.read.parquet(\"../data/processed/2022-12-10-mangadex-manga.parquet\")"
   ]
  },
  {
   "cell_type": "code",
   "execution_count": 43,
   "metadata": {},
   "outputs": [
    {
     "name": "stdout",
     "output_type": "stream",
     "text": [
      "+------------------------------------+-------------------------------------------------------+\n",
      "|id                                  |relationship                                           |\n",
      "+------------------------------------+-------------------------------------------------------+\n",
      "|6b64bfb7-8fff-4633-82e2-340cbb8bc92e|{060503b8-a561-4dd8-8607-6524eebb90bf, null, author}   |\n",
      "|6b64bfb7-8fff-4633-82e2-340cbb8bc92e|{060503b8-a561-4dd8-8607-6524eebb90bf, null, artist}   |\n",
      "|6b64bfb7-8fff-4633-82e2-340cbb8bc92e|{ebcc4898-8a52-4fb5-b3f9-53983c699fe6, null, cover_art}|\n",
      "|4660003f-15c9-4b52-84c1-ba46c6943edf|{a49063fb-6a3e-4a4b-a304-dc1a1198afba, null, author}   |\n",
      "|4660003f-15c9-4b52-84c1-ba46c6943edf|{2a1c83c6-4bfd-41bf-8e76-2e0917ea3a64, null, artist}   |\n",
      "+------------------------------------+-------------------------------------------------------+\n",
      "only showing top 5 rows\n",
      "\n",
      "+---------+-----+\n",
      "|     type|count|\n",
      "+---------+-----+\n",
      "|   artist|80287|\n",
      "|    manga|25689|\n",
      "|cover_art|65690|\n",
      "|   author|82443|\n",
      "+---------+-----+\n",
      "\n",
      "+------------------------------------+----+-----------------------------------------------+\n",
      "|manga_id                            |lang|name                                           |\n",
      "+------------------------------------+----+-----------------------------------------------+\n",
      "|6b64bfb7-8fff-4633-82e2-340cbb8bc92e|en  |Anata no Chocolate Chotto Kudasi               |\n",
      "|4660003f-15c9-4b52-84c1-ba46c6943edf|en  |Chikyuu Umare no Anata e                       |\n",
      "|699f08d0-7661-4f8e-8eb8-9718b3de1a7a|en  |I Will ~Not~ Fall for My Contractual Girlfriend|\n",
      "|4d28747e-513b-4fd2-b400-236afc540731|en  |Accelerando                                    |\n",
      "|4c64f461-8562-44f3-a13f-aea2a0382d63|en  |Null Meta                                      |\n",
      "+------------------------------------+----+-----------------------------------------------+\n",
      "only showing top 5 rows\n",
      "\n",
      "+-----+-----+----+\n",
      "|lang |count|rank|\n",
      "+-----+-----+----+\n",
      "|en   |65410|1   |\n",
      "|ja   |240  |2   |\n",
      "|zh-hk|27   |3   |\n",
      "|ja-ro|21   |4   |\n",
      "|ko   |15   |5   |\n",
      "+-----+-----+----+\n",
      "only showing top 5 rows\n",
      "\n",
      "+--------------------+--------------------+-----+\n",
      "|            manga_id|                name| lang|\n",
      "+--------------------+--------------------+-----+\n",
      "|014cc30b-d045-4f8...|Aohada Kyonyuu to...|   ja|\n",
      "|1fd19c93-63a8-4f5...|Haikyuu!! - Kimi ...|   ja|\n",
      "|20955860-d323-4ff...|(PROMO) The Retur...|   ko|\n",
      "|28b5d896-7dfe-4ff...|Tsuka no Ma no Ic...|   ja|\n",
      "|295151d5-771a-4f8...|Yuru Fuwa Kouhai-...|   ja|\n",
      "|2abf7c79-f861-4fa...|      Dear My Master|   ja|\n",
      "|2c1ed50a-4bbb-4f6...|     Dragon Prisoner|   zh|\n",
      "|333b7791-cf1f-4fe...|Koi wa Sodatte Ai...|   ja|\n",
      "|36e01733-448f-4f0...|Peerless Martial ...|   zh|\n",
      "|3a6977cb-3494-4f9...|\"Oppai Momitai\" t...|   ja|\n",
      "|409399cc-64b3-4f9...|Yasashiku Nanka D...|   ja|\n",
      "|4377bbfe-5171-4ff...|Doko Made mo Kimi...|zh-hk|\n",
      "|4e0ab019-afcb-4fd...|Toaru Kagaku no M...|   ja|\n",
      "|4e84b064-311e-4fa...|Yankee Akuyaku Re...|   ja|\n",
      "|51b8c042-d94c-4fb...|Tada no Doukyonin...|   ja|\n",
      "|54202943-b55d-45a...|Sasaki to pii-cha...|   jp|\n",
      "|5ac45000-7df6-4fb...|  Absolute Resonance|   zh|\n",
      "|5b739420-6ce9-4f4...|Strictly Professi...|   ja|\n",
      "|5e38ec22-42f6-4fb...|                JANE|   ja|\n",
      "|5ef9ff77-cb49-4ff...|    Dear My Universe|   ko|\n",
      "+--------------------+--------------------+-----+\n",
      "only showing top 20 rows\n",
      "\n"
     ]
    }
   ],
   "source": [
    "manga_relationships = manga.select(\n",
    "    \"id\", F.explode(\"relationships\").alias(\"relationship\")\n",
    ")\n",
    "manga_relationships.show(5, False)\n",
    "manga_relationships.groupBy(\"relationship.type\").count().show()\n",
    "\n",
    "# what is the most common manga name type?\n",
    "\n",
    "manga_name_lang = manga.select(\n",
    "    F.col(\"id\").alias(\"manga_id\"), F.explode(\"attributes.title\").alias(\"lang\", \"name\")\n",
    ")\n",
    "manga_name_lang.show(5, False)\n",
    "\n",
    "lang_ordered = (\n",
    "    manga_name_lang.groupBy(\"lang\")\n",
    "    .count()\n",
    "    .orderBy(F.desc(\"count\"))\n",
    "    .withColumn(\"rank\", F.row_number().over(Window.orderBy(F.desc(\"count\"))))\n",
    ")\n",
    "lang_ordered.show(5, False)\n",
    "\n",
    "# take the language for each manga that has the lowest rank\n",
    "manga_name = (\n",
    "    manga_name_lang.join(lang_ordered, \"lang\")\n",
    "    .withColumn(\n",
    "        \"manga_lang_rank\",\n",
    "        F.row_number().over(Window.partitionBy(\"manga_id\").orderBy(\"rank\")),\n",
    "    )\n",
    "    .filter(F.col(\"manga_lang_rank\") == 1)\n",
    "    .select(\"manga_id\", \"name\", \"lang\")\n",
    ")\n",
    "manga_name.where(\"lang <> 'en'\").show()"
   ]
  },
  {
   "cell_type": "code",
   "execution_count": 12,
   "metadata": {},
   "outputs": [],
   "source": [
    "chapter = spark.read.parquet(\"../data/processed/2022-12-16-mangadex-chapter.parquet\")"
   ]
  },
  {
   "cell_type": "code",
   "execution_count": 44,
   "metadata": {},
   "outputs": [
    {
     "name": "stdout",
     "output_type": "stream",
     "text": [
      "+------------------------------------+------------------------------------+------------------------------------+\n",
      "|chapter_id                          |group_id                            |manga_id                            |\n",
      "+------------------------------------+------------------------------------+------------------------------------+\n",
      "|0002870f-2597-4b04-84d6-a1f4266f2b9d|c6931ee7-b4cd-44da-a52b-c8d1a90db4d2|44e60bff-ca42-4f5d-9730-b556854a0077|\n",
      "|0002c873-7652-461e-944e-e544e18424bb|3eef1981-4ab5-434c-a13a-8128351447b7|371a7405-bee1-402c-b0d7-74ea3fb4d587|\n",
      "|0005d1a2-2492-4752-bd84-fdec525988c8|145f9110-0a6c-4b71-8737-6acb1a3c5da4|350960aa-06ad-428d-ab00-1091a230a70f|\n",
      "|00075450-2506-436d-b39c-829483d9c536|7f4ea5d0-6af4-48a4-b56c-c7240668096b|c12bded1-f4d1-43e9-8d02-83a62ce78db9|\n",
      "|0007f58f-40c8-4637-97c6-ada252ac62e5|c1a3aadb-8b80-4456-93b7-68ba90f819ce|b9f8de37-18bc-4932-8793-7313cc3061c1|\n",
      "+------------------------------------+------------------------------------+------------------------------------+\n",
      "only showing top 5 rows\n",
      "\n"
     ]
    }
   ],
   "source": [
    "chapter_groups = chapter.select(\n",
    "    F.col(\"id\").alias(\"chapter_id\"),\n",
    "    F.col(\"relationships.scanlation_group\").alias(\"group_id\"),\n",
    "    F.col(\"relationships.manga\").alias(\"manga_id\"),\n",
    ")\n",
    "chapter_groups.show(5, False)"
   ]
  },
  {
   "cell_type": "code",
   "execution_count": 48,
   "metadata": {},
   "outputs": [
    {
     "name": "stdout",
     "output_type": "stream",
     "text": [
      "-RECORD 0---------------------------------------------\n",
      " manga_id      | af54d2db-ee64-4f77-afd2-90ed23334dc2 \n",
      " group_id      | 1cc47109-9777-420c-994c-a497d3c4fbac \n",
      " group_name    | Henka no Kaze                        \n",
      " name          | Kare wa, Ano Ko no Mono              \n",
      " lang          | en                                   \n",
      " chapter_count | 4                                    \n",
      "-RECORD 1---------------------------------------------\n",
      " manga_id      | c914a502-c30a-4324-9003-4207ec32b07c \n",
      " group_id      | 07ec9f2d-7961-4b38-92be-1eb2fca5a461 \n",
      " group_name    | Lion's Ridge                         \n",
      " name          | Reform with no Wasted Draws          \n",
      " lang          | en                                   \n",
      " chapter_count | 68                                   \n",
      "-RECORD 2---------------------------------------------\n",
      " manga_id      | 19daf6ef-6d95-46e5-9e1a-f4e5b655902f \n",
      " group_id      | ddd2776a-c49e-41ec-8f01-7fc5a98d21cf \n",
      " group_name    | Eleven Scanlator                     \n",
      " name          | Lily                                 \n",
      " lang          | en                                   \n",
      " chapter_count | 50                                   \n",
      "only showing top 3 rows\n",
      "\n"
     ]
    }
   ],
   "source": [
    "group_manga = group_names.join(chapter_groups, \"group_id\").join(manga_name, \"manga_id\")\n",
    "group_manga = group_manga.groupBy(\n",
    "    *[c for c in group_manga.columns if c != \"chapter_id\"]\n",
    ").agg(F.countDistinct(\"chapter_id\").alias(\"chapter_count\"))\n",
    "group_manga.show(3, False, True)"
   ]
  },
  {
   "cell_type": "code",
   "execution_count": 51,
   "metadata": {},
   "outputs": [
    {
     "name": "stdout",
     "output_type": "stream",
     "text": [
      "+------------------------------------+----------------+--------------+-----------+\n",
      "|group_id                            |group_name      |total_chapters|manga_count|\n",
      "+------------------------------------+----------------+--------------+-----------+\n",
      "|aed39467-d5f8-4212-83ca-7e82586324c7|Outerworld Scans|565           |30         |\n",
      "|a07f801d-599f-47c4-bb7a-df943863b86b|Psylocke Scans  |812           |107        |\n",
      "|c236e525-e38f-4fa5-86a8-dd23a6771d63|Giant Ethicist  |531           |16         |\n",
      "|3cba2871-3446-484b-980e-e8e645b55695|Blissful Sin    |470           |95         |\n",
      "|a72210da-c862-4587-a10b-e302d6a4463a|Kusoshop        |23            |2          |\n",
      "+------------------------------------+----------------+--------------+-----------+\n",
      "only showing top 5 rows\n",
      "\n"
     ]
    }
   ],
   "source": [
    "group_summary = group_manga.groupBy(\"group_id\", \"group_name\").agg(\n",
    "    F.countDistinct(\"manga_id\").alias(\"manga_count\"),\n",
    "    F.sum(\"chapter_count\").alias(\"total_chapters\"),\n",
    ")\n",
    "group_summary.show(5, False)"
   ]
  }
 ],
 "metadata": {
  "kernelspec": {
   "display_name": ".venv",
   "language": "python",
   "name": "python3"
  },
  "language_info": {
   "codemirror_mode": {
    "name": "ipython",
    "version": 3
   },
   "file_extension": ".py",
   "mimetype": "text/x-python",
   "name": "python",
   "nbconvert_exporter": "python",
   "pygments_lexer": "ipython3",
   "version": "3.10.5 (tags/v3.10.5:f377153, Jun  6 2022, 16:14:13) [MSC v.1929 64 bit (AMD64)]"
  },
  "orig_nbformat": 4,
  "vscode": {
   "interpreter": {
    "hash": "bca7b2bdba768571c0082ebd75c4aeb7591ff0a55f8644ae03b303997b530c9d"
   }
  }
 },
 "nbformat": 4,
 "nbformat_minor": 2
}
