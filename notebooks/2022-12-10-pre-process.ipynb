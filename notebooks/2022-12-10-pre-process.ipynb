{
 "cells": [
  {
   "cell_type": "code",
   "execution_count": 1,
   "metadata": {},
   "outputs": [],
   "source": [
    "%load_ext lab_black"
   ]
  },
  {
   "cell_type": "code",
   "execution_count": 2,
   "metadata": {},
   "outputs": [
    {
     "data": {
      "text/html": [
       "\n",
       "            <div>\n",
       "                <p><b>SparkSession - in-memory</b></p>\n",
       "                \n",
       "        <div>\n",
       "            <p><b>SparkContext</b></p>\n",
       "\n",
       "            <p><a href=\"http://DESKTOP-A3EF5O5.mshome.net:4040\">Spark UI</a></p>\n",
       "\n",
       "            <dl>\n",
       "              <dt>Version</dt>\n",
       "                <dd><code>v3.3.1</code></dd>\n",
       "              <dt>Master</dt>\n",
       "                <dd><code>local[*]</code></dd>\n",
       "              <dt>AppName</dt>\n",
       "                <dd><code>pyspark-shell</code></dd>\n",
       "            </dl>\n",
       "        </div>\n",
       "        \n",
       "            </div>\n",
       "        "
      ],
      "text/plain": [
       "<pyspark.sql.session.SparkSession at 0x169fa9c48e0>"
      ]
     },
     "execution_count": 2,
     "metadata": {},
     "output_type": "execute_result"
    }
   ],
   "source": [
    "from pyspark.sql import SparkSession, functions as F\n",
    "import os\n",
    "import sys\n",
    "\n",
    "os.environ[\"PYSPARK_PYTHON\"] = sys.executable\n",
    "os.environ[\"PYSPARK_DRIVER_PYTHON\"] = sys.executable\n",
    "\n",
    "# set the total amount of memory to 24gb\n",
    "spark = (\n",
    "    SparkSession.builder.config(\"spark.driver.memory\", \"6g\")\n",
    "    .config(\"spark.driver.cores\", 8)\n",
    "    .config(\"spark.sql.shuffle.partitions\", 64)\n",
    "    .config(\"spark.sql.execution.arrow.pyspark.enabled\", \"true\")\n",
    "    .getOrCreate()\n",
    ")\n",
    "spark"
   ]
  },
  {
   "cell_type": "code",
   "execution_count": 3,
   "metadata": {},
   "outputs": [
    {
     "name": "stdout",
     "output_type": "stream",
     "text": [
      "{\"id\": \"84af2e9d-2838-40d0-b796-3c08f18e806b\", \"type\": \"manga\", \"attributes\": {\"title\": {\"en\": \"Shibaraku\"}, \"altTitles\": [{\"ja\": \"\\u30b7\\u30d0\\u30e9\\u30af\"}, {\"it\": \"Shiba Raku\"}], \"description\": {}, \"isLocked\": false, \"links\": {\"al\": \"76226\", \"ap\": \"shibaraku\", \"kt\": \"shibaraku\", \"mu\": \"48281\", \"mal\": \"46226\"}, \"originalLanguage\": \"ja\", \"lastVolume\": \"2\", \"lastChapter\": \"\", \"publicationDemographic\": null, \"status\": \"completed\", \"year\": 2009, \"contentRating\": \"suggestive\", \"tags\": [], \"state\": \"published\", \"chapterNumbersResetOnNewVolume\": false, \"createdAt\": \"2022-08-31T11:14:19+00:00\", \"updatedAt\": \"2022-09-28T19:20:29+00:00\", \"version\": 4, \"availableTranslatedLanguages\": [], \"latestUploadedChapter\": null}, \"relationships\": [{\"id\": \"4bba09c3-40c4-4cd6-9089-c47f73d5e1eb\", \"type\": \"author\"}, {\"id\": \"4bba09c3-40c4-4cd6-9089-c47f73d5e1eb\", \"type\": \"artist\"}, {\"id\": \"6e663bb1-cade-4868-a0fd-fdee1768901f\", \"type\": \"cover_art\"}]}\n"
     ]
    }
   ],
   "source": [
    "! cat ../data/raw/2022-12-10-mangadex-manga.ndjson | head -n 1"
   ]
  },
  {
   "cell_type": "code",
   "execution_count": 4,
   "metadata": {},
   "outputs": [
    {
     "name": "stdout",
     "output_type": "stream",
     "text": [
      "+--------------------------------------------------------------------------------+\n",
      "|                                                                           value|\n",
      "+--------------------------------------------------------------------------------+\n",
      "|{\"id\": \"84af2e9d-2838-40d0-b796-3c08f18e806b\", \"type\": \"manga\", \"attributes\":...|\n",
      "|{\"id\": \"84b659e3-7408-462d-bb35-8aeb6ed427a1\", \"type\": \"manga\", \"attributes\":...|\n",
      "|{\"id\": \"84c7d300-80fc-4f31-99da-5833ebdc842a\", \"type\": \"manga\", \"attributes\":...|\n",
      "+--------------------------------------------------------------------------------+\n",
      "only showing top 3 rows\n",
      "\n"
     ]
    }
   ],
   "source": [
    "raw = spark.read.text(\"../data/raw/2022-12-10-mangadex-manga.ndjson\")\n",
    "raw.show(truncate=80, n=3)"
   ]
  },
  {
   "cell_type": "code",
   "execution_count": 5,
   "metadata": {},
   "outputs": [
    {
     "data": {
      "text/plain": [
       "['{\"id\": \"84af2e9d-2838-40d0-b796-3c08f18e806b\", \"type\": \"manga\", \"attributes\": {\"title\": {\"en\": \"Shibaraku\"}, \"altTitles\": [{\"ja\": \"\\\\u30b7\\\\u30d0\\\\u30e9\\\\u30af\"}, {\"it\": \"Shiba Raku\"}], \"description\": {}, \"isLocked\": false, \"links\": {\"al\": \"76226\", \"ap\": \"shibaraku\", \"kt\": \"shibaraku\", \"mu\": \"48281\", \"mal\": \"46226\"}, \"originalLanguage\": \"ja\", \"lastVolume\": \"2\", \"lastChapter\": \"\", \"publicationDemographic\": null, \"status\": \"completed\", \"year\": 2009, \"contentRating\": \"suggestive\", \"tags\": [], \"state\": \"published\", \"chapterNumbersResetOnNewVolume\": false, \"createdAt\": \"2022-08-31T11:14:19+00:00\", \"updatedAt\": \"2022-09-28T19:20:29+00:00\", \"version\": 4, \"availableTranslatedLanguages\": [], \"latestUploadedChapter\": null}, \"relationships\": [{\"id\": \"4bba09c3-40c4-4cd6-9089-c47f73d5e1eb\", \"type\": \"author\"}, {\"id\": \"4bba09c3-40c4-4cd6-9089-c47f73d5e1eb\", \"type\": \"artist\"}, {\"id\": \"6e663bb1-cade-4868-a0fd-fdee1768901f\", \"type\": \"cover_art\"}]}']"
      ]
     },
     "execution_count": 5,
     "metadata": {},
     "output_type": "execute_result"
    }
   ],
   "source": [
    "raw.limit(1).rdd.map(lambda r: r.value).collect()"
   ]
  },
  {
   "cell_type": "code",
   "execution_count": 6,
   "metadata": {},
   "outputs": [
    {
     "name": "stdout",
     "output_type": "stream",
     "text": [
      "+----------------------+--------------------+--------------------+-----+\n",
      "|            attributes|                  id|       relationships| type|\n",
      "+----------------------+--------------------+--------------------+-----+\n",
      "|{[{null, null, シバ...|84af2e9d-2838-40d...|[{4bba09c3-40c4-4...|manga|\n",
      "|  {[{Imperfect Love...|84b659e3-7408-462...|[{085a74c6-7ba4-4...|manga|\n",
      "|  {[{Never LAN Chro...|84c7d300-80fc-4f3...|[{0b365f12-8342-4...|manga|\n",
      "|  {[], [en], false,...|84d1ca67-ba97-45b...|[{7d3f812a-70c6-4...|manga|\n",
      "|  {[{null, null, La...|84df5379-58d6-4f3...|[{1fccd549-0b48-4...|manga|\n",
      "|  {[{(Kouroumu 5) F...|84e13f9b-1e9b-4a2...|[{621a6a40-b6b7-4...|manga|\n",
      "|  {[{Shunkan x Hero...|84e70b38-9586-416...|[{615cdabb-9f3c-4...|manga|\n",
      "|  {[{null, null, nu...|84ec8c63-a314-458...|[{96ab34b5-8061-4...|manga|\n",
      "|  {[{Devil☆Clutch, ...|84f5df21-8cc4-44f...|[{6f2b9c03-40c3-4...|manga|\n",
      "|  {[{The Witch from...|850fd66f-e9cc-444...|[{5e79d2d7-b506-4...|manga|\n",
      "+----------------------+--------------------+--------------------+-----+\n",
      "\n",
      "root\n",
      " |-- attributes: struct (nullable = true)\n",
      " |    |-- altTitles: array (nullable = true)\n",
      " |    |    |-- element: struct (containsNull = true)\n",
      " |    |    |    |-- en: string (nullable = true)\n",
      " |    |    |    |-- it: string (nullable = true)\n",
      " |    |    |    |-- ja: string (nullable = true)\n",
      " |    |    |    |-- ko: string (nullable = true)\n",
      " |    |    |    |-- ru: string (nullable = true)\n",
      " |    |-- availableTranslatedLanguages: array (nullable = true)\n",
      " |    |    |-- element: string (containsNull = true)\n",
      " |    |-- chapterNumbersResetOnNewVolume: boolean (nullable = true)\n",
      " |    |-- contentRating: string (nullable = true)\n",
      " |    |-- createdAt: string (nullable = true)\n",
      " |    |-- description: struct (nullable = true)\n",
      " |    |    |-- en: string (nullable = true)\n",
      " |    |    |-- ru: string (nullable = true)\n",
      " |    |-- isLocked: boolean (nullable = true)\n",
      " |    |-- lastChapter: string (nullable = true)\n",
      " |    |-- lastVolume: string (nullable = true)\n",
      " |    |-- latestUploadedChapter: string (nullable = true)\n",
      " |    |-- links: struct (nullable = true)\n",
      " |    |    |-- al: string (nullable = true)\n",
      " |    |    |-- amz: string (nullable = true)\n",
      " |    |    |-- ap: string (nullable = true)\n",
      " |    |    |-- bw: string (nullable = true)\n",
      " |    |    |-- ebj: string (nullable = true)\n",
      " |    |    |-- engtl: string (nullable = true)\n",
      " |    |    |-- kt: string (nullable = true)\n",
      " |    |    |-- mal: string (nullable = true)\n",
      " |    |    |-- mu: string (nullable = true)\n",
      " |    |    |-- raw: string (nullable = true)\n",
      " |    |-- originalLanguage: string (nullable = true)\n",
      " |    |-- publicationDemographic: string (nullable = true)\n",
      " |    |-- state: string (nullable = true)\n",
      " |    |-- status: string (nullable = true)\n",
      " |    |-- tags: array (nullable = true)\n",
      " |    |    |-- element: struct (containsNull = true)\n",
      " |    |    |    |-- attributes: struct (nullable = true)\n",
      " |    |    |    |    |-- group: string (nullable = true)\n",
      " |    |    |    |    |-- name: struct (nullable = true)\n",
      " |    |    |    |    |    |-- en: string (nullable = true)\n",
      " |    |    |    |    |-- version: long (nullable = true)\n",
      " |    |    |    |-- id: string (nullable = true)\n",
      " |    |    |    |-- relationships: array (nullable = true)\n",
      " |    |    |    |    |-- element: string (containsNull = true)\n",
      " |    |    |    |-- type: string (nullable = true)\n",
      " |    |-- title: struct (nullable = true)\n",
      " |    |    |-- en: string (nullable = true)\n",
      " |    |-- updatedAt: string (nullable = true)\n",
      " |    |-- version: long (nullable = true)\n",
      " |    |-- year: long (nullable = true)\n",
      " |-- id: string (nullable = true)\n",
      " |-- relationships: array (nullable = true)\n",
      " |    |-- element: struct (containsNull = true)\n",
      " |    |    |-- id: string (nullable = true)\n",
      " |    |    |-- type: string (nullable = true)\n",
      " |-- type: string (nullable = true)\n",
      "\n"
     ]
    }
   ],
   "source": [
    "test = spark.read.json(raw.limit(10).rdd.map(lambda r: r.value))\n",
    "test.show()\n",
    "test.printSchema()"
   ]
  },
  {
   "cell_type": "code",
   "execution_count": 54,
   "metadata": {},
   "outputs": [],
   "source": [
    "df = (\n",
    "    spark.read.json(raw.rdd.map(lambda r: r.value))\n",
    "    .repartition(spark.sparkContext.defaultParallelism * 2)\n",
    "    .cache()\n",
    ")"
   ]
  },
  {
   "cell_type": "code",
   "execution_count": 83,
   "metadata": {},
   "outputs": [
    {
     "name": "stdout",
     "output_type": "stream",
     "text": [
      "+------------------------------------+-----------------------------------------------------------------+\n",
      "|                                  id|                                             attributes.altTitles|\n",
      "+------------------------------------+-----------------------------------------------------------------+\n",
      "|850fd66f-e9cc-4448-99d3-ae0d3232dffe|   {en -> The Witch from Falling Star Hill, ja -> 星降る丘の魔女}|\n",
      "|66ed626c-a40c-4fc8-b351-e1a400a9f99c|                             {en -> More Edgy Sasuke's childhood}|\n",
      "|85cff8c4-a2a8-484b-987d-6a7f781df431|                                             {en -> 百合男子くん}|\n",
      "|46de95a1-398a-42c7-a35f-4f7370d36cd4|{zh-hk -> 時代大姐大, zh -> 时代大姐大, ja -> いよっおみっちゃん}|\n",
      "+------------------------------------+-----------------------------------------------------------------+\n",
      "only showing top 4 rows\n",
      "\n",
      "+------------------------------------+-----------------------------------------------------------------+\n",
      "|                                  id|                                             attributes.altTitles|\n",
      "+------------------------------------+-----------------------------------------------------------------+\n",
      "|850fd66f-e9cc-4448-99d3-ae0d3232dffe|   {en -> The Witch from Falling Star Hill, ja -> 星降る丘の魔女}|\n",
      "|66ed626c-a40c-4fc8-b351-e1a400a9f99c|                             {en -> More Edgy Sasuke's childhood}|\n",
      "|85cff8c4-a2a8-484b-987d-6a7f781df431|                                             {en -> 百合男子くん}|\n",
      "|46de95a1-398a-42c7-a35f-4f7370d36cd4|{zh-hk -> 時代大姐大, zh -> 时代大姐大, ja -> いよっおみっちゃん}|\n",
      "+------------------------------------+-----------------------------------------------------------------+\n",
      "only showing top 4 rows\n",
      "\n"
     ]
    }
   ],
   "source": [
    "# https://stackoverflow.com/a/70393584\n",
    "\n",
    "# note that we can't directly do this\n",
    "# (\n",
    "#     df.select(\n",
    "#         \"id\",\n",
    "#         F.from_json(\n",
    "#             F.to_json(F.explode(\"attributes.altTitles\")), schema=\"map<string, string>\"\n",
    "#         ).alias(\"col\"),\n",
    "#     )\n",
    "# ).show()\n",
    "\n",
    "\n",
    "def convert_via_json(col, type):\n",
    "    return F.from_json(F.to_json(col), schema=type)\n",
    "\n",
    "\n",
    "@F.udf(returnType=\"map<string, string>\")\n",
    "def combine_maps(list):\n",
    "    if not list:\n",
    "        return None\n",
    "    return {k: v for m in list for k, v in m.items()}\n",
    "\n",
    "\n",
    "def mappify_struct(col):\n",
    "    return combine_maps(convert_via_json(col, \"array<map<string, string>>\"))\n",
    "\n",
    "\n",
    "query_col = \"attributes.altTitles\"\n",
    "# but this is valid\n",
    "alt_titles = (\n",
    "    df.limit(20)\n",
    "    .select(\"id\", F.explode(query_col).alias(\"col\"))\n",
    "    .select(\"id\", convert_via_json(\"col\", \"map<string, string>\").alias(\"col\"))\n",
    "    .groupby(\"id\")\n",
    "    .agg(F.collect_list(\"col\").alias(\"col\"))\n",
    "    .select(\"id\", combine_maps(\"col\").alias(query_col))\n",
    ")\n",
    "alt_titles.show(n=4, truncate=80)\n",
    "\n",
    "# and so is this\n",
    "\n",
    "alt_titles = df.select(\n",
    "    \"id\",\n",
    "    mappify_struct(query_col).alias(query_col),\n",
    ")\n",
    "alt_titles.show(n=4, truncate=80)"
   ]
  },
  {
   "cell_type": "code",
   "execution_count": 87,
   "metadata": {},
   "outputs": [
    {
     "name": "stdout",
     "output_type": "stream",
     "text": [
      "root\n",
      " |-- id: string (nullable = true)\n",
      " |-- relationships: array (nullable = true)\n",
      " |    |-- element: struct (containsNull = true)\n",
      " |    |    |-- id: string (nullable = true)\n",
      " |    |    |-- related: string (nullable = true)\n",
      " |    |    |-- type: string (nullable = true)\n",
      " |-- type: string (nullable = true)\n",
      " |-- attributes: struct (nullable = false)\n",
      " |    |-- availableTranslatedLanguages: array (nullable = true)\n",
      " |    |    |-- element: string (containsNull = true)\n",
      " |    |-- chapterNumbersResetOnNewVolume: boolean (nullable = true)\n",
      " |    |-- contentRating: string (nullable = true)\n",
      " |    |-- createdAt: string (nullable = true)\n",
      " |    |-- isLocked: boolean (nullable = true)\n",
      " |    |-- lastChapter: string (nullable = true)\n",
      " |    |-- lastVolume: string (nullable = true)\n",
      " |    |-- latestUploadedChapter: string (nullable = true)\n",
      " |    |-- originalLanguage: string (nullable = true)\n",
      " |    |-- publicationDemographic: string (nullable = true)\n",
      " |    |-- state: string (nullable = true)\n",
      " |    |-- status: string (nullable = true)\n",
      " |    |-- tags: array (nullable = true)\n",
      " |    |    |-- element: struct (containsNull = true)\n",
      " |    |    |    |-- attributes: struct (nullable = true)\n",
      " |    |    |    |    |-- group: string (nullable = true)\n",
      " |    |    |    |    |-- name: struct (nullable = true)\n",
      " |    |    |    |    |    |-- en: string (nullable = true)\n",
      " |    |    |    |    |-- version: long (nullable = true)\n",
      " |    |    |    |-- id: string (nullable = true)\n",
      " |    |    |    |-- relationships: array (nullable = true)\n",
      " |    |    |    |    |-- element: string (containsNull = true)\n",
      " |    |    |    |-- type: string (nullable = true)\n",
      " |    |-- updatedAt: string (nullable = true)\n",
      " |    |-- version: long (nullable = true)\n",
      " |    |-- year: long (nullable = true)\n",
      " |    |-- altTitles: map (nullable = true)\n",
      " |    |    |-- key: string\n",
      " |    |    |-- value: string (valueContainsNull = true)\n",
      " |    |-- description: map (nullable = true)\n",
      " |    |    |-- key: string\n",
      " |    |    |-- value: string (valueContainsNull = true)\n",
      " |    |-- links: map (nullable = true)\n",
      " |    |    |-- key: string\n",
      " |    |    |-- value: string (valueContainsNull = true)\n",
      " |    |-- title: map (nullable = true)\n",
      " |    |    |-- key: string\n",
      " |    |    |-- value: string (valueContainsNull = true)\n",
      "\n",
      "-RECORD 0-----------------------------------------------------------------------------------------\n",
      " id            | 850fd66f-e9cc-4448-99d3-ae0d3232dffe                                             \n",
      " relationships | [{5e79d2d7-b506-4c58-a716-645566cccfe5, null, author}, {5e79d2d7-b506-4c58-a7... \n",
      " type          | manga                                                                            \n",
      " attributes    | {[en], false, safe, 2019-06-25T19:30:58+00:00, false, , , 4565fdb7-aa44-40cf-... \n",
      "-RECORD 1-----------------------------------------------------------------------------------------\n",
      " id            | 66ed626c-a40c-4fc8-b351-e1a400a9f99c                                             \n",
      " relationships | [{54d2c255-f4a9-4bd5-b927-587ef9c4e3d2, null, author}, {99fd0ae9-cac3-47ed-85... \n",
      " type          | manga                                                                            \n",
      " attributes    | {[en], false, safe, 2020-02-23T16:18:03+00:00, false, null, null, 51b96655-71... \n",
      "-RECORD 2-----------------------------------------------------------------------------------------\n",
      " id            | 85cff8c4-a2a8-484b-987d-6a7f781df431                                             \n",
      " relationships | [{63fbf173-3440-406b-a071-12a193b907ca, null, author}, {5dcf6ef8-12ee-4b09-8b... \n",
      " type          | manga                                                                            \n",
      " attributes    | {[fr, en], false, safe, 2018-12-04T14:08:37+00:00, false, 12, 2, f2386b15-86c... \n",
      "-RECORD 3-----------------------------------------------------------------------------------------\n",
      " id            | 46de95a1-398a-42c7-a35f-4f7370d36cd4                                             \n",
      " relationships | [{5602a64c-ba83-4243-b4fe-2bc265b04ebc, null, author}, {5602a64c-ba83-4243-b4... \n",
      " type          | manga                                                                            \n",
      " attributes    | {[], false, suggestive, 2022-09-04T15:27:43+00:00, false, , 1, null, ja, sein... \n",
      "only showing top 4 rows\n",
      "\n"
     ]
    }
   ],
   "source": [
    "cols_to_mappify = [\"altTitles\", \"description\", \"links\", \"title\"]\n",
    "clean = df.select(\n",
    "    *[c for c in df.columns if c != \"attributes\"],\n",
    "    F.struct(\n",
    "        *[\n",
    "            F.col(f\"attributes.{c}\").alias(c)\n",
    "            for c in df.select(\"attributes.*\").columns\n",
    "            if c not in cols_to_mappify\n",
    "        ],\n",
    "        *[mappify_struct(f\"attributes.{c}\").alias(c) for c in cols_to_mappify],\n",
    "    ).alias(\"attributes\"),\n",
    ")\n",
    "clean.printSchema()\n",
    "clean.show(n=4, truncate=80, vertical=True)"
   ]
  },
  {
   "cell_type": "code",
   "execution_count": 89,
   "metadata": {},
   "outputs": [
    {
     "name": "stdout",
     "output_type": "stream",
     "text": [
      "-RECORD 0----------------------------------------------------------------------------------------------------------\n",
      " availableTranslatedLanguages   | [en]                                                                             \n",
      " chapterNumbersResetOnNewVolume | false                                                                            \n",
      " contentRating                  | safe                                                                             \n",
      " createdAt                      | 2019-06-25T19:30:58+00:00                                                        \n",
      " isLocked                       | false                                                                            \n",
      " lastChapter                    |                                                                                  \n",
      " lastVolume                     |                                                                                  \n",
      " latestUploadedChapter          | 4565fdb7-aa44-40cf-a2b0-719d6cfb644c                                             \n",
      " originalLanguage               | ja                                                                               \n",
      " publicationDemographic         | shoujo                                                                           \n",
      " state                          | published                                                                        \n",
      " status                         | completed                                                                        \n",
      " tags                           | [{{format, {Oneshot}, 1}, 0234a31e-a729-4e28-9d6a-3f87c4966b9e, [], tag}, {{g... \n",
      " updatedAt                      | 2022-01-12T13:17:38+00:00                                                        \n",
      " version                        | 4                                                                                \n",
      " year                           | null                                                                             \n",
      " altTitles                      | {en -> The Witch from Falling Star Hill, ja -> 星降る丘の魔女}                   \n",
      " description                    | null                                                                             \n",
      " links                          | null                                                                             \n",
      " title                          | null                                                                             \n",
      "-RECORD 1----------------------------------------------------------------------------------------------------------\n",
      " availableTranslatedLanguages   | [en]                                                                             \n",
      " chapterNumbersResetOnNewVolume | false                                                                            \n",
      " contentRating                  | safe                                                                             \n",
      " createdAt                      | 2020-02-23T16:18:03+00:00                                                        \n",
      " isLocked                       | false                                                                            \n",
      " lastChapter                    | null                                                                             \n",
      " lastVolume                     | null                                                                             \n",
      " latestUploadedChapter          | 51b96655-7140-4807-915f-b29d4b8fcf90                                             \n",
      " originalLanguage               | ja                                                                               \n",
      " publicationDemographic         | shounen                                                                          \n",
      " state                          | published                                                                        \n",
      " status                         | ongoing                                                                          \n",
      " tags                           | [{{genre, {Action}, 1}, 391b0423-d847-456f-aff0-8b0cfc03066b, [], tag}, {{the... \n",
      " updatedAt                      | 2021-05-25T15:43:19+00:00                                                        \n",
      " version                        | 2                                                                                \n",
      " year                           | null                                                                             \n",
      " altTitles                      | {en -> More Edgy Sasuke's childhood}                                             \n",
      " description                    | null                                                                             \n",
      " links                          | null                                                                             \n",
      " title                          | null                                                                             \n",
      "-RECORD 2----------------------------------------------------------------------------------------------------------\n",
      " availableTranslatedLanguages   | [fr, en]                                                                         \n",
      " chapterNumbersResetOnNewVolume | false                                                                            \n",
      " contentRating                  | safe                                                                             \n",
      " createdAt                      | 2018-12-04T14:08:37+00:00                                                        \n",
      " isLocked                       | false                                                                            \n",
      " lastChapter                    | 12                                                                               \n",
      " lastVolume                     | 2                                                                                \n",
      " latestUploadedChapter          | f2386b15-86cf-4ec1-8643-bfd5679c2366                                             \n",
      " originalLanguage               | ja                                                                               \n",
      " publicationDemographic         | null                                                                             \n",
      " state                          | published                                                                        \n",
      " status                         | completed                                                                        \n",
      " tags                           | [{{genre, {Comedy}, 1}, 4d32cc48-9f00-4cca-9b5a-a839f0764984, [], tag}, {{gen... \n",
      " updatedAt                      | 2021-05-25T15:44:41+00:00                                                        \n",
      " version                        | 2                                                                                \n",
      " year                           | null                                                                             \n",
      " altTitles                      | {en -> 百合男子くん}                                                             \n",
      " description                    | null                                                                             \n",
      " links                          | null                                                                             \n",
      " title                          | null                                                                             \n",
      "-RECORD 3----------------------------------------------------------------------------------------------------------\n",
      " availableTranslatedLanguages   | []                                                                               \n",
      " chapterNumbersResetOnNewVolume | false                                                                            \n",
      " contentRating                  | suggestive                                                                       \n",
      " createdAt                      | 2022-09-04T15:27:43+00:00                                                        \n",
      " isLocked                       | false                                                                            \n",
      " lastChapter                    |                                                                                  \n",
      " lastVolume                     | 1                                                                                \n",
      " latestUploadedChapter          | null                                                                             \n",
      " originalLanguage               | ja                                                                               \n",
      " publicationDemographic         | seinen                                                                           \n",
      " state                          | published                                                                        \n",
      " status                         | completed                                                                        \n",
      " tags                           | [{{genre, {Historical}, 1}, 33771934-028e-4cb3-8744-691e866a923e, [], tag}, {... \n",
      " updatedAt                      | 2022-09-04T17:34:54+00:00                                                        \n",
      " version                        | 4                                                                                \n",
      " year                           | 2001                                                                             \n",
      " altTitles                      | {zh-hk -> 時代大姐大, zh -> 时代大姐大, ja -> いよっおみっちゃん}                \n",
      " description                    | null                                                                             \n",
      " links                          | null                                                                             \n",
      " title                          | null                                                                             \n",
      "only showing top 4 rows\n",
      "\n"
     ]
    }
   ],
   "source": [
    "clean.select(\"attributes.*\").show(n=4, truncate=80, vertical=True)"
   ]
  }
 ],
 "metadata": {
  "kernelspec": {
   "display_name": "Python 3.10.5 ('.venv': poetry)",
   "language": "python",
   "name": "python3"
  },
  "language_info": {
   "codemirror_mode": {
    "name": "ipython",
    "version": 3
   },
   "file_extension": ".py",
   "mimetype": "text/x-python",
   "name": "python",
   "nbconvert_exporter": "python",
   "pygments_lexer": "ipython3",
   "version": "3.10.5"
  },
  "orig_nbformat": 4,
  "vscode": {
   "interpreter": {
    "hash": "bca7b2bdba768571c0082ebd75c4aeb7591ff0a55f8644ae03b303997b530c9d"
   }
  }
 },
 "nbformat": 4,
 "nbformat_minor": 2
}
