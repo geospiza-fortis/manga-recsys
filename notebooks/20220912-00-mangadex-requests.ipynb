{
 "cells": [
  {
   "cell_type": "markdown",
   "metadata": {},
   "source": [
    "# mangadex requests\n",
    "\n",
    "This notebook is just exploration of the API.\n",
    "Note that there are rate-limits in place that should be respected.\n",
    "\n",
    "- https://api.mangadex.org/docs/swagger.html\n",
    "- https://api.mangadex.org/docs/\n",
    "- https://api.mangadex.org/docs/docs/manga/"
   ]
  },
  {
   "cell_type": "code",
   "execution_count": 29,
   "metadata": {},
   "outputs": [
    {
     "data": {
      "text/html": [
       "<div>\n",
       "<style scoped>\n",
       "    .dataframe tbody tr th:only-of-type {\n",
       "        vertical-align: middle;\n",
       "    }\n",
       "\n",
       "    .dataframe tbody tr th {\n",
       "        vertical-align: top;\n",
       "    }\n",
       "\n",
       "    .dataframe thead th {\n",
       "        text-align: right;\n",
       "    }\n",
       "</style>\n",
       "<table border=\"1\" class=\"dataframe\">\n",
       "  <thead>\n",
       "    <tr style=\"text-align: right;\">\n",
       "      <th></th>\n",
       "      <th>result</th>\n",
       "      <th>response</th>\n",
       "      <th>data</th>\n",
       "      <th>limit</th>\n",
       "      <th>offset</th>\n",
       "      <th>total</th>\n",
       "    </tr>\n",
       "  </thead>\n",
       "  <tbody>\n",
       "    <tr>\n",
       "      <th>0</th>\n",
       "      <td>ok</td>\n",
       "      <td>collection</td>\n",
       "      <td>{'id': '9b5304e7-4e5c-443a-b63e-b14163cdf300',...</td>\n",
       "      <td>2</td>\n",
       "      <td>0</td>\n",
       "      <td>53961</td>\n",
       "    </tr>\n",
       "    <tr>\n",
       "      <th>1</th>\n",
       "      <td>ok</td>\n",
       "      <td>collection</td>\n",
       "      <td>{'id': '043f3e96-1878-4978-bf33-f22751da81d1',...</td>\n",
       "      <td>2</td>\n",
       "      <td>0</td>\n",
       "      <td>53961</td>\n",
       "    </tr>\n",
       "  </tbody>\n",
       "</table>\n",
       "</div>"
      ],
      "text/plain": [
       "  result    response                                               data  \\\n",
       "0     ok  collection  {'id': '9b5304e7-4e5c-443a-b63e-b14163cdf300',...   \n",
       "1     ok  collection  {'id': '043f3e96-1878-4978-bf33-f22751da81d1',...   \n",
       "\n",
       "   limit  offset  total  \n",
       "0      2       0  53961  \n",
       "1      2       0  53961  "
      ]
     },
     "execution_count": 29,
     "metadata": {},
     "output_type": "execute_result"
    }
   ],
   "source": [
    "import requests\n",
    "import json\n",
    "import pandas as pd\n",
    "\n",
    "# get a list of all manga\n",
    "base_url = \"https://api.mangadex.org\"\n",
    "r = requests.get(f\"{base_url}/manga?limit=2\")\n",
    "pd.DataFrame(r.json()).head()"
   ]
  },
  {
   "cell_type": "code",
   "execution_count": 31,
   "metadata": {},
   "outputs": [
    {
     "data": {
      "text/html": [
       "<div>\n",
       "<style scoped>\n",
       "    .dataframe tbody tr th:only-of-type {\n",
       "        vertical-align: middle;\n",
       "    }\n",
       "\n",
       "    .dataframe tbody tr th {\n",
       "        vertical-align: top;\n",
       "    }\n",
       "\n",
       "    .dataframe thead th {\n",
       "        text-align: right;\n",
       "    }\n",
       "</style>\n",
       "<table border=\"1\" class=\"dataframe\">\n",
       "  <thead>\n",
       "    <tr style=\"text-align: right;\">\n",
       "      <th></th>\n",
       "      <th>id</th>\n",
       "      <th>type</th>\n",
       "      <th>attributes</th>\n",
       "      <th>relationships</th>\n",
       "    </tr>\n",
       "  </thead>\n",
       "  <tbody>\n",
       "    <tr>\n",
       "      <th>0</th>\n",
       "      <td>9b5304e7-4e5c-443a-b63e-b14163cdf300</td>\n",
       "      <td>manga</td>\n",
       "      <td>{'title': {'en': 'Forced to Date With Boss Eve...</td>\n",
       "      <td>[{'id': '63200b97-bbf8-4dab-8522-a158fec3afad'...</td>\n",
       "    </tr>\n",
       "    <tr>\n",
       "      <th>1</th>\n",
       "      <td>043f3e96-1878-4978-bf33-f22751da81d1</td>\n",
       "      <td>manga</td>\n",
       "      <td>{'title': {'en': 'Eight Clouds Rising'}, 'altT...</td>\n",
       "      <td>[{'id': 'e491a56b-4e75-4388-a3b9-600ca9f28acd'...</td>\n",
       "    </tr>\n",
       "  </tbody>\n",
       "</table>\n",
       "</div>"
      ],
      "text/plain": [
       "                                     id   type  \\\n",
       "0  9b5304e7-4e5c-443a-b63e-b14163cdf300  manga   \n",
       "1  043f3e96-1878-4978-bf33-f22751da81d1  manga   \n",
       "\n",
       "                                          attributes  \\\n",
       "0  {'title': {'en': 'Forced to Date With Boss Eve...   \n",
       "1  {'title': {'en': 'Eight Clouds Rising'}, 'altT...   \n",
       "\n",
       "                                       relationships  \n",
       "0  [{'id': '63200b97-bbf8-4dab-8522-a158fec3afad'...  \n",
       "1  [{'id': 'e491a56b-4e75-4388-a3b9-600ca9f28acd'...  "
      ]
     },
     "execution_count": 31,
     "metadata": {},
     "output_type": "execute_result"
    }
   ],
   "source": [
    "df = pd.DataFrame(r.json()[\"data\"])\n",
    "df"
   ]
  },
  {
   "cell_type": "code",
   "execution_count": 34,
   "metadata": {},
   "outputs": [
    {
     "data": {
      "text/plain": [
       "{'result': 'ok',\n",
       " 'response': 'entity',\n",
       " 'data': {'id': '9b5304e7-4e5c-443a-b63e-b14163cdf300',\n",
       "  'type': 'manga',\n",
       "  'attributes': {'title': {'en': 'Forced to Date With Boss Everyday'},\n",
       "   'altTitles': [{'zh': '每天被迫和大佬谈恋爱'},\n",
       "    {'zh-ro': \"Meitian Bei Po He Da Lao Tan Lian'ai\"},\n",
       "    {'zh-ro': \"Měitiān Bèi Pò Hé Dà Lǎo Tán Liàn'ài\"},\n",
       "    {'en': 'Forced to Date with BOSS Everyday'},\n",
       "    {'en': 'I Am Being Chased To Fall In Love Everyday'},\n",
       "    {'vi': 'Mỗi Ngày Bị Ép Cùng Đại Lão Yêu Đương'}],\n",
       "   'description': {'en': 'Xue Xi, who had been missing for 18 years, was ridiculed by her grandmother and cousin as soon as she returned home. She was also disliked by her classmates when she arrived at school. Unexpectedly, she met Xiang Huai and inexplicably triggered the \"date with someone or die\" debuff. To save herself, she had to fall in love with the gangster, also a grocery store owner. A love story between an almighty boss and a straight A student began.',\n",
       "    'zh': '失踪十八年的薛夕，刚回家就被奶奶和堂妹各种冷嘲热讽，到了学校也是被同学们嫌弃。没想到遇见向淮的时候却莫名其妙的触发了“不谈恋爱会死”的debuff，为了自救只能和眼下这个小混混杂货店老板谈恋爱了。一场全能大佬和学习大佬之间的恋爱，就此展开了....'},\n",
       "   'isLocked': False,\n",
       "   'links': {'mu': 'og6zmft',\n",
       "    'raw': 'https://ac.qq.com/Comic/comicInfo/id/651138',\n",
       "    'engtl': 'https://www.webnovel.com/comic/forced-to-date-with-boss-everyday_23694854506604301'},\n",
       "   'originalLanguage': 'zh',\n",
       "   'lastVolume': '',\n",
       "   'lastChapter': '',\n",
       "   'publicationDemographic': None,\n",
       "   'status': 'ongoing',\n",
       "   'year': 2021,\n",
       "   'contentRating': 'safe',\n",
       "   'tags': [{'id': '3e2b8dae-350e-4ab8-a8ce-016e844b9f0d',\n",
       "     'type': 'tag',\n",
       "     'attributes': {'name': {'en': 'Long Strip'},\n",
       "      'description': {},\n",
       "      'group': 'format',\n",
       "      'version': 1},\n",
       "     'relationships': []},\n",
       "    {'id': '423e2eae-a7a2-4a8b-ac03-a8351462d71d',\n",
       "     'type': 'tag',\n",
       "     'attributes': {'name': {'en': 'Romance'},\n",
       "      'description': {},\n",
       "      'group': 'genre',\n",
       "      'version': 1},\n",
       "     'relationships': []},\n",
       "    {'id': 'b9af3a63-f058-46de-a9a0-e0c13906197a',\n",
       "     'type': 'tag',\n",
       "     'attributes': {'name': {'en': 'Drama'},\n",
       "      'description': {},\n",
       "      'group': 'genre',\n",
       "      'version': 1},\n",
       "     'relationships': []},\n",
       "    {'id': 'e197df38-d0e7-43b5-9b09-2842d0c326dd',\n",
       "     'type': 'tag',\n",
       "     'attributes': {'name': {'en': 'Web Comic'},\n",
       "      'description': {},\n",
       "      'group': 'format',\n",
       "      'version': 1},\n",
       "     'relationships': []},\n",
       "    {'id': 'f5ba408b-0e7a-484d-8d49-4e9125ac96de',\n",
       "     'type': 'tag',\n",
       "     'attributes': {'name': {'en': 'Full Color'},\n",
       "      'description': {},\n",
       "      'group': 'format',\n",
       "      'version': 1},\n",
       "     'relationships': []}],\n",
       "   'state': 'published',\n",
       "   'chapterNumbersResetOnNewVolume': False,\n",
       "   'createdAt': '2022-11-03T23:33:02+00:00',\n",
       "   'updatedAt': '2022-11-03T23:33:56+00:00',\n",
       "   'version': 2,\n",
       "   'availableTranslatedLanguages': ['en'],\n",
       "   'latestUploadedChapter': '7cfedf88-91fc-43fd-b2c9-b666fb9d9eab'},\n",
       "  'relationships': [{'id': '63200b97-bbf8-4dab-8522-a158fec3afad',\n",
       "    'type': 'author'},\n",
       "   {'id': 'ba273413-401b-4f21-9455-5e1823bb5a57', 'type': 'author'},\n",
       "   {'id': '63200b97-bbf8-4dab-8522-a158fec3afad', 'type': 'artist'},\n",
       "   {'id': 'ba273413-401b-4f21-9455-5e1823bb5a57', 'type': 'artist'},\n",
       "   {'id': 'f859432e-ce26-46ad-843a-a0349bb004b9', 'type': 'cover_art'}]}}"
      ]
     },
     "execution_count": 34,
     "metadata": {},
     "output_type": "execute_result"
    }
   ],
   "source": [
    "uuid = df[\"id\"].iloc[0]\n",
    "r = requests.get(f\"{base_url}/manga/{uuid}\")\n",
    "r.json()"
   ]
  },
  {
   "cell_type": "code",
   "execution_count": null,
   "metadata": {},
   "outputs": [],
   "source": [
    "def get_total_pages(base_uri: str) -> int:\n",
    "    r = requests.get(f\"{base_uri}/manga?limit=1\")\n",
    "    return r.json()[\"total\"]"
   ]
  }
 ],
 "metadata": {
  "kernelspec": {
   "display_name": "Python 3",
   "language": "python",
   "name": "python3"
  },
  "language_info": {
   "codemirror_mode": {
    "name": "ipython",
    "version": 3
   },
   "file_extension": ".py",
   "mimetype": "text/x-python",
   "name": "python",
   "nbconvert_exporter": "python",
   "pygments_lexer": "ipython3",
   "version": "3.10.5 (tags/v3.10.5:f377153, Jun  6 2022, 16:14:13) [MSC v.1929 64 bit (AMD64)]"
  },
  "orig_nbformat": 4,
  "vscode": {
   "interpreter": {
    "hash": "5fba4eb1ddfb0b5f2c0f3e2fd25cac3f968691247a9de4806ec9bb18fee8fadd"
   }
  }
 },
 "nbformat": 4,
 "nbformat_minor": 2
}
