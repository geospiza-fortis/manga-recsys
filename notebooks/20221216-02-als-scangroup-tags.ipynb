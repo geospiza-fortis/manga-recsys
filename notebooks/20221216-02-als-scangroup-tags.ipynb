{
 "cells": [
  {
   "cell_type": "code",
   "execution_count": 1,
   "metadata": {},
   "outputs": [],
   "source": [
    "%load_ext autoreload\n",
    "%autoreload 2\n",
    "%load_ext lab_black"
   ]
  },
  {
   "cell_type": "code",
   "execution_count": 2,
   "metadata": {},
   "outputs": [],
   "source": [
    "from pyspark.sql import functions as F\n",
    "from manga_recsys.spark import get_spark\n",
    "\n",
    "spark = get_spark()"
   ]
  },
  {
   "cell_type": "code",
   "execution_count": 7,
   "metadata": {},
   "outputs": [
    {
     "name": "stdout",
     "output_type": "stream",
     "text": [
      "root\n",
      " |-- id: string (nullable = true)\n",
      " |-- relationships: array (nullable = true)\n",
      " |    |-- element: struct (containsNull = true)\n",
      " |    |    |-- id: string (nullable = true)\n",
      " |    |    |-- related: string (nullable = true)\n",
      " |    |    |-- type: string (nullable = true)\n",
      " |-- type: string (nullable = true)\n",
      " |-- attributes: struct (nullable = true)\n",
      " |    |-- availableTranslatedLanguages: array (nullable = true)\n",
      " |    |    |-- element: string (containsNull = true)\n",
      " |    |-- chapterNumbersResetOnNewVolume: boolean (nullable = true)\n",
      " |    |-- contentRating: string (nullable = true)\n",
      " |    |-- createdAt: string (nullable = true)\n",
      " |    |-- isLocked: boolean (nullable = true)\n",
      " |    |-- lastChapter: string (nullable = true)\n",
      " |    |-- lastVolume: string (nullable = true)\n",
      " |    |-- latestUploadedChapter: string (nullable = true)\n",
      " |    |-- originalLanguage: string (nullable = true)\n",
      " |    |-- publicationDemographic: string (nullable = true)\n",
      " |    |-- state: string (nullable = true)\n",
      " |    |-- status: string (nullable = true)\n",
      " |    |-- tags: array (nullable = true)\n",
      " |    |    |-- element: struct (containsNull = true)\n",
      " |    |    |    |-- attributes: struct (nullable = true)\n",
      " |    |    |    |    |-- group: string (nullable = true)\n",
      " |    |    |    |    |-- name: struct (nullable = true)\n",
      " |    |    |    |    |    |-- en: string (nullable = true)\n",
      " |    |    |    |    |-- version: long (nullable = true)\n",
      " |    |    |    |-- id: string (nullable = true)\n",
      " |    |    |    |-- relationships: array (nullable = true)\n",
      " |    |    |    |    |-- element: string (containsNull = true)\n",
      " |    |    |    |-- type: string (nullable = true)\n",
      " |    |-- updatedAt: string (nullable = true)\n",
      " |    |-- version: long (nullable = true)\n",
      " |    |-- year: long (nullable = true)\n",
      " |    |-- altTitles: map (nullable = true)\n",
      " |    |    |-- key: string\n",
      " |    |    |-- value: string (valueContainsNull = true)\n",
      " |    |-- description: map (nullable = true)\n",
      " |    |    |-- key: string\n",
      " |    |    |-- value: string (valueContainsNull = true)\n",
      " |    |-- links: map (nullable = true)\n",
      " |    |    |-- key: string\n",
      " |    |    |-- value: string (valueContainsNull = true)\n",
      " |    |-- title: map (nullable = true)\n",
      " |    |    |-- key: string\n",
      " |    |    |-- value: string (valueContainsNull = true)\n",
      "\n",
      "root\n",
      " |-- id: string (nullable = true)\n",
      " |-- attributes: struct (nullable = true)\n",
      " |    |-- chapter: string (nullable = true)\n",
      " |    |-- createdAt: string (nullable = true)\n",
      " |    |-- externalUrl: string (nullable = true)\n",
      " |    |-- pages: long (nullable = true)\n",
      " |    |-- publishAt: string (nullable = true)\n",
      " |    |-- readableAt: string (nullable = true)\n",
      " |    |-- title: string (nullable = true)\n",
      " |    |-- translatedLanguage: string (nullable = true)\n",
      " |    |-- updatedAt: string (nullable = true)\n",
      " |    |-- version: long (nullable = true)\n",
      " |    |-- volume: string (nullable = true)\n",
      " |-- type: string (nullable = true)\n",
      " |-- relationships: struct (nullable = true)\n",
      " |    |-- manga: string (nullable = true)\n",
      " |    |-- scanlation_group: string (nullable = true)\n",
      " |    |-- user: string (nullable = true)\n",
      "\n"
     ]
    }
   ],
   "source": [
    "manga = spark.read.parquet(\"../data/processed/2022-12-10-mangadex-manga.parquet\")\n",
    "manga.printSchema()\n",
    "chapter = spark.read.parquet(\"../data/processed/2022-12-16-mangadex-chapter.parquet\")\n",
    "chapter.printSchema()"
   ]
  },
  {
   "attachments": {},
   "cell_type": "markdown",
   "metadata": {},
   "source": [
    "We're going to build a relationship graph between scan groups and the manga that they translate.\n",
    "The simplest relationship graph will be directly between scan groups and manga."
   ]
  },
  {
   "cell_type": "code",
   "execution_count": 18,
   "metadata": {},
   "outputs": [
    {
     "data": {
      "text/plain": [
       "15979"
      ]
     },
     "execution_count": 18,
     "metadata": {},
     "output_type": "execute_result"
    }
   ],
   "source": [
    "chapter.select(\"relationships.scanlation_group\").distinct().count()"
   ]
  },
  {
   "cell_type": "code",
   "execution_count": 17,
   "metadata": {},
   "outputs": [
    {
     "name": "stdout",
     "output_type": "stream",
     "text": [
      "+--------------------+--------+\n",
      "|               manga|n_groups|\n",
      "+--------------------+--------+\n",
      "|32d76d19-8a05-4db...|      78|\n",
      "|f65444dc-3694-4e3...|      73|\n",
      "|37f5cce0-8070-4ad...|      62|\n",
      "|a96676e5-8ae2-425...|      58|\n",
      "|30838c34-6b26-4b8...|      56|\n",
      "|a1c7c817-4e59-43b...|      55|\n",
      "|f7888782-0727-49b...|      55|\n",
      "|7f30dfc3-0b80-4dc...|      55|\n",
      "|304ceac3-8cdb-4fe...|      53|\n",
      "|227e3f72-863f-46f...|      51|\n",
      "+--------------------+--------+\n",
      "only showing top 10 rows\n",
      "\n"
     ]
    },
    {
     "data": {
      "text/plain": [
       "21062"
      ]
     },
     "execution_count": 17,
     "metadata": {},
     "output_type": "execute_result"
    }
   ],
   "source": [
    "manga_scan_freq = (\n",
    "    chapter.select(\"relationships.*\")\n",
    "    .select(\"manga\", \"scanlation_group\")\n",
    "    .groupBy(\"manga\")\n",
    "    .agg(F.countDistinct(\"scanlation_group\").alias(\"n_groups\"))\n",
    "    .orderBy(F.desc(\"n_groups\"))\n",
    ")\n",
    "manga_scan_freq.show(10)\n",
    "manga_scan_freq.where(\"n_groups > 1\").count()"
   ]
  },
  {
   "cell_type": "code",
   "execution_count": 28,
   "metadata": {},
   "outputs": [
    {
     "name": "stdout",
     "output_type": "stream",
     "text": [
      "+--------------------+--------------------+-----+\n",
      "|               manga|    scanlation_group|pages|\n",
      "+--------------------+--------------------+-----+\n",
      "|b1461071-bfbb-43e...|73206838-6025-4bc...|35255|\n",
      "|c0ee660b-f9f2-45c...|cc5240d7-9b8f-4af...|33952|\n",
      "|b1461071-bfbb-43e...|461047ab-d7a7-4bf...|33771|\n",
      "|3fb3f1c3-153e-400...|cc5240d7-9b8f-4af...|30821|\n",
      "|f7888782-0727-49b...|81e1f1ee-c8aa-489...|25442|\n",
      "|b1461071-bfbb-43e...|59a4a5f3-3559-40e...|24609|\n",
      "|cbf174ca-af25-441...|11fc2776-2413-41f...|21695|\n",
      "|f7888782-0727-49b...|3ff4911b-f4ef-41d...|19922|\n",
      "|f7888782-0727-49b...|df2df81e-a4ac-4af...|18962|\n",
      "|a1c7c817-4e59-43b...|a4653168-f3c0-45e...|18368|\n",
      "+--------------------+--------------------+-----+\n",
      "only showing top 10 rows\n",
      "\n"
     ]
    }
   ],
   "source": [
    "scan_manga = (\n",
    "    chapter.select(\"attributes.pages\", \"relationships.*\")\n",
    "    .groupby(\"manga\", \"scanlation_group\")\n",
    "    .agg(F.sum(\"pages\").alias(\"pages\"))\n",
    "    .orderBy(F.desc(\"pages\"))\n",
    "    .where(\"manga is not null and scanlation_group is not null\")\n",
    ")\n",
    "scan_manga.show(10)"
   ]
  },
  {
   "cell_type": "code",
   "execution_count": 75,
   "metadata": {},
   "outputs": [],
   "source": [
    "# create a pyspark pipeline\n",
    "from pyspark.ml import Pipeline\n",
    "from pyspark.ml.feature import StringIndexer, IndexToString\n",
    "from pyspark.ml.recommendation import ALS\n",
    "from pyspark.ml.evaluation import RegressionEvaluator\n",
    "\n",
    "# create a pipeline that string vectorizes both scanlation_group and manga, then fits an ALS model\n",
    "pipeline = Pipeline(\n",
    "    stages=[\n",
    "        StringIndexer(inputCol=\"scanlation_group\", outputCol=\"scanlation_group_idx\"),\n",
    "        StringIndexer(inputCol=\"manga\", outputCol=\"manga_idx\"),\n",
    "        ALS(\n",
    "            userCol=\"scanlation_group_idx\",\n",
    "            itemCol=\"manga_idx\",\n",
    "            ratingCol=\"pages\",\n",
    "            nonnegative=True,\n",
    "            coldStartStrategy=\"drop\",\n",
    "        ),\n",
    "    ]\n",
    ")"
   ]
  },
  {
   "cell_type": "code",
   "execution_count": 52,
   "metadata": {},
   "outputs": [
    {
     "data": {
      "text/plain": [
       "PipelineModel_0a82618bdb7e"
      ]
     },
     "execution_count": 52,
     "metadata": {},
     "output_type": "execute_result"
    }
   ],
   "source": [
    "# fit the pipeline to the data\n",
    "model = pipeline.fit(scan_manga)\n",
    "\n",
    "# show off the model\n",
    "model"
   ]
  },
  {
   "cell_type": "code",
   "execution_count": 53,
   "metadata": {},
   "outputs": [
    {
     "name": "stdout",
     "output_type": "stream",
     "text": [
      "Root-mean-square error = 112.5917812501897\n"
     ]
    }
   ],
   "source": [
    "# predict the top 10 manga for each scanlation group that isn't already something they've done\n",
    "scan_manga_pred = model.transform(scan_manga)\n",
    "evaluator = RegressionEvaluator(\n",
    "    metricName=\"rmse\", labelCol=\"pages\", predictionCol=\"prediction\"\n",
    ")\n",
    "rmse = evaluator.evaluate(scan_manga_pred)\n",
    "print(\"Root-mean-square error = \" + str(rmse))"
   ]
  },
  {
   "cell_type": "code",
   "execution_count": 70,
   "metadata": {},
   "outputs": [
    {
     "name": "stdout",
     "output_type": "stream",
     "text": [
      "root\n",
      " |-- manga: string (nullable = true)\n",
      " |-- scanlation_group: string (nullable = true)\n",
      " |-- pages: long (nullable = true)\n",
      " |-- scanlation_group_idx: double (nullable = false)\n",
      " |-- manga_idx: double (nullable = false)\n",
      " |-- original_scanlation_group: string (nullable = true)\n",
      " |-- original_manga: string (nullable = true)\n",
      " |-- prediction: float (nullable = false)\n",
      "\n"
     ]
    }
   ],
   "source": [
    "scan_manga_pred.printSchema()"
   ]
  },
  {
   "cell_type": "code",
   "execution_count": 54,
   "metadata": {},
   "outputs": [
    {
     "name": "stdout",
     "output_type": "stream",
     "text": [
      "+--------------------+--------------------+\n",
      "|scanlation_group_idx|     recommendations|\n",
      "+--------------------+--------------------+\n",
      "|                  38|[{1835, 5398.25},...|\n",
      "|                  57|[{1835, 6268.892}...|\n",
      "|                  64|[{482, 8963.034},...|\n",
      "|                  77|[{5348, 12963.519...|\n",
      "|                  80|[{482, 6116.041},...|\n",
      "|                  85|[{1130, 8308.689}...|\n",
      "|                  94|[{91, 5265.7554},...|\n",
      "|                 104|[{482, 11728.008}...|\n",
      "|                 111|[{1130, 5391.4146...|\n",
      "|                 146|[{22, 12386.544},...|\n",
      "|                 176|[{482, 7069.705},...|\n",
      "|                 178|[{1835, 5960.0737...|\n",
      "|                 270|[{482, 9633.656},...|\n",
      "|                 273|[{7, 6168.337}, {...|\n",
      "|                 289|[{1835, 8972.2705...|\n",
      "|                 300|[{1170, 6506.4263...|\n",
      "|                 334|[{91, 11459.936},...|\n",
      "|                 341|[{1170, 4287.996}...|\n",
      "|                 345|[{482, 7155.589},...|\n",
      "|                 346|[{482, 4147.2104}...|\n",
      "+--------------------+--------------------+\n",
      "only showing top 20 rows\n",
      "\n"
     ]
    }
   ],
   "source": [
    "user_recs = model.stages[-1].recommendForAllUsers(10)\n",
    "user_recs.show()"
   ]
  },
  {
   "cell_type": "code",
   "execution_count": 55,
   "metadata": {},
   "outputs": [
    {
     "data": {
      "text/plain": [
       "[StringIndexerModel: uid=StringIndexer_46d90c6cf1fe, handleInvalid=error,\n",
       " StringIndexerModel: uid=StringIndexer_381a5574ec2e, handleInvalid=error,\n",
       " IndexToString_fc1ffbccf1ee,\n",
       " IndexToString_ecfb42dec8df,\n",
       " ALSModel: uid=ALS_4a9acf03a5e4, rank=10]"
      ]
     },
     "execution_count": 55,
     "metadata": {},
     "output_type": "execute_result"
    }
   ],
   "source": [
    "model.stages"
   ]
  },
  {
   "cell_type": "code",
   "execution_count": 77,
   "metadata": {},
   "outputs": [
    {
     "name": "stdout",
     "output_type": "stream",
     "text": [
      "root\n",
      " |-- scanlation_group_idx: integer (nullable = false)\n",
      " |-- manga_idx: integer (nullable = true)\n",
      " |-- rating: float (nullable = true)\n",
      "\n",
      "+--------------------+---------+---------+--------------------+--------------------+\n",
      "|scanlation_group_idx|manga_idx|   rating|    scanlation_group|               manga|\n",
      "+--------------------+---------+---------+--------------------+--------------------+\n",
      "|                  38|     1835|  5398.25|6a9a19ee-ebe2-4b5...|aea1aa8b-0dd7-4d3...|\n",
      "|                  38|    20029| 5279.767|6a9a19ee-ebe2-4b5...|e2959879-a314-4ae...|\n",
      "|                  38|     1170| 4902.409|6a9a19ee-ebe2-4b5...|de34e04a-a9a4-4d9...|\n",
      "|                  38|     1236|4763.3516|6a9a19ee-ebe2-4b5...|1d5e923f-71e0-4bb...|\n",
      "|                  38|     7949|4581.1377|6a9a19ee-ebe2-4b5...|175cf215-2122-465...|\n",
      "|                  38|      590|4486.0005|6a9a19ee-ebe2-4b5...|c433f163-d610-49b...|\n",
      "|                  38|    17657|4415.1987|6a9a19ee-ebe2-4b5...|9dee3a07-f3d0-45e...|\n",
      "|                  38|      739| 4328.142|6a9a19ee-ebe2-4b5...|b973e612-0d54-48f...|\n",
      "|                  38|    24038| 4314.544|6a9a19ee-ebe2-4b5...|22e1c260-6e61-4a3...|\n",
      "|                  38|     2134|4252.9414|6a9a19ee-ebe2-4b5...|38dc5832-4714-446...|\n",
      "|                  57|     1835| 6268.892|1cc47109-9777-420...|aea1aa8b-0dd7-4d3...|\n",
      "|                  57|       91|6268.4106|1cc47109-9777-420...|b1461071-bfbb-43e...|\n",
      "|                  57|      111|4429.9536|1cc47109-9777-420...|003e7fbf-f047-478...|\n",
      "|                  57|      590| 4277.988|1cc47109-9777-420...|c433f163-d610-49b...|\n",
      "|                  57|     2184|4164.0166|1cc47109-9777-420...|4ebe63f0-598c-49d...|\n",
      "|                  57|     6382|3825.5005|1cc47109-9777-420...|899b5de6-9ad8-40b...|\n",
      "|                  57|      739| 3688.332|1cc47109-9777-420...|b973e612-0d54-48f...|\n",
      "|                  57|       95|3675.8037|1cc47109-9777-420...|cdae359d-5fa9-4d4...|\n",
      "|                  57|     2382|3613.8413|1cc47109-9777-420...|9fce5b8e-facf-4ef...|\n",
      "|                  57|     6645|3597.7852|1cc47109-9777-420...|a3c09565-47aa-410...|\n",
      "+--------------------+---------+---------+--------------------+--------------------+\n",
      "only showing top 20 rows\n",
      "\n"
     ]
    }
   ],
   "source": [
    "# lets convert the recommendation back to the original scan id and manga id\n",
    "exploded_user_rec = user_recs.withColumn(\n",
    "    \"exploded\", F.explode(\"recommendations\")\n",
    ").select(\"scanlation_group_idx\", \"exploded.*\")\n",
    "exploded_user_rec.printSchema()\n",
    "\n",
    "inverse_pipeline = Pipeline(\n",
    "    stages=[\n",
    "        IndexToString(\n",
    "            inputCol=\"scanlation_group_idx\",\n",
    "            outputCol=\"scanlation_group\",\n",
    "            labels=model.stages[0].labels,\n",
    "        ),\n",
    "        IndexToString(\n",
    "            inputCol=\"manga_idx\", outputCol=\"manga\", labels=model.stages[1].labels\n",
    "        ),\n",
    "    ]\n",
    ")\n",
    "# # now go from idx to the origin id\n",
    "inversed_model = inverse_pipeline.fit(exploded_user_rec)\n",
    "inversed_recs = inversed_model.transform(exploded_user_rec)\n",
    "inversed_recs.show()"
   ]
  },
  {
   "cell_type": "code",
   "execution_count": 81,
   "metadata": {},
   "outputs": [
    {
     "name": "stdout",
     "output_type": "stream",
     "text": [
      "+----------------+-------+\n",
      "|scanlation_group|n_manga|\n",
      "+----------------+-------+\n",
      "+----------------+-------+\n",
      "\n"
     ]
    }
   ],
   "source": [
    "(\n",
    "    inversed_recs.select(\"scanlation_group\", \"manga\")\n",
    "    .join(scan_manga, on=[\"manga\", \"scanlation_group\"], how=\"left_outer\")\n",
    "    .groupby(\"scanlation_group\")\n",
    "    .agg(F.countDistinct(\"manga\").alias(\"n_manga\"))\n",
    "    .where(\"n_manga < 10\")\n",
    ").show()\n",
    "# looks like the recommendation pipeline is smart enough to not include manga that's already been done"
   ]
  }
 ],
 "metadata": {
  "kernelspec": {
   "display_name": ".venv",
   "language": "python",
   "name": "python3"
  },
  "language_info": {
   "codemirror_mode": {
    "name": "ipython",
    "version": 3
   },
   "file_extension": ".py",
   "mimetype": "text/x-python",
   "name": "python",
   "nbconvert_exporter": "python",
   "pygments_lexer": "ipython3",
   "version": "3.10.5 (tags/v3.10.5:f377153, Jun  6 2022, 16:14:13) [MSC v.1929 64 bit (AMD64)]"
  },
  "orig_nbformat": 4,
  "vscode": {
   "interpreter": {
    "hash": "bca7b2bdba768571c0082ebd75c4aeb7591ff0a55f8644ae03b303997b530c9d"
   }
  }
 },
 "nbformat": 4,
 "nbformat_minor": 2
}
