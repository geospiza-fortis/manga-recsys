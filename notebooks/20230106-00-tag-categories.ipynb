{
 "cells": [
  {
   "cell_type": "code",
   "execution_count": 66,
   "metadata": {},
   "outputs": [
    {
     "name": "stdout",
     "output_type": "stream",
     "text": [
      "The autoreload extension is already loaded. To reload it, use:\n",
      "  %reload_ext autoreload\n",
      "The lab_black extension is already loaded. To reload it, use:\n",
      "  %reload_ext lab_black\n"
     ]
    }
   ],
   "source": [
    "%load_ext autoreload\n",
    "%autoreload 2\n",
    "%load_ext lab_black\n",
    "from pyspark.sql import functions as F, Window\n",
    "from manga_recsys.spark import get_spark\n",
    "\n",
    "spark = get_spark()"
   ]
  },
  {
   "cell_type": "code",
   "execution_count": 67,
   "metadata": {},
   "outputs": [],
   "source": [
    "manga_info = spark.read.parquet(\n",
    "    \"../data/processed/2022-12-17-metadata-listing/manga_info.parquet\"\n",
    ")"
   ]
  },
  {
   "cell_type": "code",
   "execution_count": 68,
   "metadata": {},
   "outputs": [
    {
     "name": "stdout",
     "output_type": "stream",
     "text": [
      "+-----+-------+-------------------+\n",
      "|group|   name|            support|\n",
      "+-----+-------+-------------------+\n",
      "|genre|Romance|0.08855750734636077|\n",
      "|genre| Comedy|0.07681018786796096|\n",
      "|genre|  Drama|0.06728134933016963|\n",
      "+-----+-------+-------------------+\n",
      "only showing top 3 rows\n",
      "\n"
     ]
    }
   ],
   "source": [
    "tags = manga_info.select(F.explode(\"tags\").alias(\"tags\")).select(\"tags.*\")\n",
    "n = tags.count()\n",
    "tags = (\n",
    "    tags.groupBy(\"group\", \"name\")\n",
    "    .count()\n",
    "    .withColumn(\"support\", F.col(\"count\") / n)\n",
    "    .orderBy(\"support\", ascending=False)\n",
    "    .drop(\"count\")\n",
    ")\n",
    "tags.show(n=3)"
   ]
  },
  {
   "cell_type": "code",
   "execution_count": 75,
   "metadata": {},
   "outputs": [],
   "source": [
    "from umap import UMAP\n",
    "import numpy as np\n",
    "from pathlib import Path\n",
    "import pandas as pd\n",
    "import json\n",
    "\n",
    "\n",
    "def process(tags, w2v, output_metric=\"euclidean\"):\n",
    "    w2v = w2v.reset_index()\n",
    "    reducer = UMAP(\n",
    "        n_components=1, metric=\"cosine\", output_metric=output_metric, verbose=True\n",
    "    )\n",
    "    emb = reducer.fit_transform(np.stack(w2v.emb.tolist()))\n",
    "    w2v[\"emb\"] = emb[:, 0].tolist()\n",
    "    w2v = w2v.sort_values(\"emb\")\n",
    "    tags_emb = tags.join(\n",
    "        spark.createDataFrame(w2v).withColumnRenamed(\"index\", \"name\"),\n",
    "        on=\"name\",\n",
    "        how=\"left\",\n",
    "    ).orderBy(\"emb\")\n",
    "    return tags_emb"
   ]
  },
  {
   "cell_type": "code",
   "execution_count": 76,
   "metadata": {},
   "outputs": [
    {
     "name": "stdout",
     "output_type": "stream",
     "text": [
      "UMAP(angular_rp_forest=True, metric='cosine', n_components=1, verbose=True)\n",
      "Fri Jan  6 20:36:21 2023 Construct fuzzy simplicial set\n",
      "Fri Jan  6 20:36:21 2023 Finding Nearest Neighbors\n",
      "Fri Jan  6 20:36:21 2023 Finished Nearest Neighbor Search\n",
      "Fri Jan  6 20:36:21 2023 Construct embedding\n"
     ]
    },
    {
     "data": {
      "application/vnd.jupyter.widget-view+json": {
       "model_id": "74423143ea204ae083fbe1e7131ae6ef",
       "version_major": 2,
       "version_minor": 0
      },
      "text/plain": [
       "Epochs completed:   0%|            0/500 [00:00]"
      ]
     },
     "metadata": {},
     "output_type": "display_data"
    },
    {
     "name": "stdout",
     "output_type": "stream",
     "text": [
      "Fri Jan  6 20:36:23 2023 Finished embedding\n"
     ]
    },
    {
     "name": "stderr",
     "output_type": "stream",
     "text": [
      "f:\\code\\mangadex\\.venv\\lib\\site-packages\\pyspark\\sql\\pandas\\conversion.py:604: FutureWarning: iteritems is deprecated and will be removed in a future version. Use .items instead.\n",
      "  [(c, t) for (_, c), t in zip(pdf_slice.iteritems(), arrow_types)]\n"
     ]
    }
   ],
   "source": [
    "w2v = pd.read_json(\n",
    "    \"../data/processed/2022-12-20-recommendation-manga-tags-word2vec/word2vec-16d.json\"\n",
    ")\n",
    "tags_emb = process(tags, w2v, output_metric=\"euclidean\")\n",
    "path = Path(\n",
    "    \"../data/processed/2022-12-20-recommendation-manga-tags-word2vec/tags-euclidean.json\"\n",
    ")\n",
    "tags_emb.toPandas().to_json(path, orient=\"records\")"
   ]
  },
  {
   "cell_type": "code",
   "execution_count": 77,
   "metadata": {},
   "outputs": [
    {
     "name": "stdout",
     "output_type": "stream",
     "text": [
      "UMAP(angular_rp_forest=True, metric='cosine', n_components=1, output_metric='hyperboloid', verbose=True)\n",
      "Fri Jan  6 20:36:26 2023 Construct fuzzy simplicial set\n",
      "Fri Jan  6 20:36:26 2023 Finding Nearest Neighbors\n",
      "Fri Jan  6 20:36:26 2023 Finished Nearest Neighbor Search\n",
      "Fri Jan  6 20:36:26 2023 Construct embedding\n"
     ]
    },
    {
     "data": {
      "application/vnd.jupyter.widget-view+json": {
       "model_id": "692b515439f24afeb9bf2531772fee8f",
       "version_major": 2,
       "version_minor": 0
      },
      "text/plain": [
       "Epochs completed:   0%|            0/500 [00:00]"
      ]
     },
     "metadata": {},
     "output_type": "display_data"
    },
    {
     "name": "stdout",
     "output_type": "stream",
     "text": [
      "Fri Jan  6 20:36:27 2023 Finished embedding\n"
     ]
    },
    {
     "name": "stderr",
     "output_type": "stream",
     "text": [
      "f:\\code\\mangadex\\.venv\\lib\\site-packages\\pyspark\\sql\\pandas\\conversion.py:604: FutureWarning: iteritems is deprecated and will be removed in a future version. Use .items instead.\n",
      "  [(c, t) for (_, c), t in zip(pdf_slice.iteritems(), arrow_types)]\n"
     ]
    }
   ],
   "source": [
    "tags_emb = process(tags, w2v, output_metric=\"hyperboloid\")\n",
    "path = Path(\n",
    "    \"../data/processed/2022-12-20-recommendation-manga-tags-word2vec/tags-hyperboloid.json\"\n",
    ")\n",
    "tags_emb.toPandas().to_json(path, orient=\"records\")"
   ]
  }
 ],
 "metadata": {
  "kernelspec": {
   "display_name": ".venv",
   "language": "python",
   "name": "python3"
  },
  "language_info": {
   "codemirror_mode": {
    "name": "ipython",
    "version": 3
   },
   "file_extension": ".py",
   "mimetype": "text/x-python",
   "name": "python",
   "nbconvert_exporter": "python",
   "pygments_lexer": "ipython3",
   "version": "3.10.5"
  },
  "orig_nbformat": 4,
  "vscode": {
   "interpreter": {
    "hash": "bca7b2bdba768571c0082ebd75c4aeb7591ff0a55f8644ae03b303997b530c9d"
   }
  }
 },
 "nbformat": 4,
 "nbformat_minor": 2
}
