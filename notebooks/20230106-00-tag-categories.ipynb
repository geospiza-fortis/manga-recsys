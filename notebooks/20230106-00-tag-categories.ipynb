{
 "cells": [
  {
   "cell_type": "code",
   "execution_count": 1,
   "metadata": {},
   "outputs": [],
   "source": [
    "%load_ext autoreload\n",
    "%autoreload 2\n",
    "%load_ext lab_black\n",
    "from pyspark.sql import functions as F, Window\n",
    "from manga_recsys.spark import get_spark\n",
    "\n",
    "spark = get_spark()"
   ]
  },
  {
   "cell_type": "code",
   "execution_count": 2,
   "metadata": {},
   "outputs": [],
   "source": [
    "manga_info = spark.read.parquet(\n",
    "    \"../data/processed/2022-12-17-metadata-listing/manga_info.parquet\"\n",
    ")"
   ]
  },
  {
   "cell_type": "code",
   "execution_count": 19,
   "metadata": {},
   "outputs": [
    {
     "name": "stdout",
     "output_type": "stream",
     "text": [
      "+------+----------------+\n",
      "| group|            name|\n",
      "+------+----------------+\n",
      "| theme|         Samurai|\n",
      "|format|       Anthology|\n",
      "|format|Official Colored|\n",
      "+------+----------------+\n",
      "only showing top 3 rows\n",
      "\n"
     ]
    }
   ],
   "source": [
    "tags = manga_info.select(F.explode(\"tags\").alias(\"tags\")).distinct().select(\"tags.*\")\n",
    "tags.show(n=3)"
   ]
  },
  {
   "cell_type": "code",
   "execution_count": 29,
   "metadata": {},
   "outputs": [
    {
     "data": {
      "text/html": [
       "<div>\n",
       "<style scoped>\n",
       "    .dataframe tbody tr th:only-of-type {\n",
       "        vertical-align: middle;\n",
       "    }\n",
       "\n",
       "    .dataframe tbody tr th {\n",
       "        vertical-align: top;\n",
       "    }\n",
       "\n",
       "    .dataframe thead th {\n",
       "        text-align: right;\n",
       "    }\n",
       "</style>\n",
       "<table border=\"1\" class=\"dataframe\">\n",
       "  <thead>\n",
       "    <tr style=\"text-align: right;\">\n",
       "      <th></th>\n",
       "      <th>index</th>\n",
       "      <th>emb</th>\n",
       "    </tr>\n",
       "  </thead>\n",
       "  <tbody>\n",
       "    <tr>\n",
       "      <th>0</th>\n",
       "      <td>4-Koma</td>\n",
       "      <td>-2.064125</td>\n",
       "    </tr>\n",
       "    <tr>\n",
       "      <th>1</th>\n",
       "      <td>Action</td>\n",
       "      <td>-2.740936</td>\n",
       "    </tr>\n",
       "    <tr>\n",
       "      <th>2</th>\n",
       "      <td>Adaptation</td>\n",
       "      <td>-2.548935</td>\n",
       "    </tr>\n",
       "    <tr>\n",
       "      <th>3</th>\n",
       "      <td>Adventure</td>\n",
       "      <td>-2.760301</td>\n",
       "    </tr>\n",
       "    <tr>\n",
       "      <th>4</th>\n",
       "      <td>Aliens</td>\n",
       "      <td>-2.783622</td>\n",
       "    </tr>\n",
       "  </tbody>\n",
       "</table>\n",
       "</div>"
      ],
      "text/plain": [
       "        index       emb\n",
       "0      4-Koma -2.064125\n",
       "1      Action -2.740936\n",
       "2  Adaptation -2.548935\n",
       "3   Adventure -2.760301\n",
       "4      Aliens -2.783622"
      ]
     },
     "execution_count": 29,
     "metadata": {},
     "output_type": "execute_result"
    }
   ],
   "source": [
    "import pandas as pd\n",
    "\n",
    "w2v = pd.read_json(\n",
    "    \"../data/processed/2022-12-20-recommendation-manga-tags-word2vec/word2vec-1d.json\"\n",
    ")\n",
    "w2v = w2v.reset_index()\n",
    "w2v.emb = w2v.emb.apply(lambda x: x[0])\n",
    "w2v.head()"
   ]
  },
  {
   "cell_type": "code",
   "execution_count": 32,
   "metadata": {},
   "outputs": [
    {
     "name": "stderr",
     "output_type": "stream",
     "text": [
      "f:\\code\\mangadex\\.venv\\lib\\site-packages\\pyspark\\sql\\pandas\\conversion.py:604: FutureWarning: iteritems is deprecated and will be removed in a future version. Use .items instead.\n",
      "  [(c, t) for (_, c), t in zip(pdf_slice.iteritems(), arrow_types)]\n"
     ]
    },
    {
     "name": "stdout",
     "output_type": "stream",
     "text": [
      "+----------------+-------+-------------------+\n",
      "|            name|  group|                emb|\n",
      "+----------------+-------+-------------------+\n",
      "|        Military|  theme|  -3.32401180267334|\n",
      "|        Survival|  theme| -3.247955799102783|\n",
      "|           Crime|  genre| -3.142381191253662|\n",
      "|            Gore|content| -3.104047536849975|\n",
      "|        Thriller|  genre| -3.062736988067627|\n",
      "|          Police|  theme| -3.021719217300415|\n",
      "|        Monsters|  theme| -3.021246910095215|\n",
      "|           Mafia|  theme| -3.018636465072632|\n",
      "|   Philosophical|  genre|  -2.98616623878479|\n",
      "|Post-Apocalyptic|  theme| -2.985933303833008|\n",
      "|         Samurai|  theme| -2.943522691726684|\n",
      "|          Sci-Fi|  genre| -2.930526494979858|\n",
      "|          Aliens|  theme| -2.783621788024902|\n",
      "|       Adventure|  genre| -2.760301351547241|\n",
      "|          Demons|  theme|  -2.74478793144226|\n",
      "|         Zombies|  theme| -2.741482019424438|\n",
      "|          Action|  genre| -2.740936040878296|\n",
      "|     Delinquents|  theme| -2.731619834899902|\n",
      "|   Reincarnation|  theme|-2.6972146034240723|\n",
      "|   Psychological|  genre| -2.688043594360351|\n",
      "+----------------+-------+-------------------+\n",
      "only showing top 20 rows\n",
      "\n"
     ]
    }
   ],
   "source": [
    "tags_emb = tags.join(\n",
    "    spark.createDataFrame(w2v).withColumnRenamed(\"index\", \"name\"), on=\"name\", how=\"left\"\n",
    ").orderBy(\"emb\")\n",
    "tags_emb.show()"
   ]
  },
  {
   "cell_type": "code",
   "execution_count": 34,
   "metadata": {},
   "outputs": [],
   "source": [
    "from pathlib import Path\n",
    "import json\n",
    "\n",
    "path = Path(\"../data/processed/2022-12-20-recommendation-manga-tags-word2vec/tags.json\")\n",
    "tags_emb.toPandas().to_json(path, orient=\"records\")"
   ]
  },
  {
   "cell_type": "code",
   "execution_count": 35,
   "metadata": {},
   "outputs": [],
   "source": [
    "# let's actually embed the tags into hyperbolic space so it looks good on a circle"
   ]
  },
  {
   "cell_type": "code",
   "execution_count": 37,
   "metadata": {},
   "outputs": [
    {
     "data": {
      "text/html": [
       "<div>\n",
       "<style scoped>\n",
       "    .dataframe tbody tr th:only-of-type {\n",
       "        vertical-align: middle;\n",
       "    }\n",
       "\n",
       "    .dataframe tbody tr th {\n",
       "        vertical-align: top;\n",
       "    }\n",
       "\n",
       "    .dataframe thead th {\n",
       "        text-align: right;\n",
       "    }\n",
       "</style>\n",
       "<table border=\"1\" class=\"dataframe\">\n",
       "  <thead>\n",
       "    <tr style=\"text-align: right;\">\n",
       "      <th></th>\n",
       "      <th>index</th>\n",
       "      <th>emb</th>\n",
       "    </tr>\n",
       "  </thead>\n",
       "  <tbody>\n",
       "    <tr>\n",
       "      <th>0</th>\n",
       "      <td>4-Koma</td>\n",
       "      <td>[0.043435163795948, 0.246976390480995, -0.5715...</td>\n",
       "    </tr>\n",
       "    <tr>\n",
       "      <th>1</th>\n",
       "      <td>Action</td>\n",
       "      <td>[0.917387902736663, 1.068451046943664, 2.03778...</td>\n",
       "    </tr>\n",
       "    <tr>\n",
       "      <th>2</th>\n",
       "      <td>Adaptation</td>\n",
       "      <td>[0.9329831004142761, -1.450610756874084, -0.79...</td>\n",
       "    </tr>\n",
       "    <tr>\n",
       "      <th>3</th>\n",
       "      <td>Adventure</td>\n",
       "      <td>[2.34206485748291, -0.047535207122564004, 0.96...</td>\n",
       "    </tr>\n",
       "    <tr>\n",
       "      <th>4</th>\n",
       "      <td>Aliens</td>\n",
       "      <td>[2.270046234130859, 0.06459613144397701, 1.549...</td>\n",
       "    </tr>\n",
       "  </tbody>\n",
       "</table>\n",
       "</div>"
      ],
      "text/plain": [
       "        index                                                emb\n",
       "0      4-Koma  [0.043435163795948, 0.246976390480995, -0.5715...\n",
       "1      Action  [0.917387902736663, 1.068451046943664, 2.03778...\n",
       "2  Adaptation  [0.9329831004142761, -1.450610756874084, -0.79...\n",
       "3   Adventure  [2.34206485748291, -0.047535207122564004, 0.96...\n",
       "4      Aliens  [2.270046234130859, 0.06459613144397701, 1.549..."
      ]
     },
     "execution_count": 37,
     "metadata": {},
     "output_type": "execute_result"
    }
   ],
   "source": [
    "w2v = pd.read_json(\n",
    "    \"../data/processed/2022-12-20-recommendation-manga-tags-word2vec/word2vec-16d.json\"\n",
    ")\n",
    "w2v = w2v.reset_index()\n",
    "w2v.head()"
   ]
  },
  {
   "cell_type": "code",
   "execution_count": 40,
   "metadata": {},
   "outputs": [
    {
     "name": "stdout",
     "output_type": "stream",
     "text": [
      "UMAP(n_components=1, output_metric='hyperboloid', verbose=True)\n",
      "Fri Jan  6 20:03:40 2023 Construct fuzzy simplicial set\n",
      "Fri Jan  6 20:03:40 2023 Finding Nearest Neighbors\n",
      "Fri Jan  6 20:03:41 2023 Finished Nearest Neighbor Search\n",
      "Fri Jan  6 20:03:43 2023 Construct embedding\n"
     ]
    },
    {
     "data": {
      "application/vnd.jupyter.widget-view+json": {
       "model_id": "294de4d0297b484c96a2e1d835509125",
       "version_major": 2,
       "version_minor": 0
      },
      "text/plain": [
       "Epochs completed:   0%|            0/500 [00:00]"
      ]
     },
     "metadata": {},
     "output_type": "display_data"
    },
    {
     "name": "stdout",
     "output_type": "stream",
     "text": [
      "Fri Jan  6 20:03:44 2023 Finished embedding\n"
     ]
    }
   ],
   "source": [
    "from umap import UMAP\n",
    "import numpy as np\n",
    "\n",
    "reducer = UMAP(n_components=1, output_metric=\"hyperboloid\", verbose=True)\n",
    "emb = reducer.fit_transform(np.stack(w2v.emb.tolist()))"
   ]
  },
  {
   "cell_type": "code",
   "execution_count": 44,
   "metadata": {},
   "outputs": [
    {
     "data": {
      "text/html": [
       "<div>\n",
       "<style scoped>\n",
       "    .dataframe tbody tr th:only-of-type {\n",
       "        vertical-align: middle;\n",
       "    }\n",
       "\n",
       "    .dataframe tbody tr th {\n",
       "        vertical-align: top;\n",
       "    }\n",
       "\n",
       "    .dataframe thead th {\n",
       "        text-align: right;\n",
       "    }\n",
       "</style>\n",
       "<table border=\"1\" class=\"dataframe\">\n",
       "  <thead>\n",
       "    <tr style=\"text-align: right;\">\n",
       "      <th></th>\n",
       "      <th>index</th>\n",
       "      <th>emb</th>\n",
       "    </tr>\n",
       "  </thead>\n",
       "  <tbody>\n",
       "    <tr>\n",
       "      <th>35</th>\n",
       "      <td>Martial Arts</td>\n",
       "      <td>-88.506248</td>\n",
       "    </tr>\n",
       "    <tr>\n",
       "      <th>0</th>\n",
       "      <td>4-Koma</td>\n",
       "      <td>-76.551628</td>\n",
       "    </tr>\n",
       "    <tr>\n",
       "      <th>61</th>\n",
       "      <td>Superhero</td>\n",
       "      <td>-69.547234</td>\n",
       "    </tr>\n",
       "    <tr>\n",
       "      <th>47</th>\n",
       "      <td>Philosophical</td>\n",
       "      <td>-63.449074</td>\n",
       "    </tr>\n",
       "    <tr>\n",
       "      <th>17</th>\n",
       "      <td>Fan Colored</td>\n",
       "      <td>-57.065430</td>\n",
       "    </tr>\n",
       "  </tbody>\n",
       "</table>\n",
       "</div>"
      ],
      "text/plain": [
       "            index        emb\n",
       "35   Martial Arts -88.506248\n",
       "0          4-Koma -76.551628\n",
       "61      Superhero -69.547234\n",
       "47  Philosophical -63.449074\n",
       "17    Fan Colored -57.065430"
      ]
     },
     "execution_count": 44,
     "metadata": {},
     "output_type": "execute_result"
    }
   ],
   "source": [
    "w2v[\"emb\"] = emb[:, 0].tolist()\n",
    "w2v = w2v.sort_values(\"emb\")\n",
    "w2v.head()"
   ]
  },
  {
   "cell_type": "code",
   "execution_count": 45,
   "metadata": {},
   "outputs": [
    {
     "name": "stderr",
     "output_type": "stream",
     "text": [
      "f:\\code\\mangadex\\.venv\\lib\\site-packages\\pyspark\\sql\\pandas\\conversion.py:604: FutureWarning: iteritems is deprecated and will be removed in a future version. Use .items instead.\n",
      "  [(c, t) for (_, c), t in zip(pdf_slice.iteritems(), arrow_types)]\n"
     ]
    },
    {
     "name": "stdout",
     "output_type": "stream",
     "text": [
      "+---------------+-------+-------------------+\n",
      "|           name|  group|                emb|\n",
      "+---------------+-------+-------------------+\n",
      "|   Martial Arts|  theme|  -88.5062484741211|\n",
      "|         4-Koma| format| -76.55162811279297|\n",
      "|      Superhero|  genre| -69.54723358154297|\n",
      "|  Philosophical|  genre|-63.449073791503906|\n",
      "|    Fan Colored| format|     -57.0654296875|\n",
      "|          Music|  theme| -52.26902389526367|\n",
      "|           Gore|content| -47.96864318847656|\n",
      "|         Ghosts|  theme| -44.20344543457031|\n",
      "|        Mystery|  genre| -39.89293670654297|\n",
      "|        Cooking|  theme|-36.308815002441406|\n",
      "|         Demons|  theme|-32.586727142333984|\n",
      "|         Aliens|  theme|-29.141666412353516|\n",
      "|          Mecha|  genre|-26.937532424926758|\n",
      "|  Crossdressing|  theme|-24.301036834716797|\n",
      "|  Slice of Life|  genre|-22.155498504638672|\n",
      "|    Delinquents|  theme|-18.757444381713867|\n",
      "|          Harem|  theme|-17.142885208129883|\n",
      "|          Mafia|  theme|-15.103346824645996|\n",
      "|Virtual Reality|  theme| -13.01528263092041|\n",
      "|   Supernatural|  theme| -9.375056266784668|\n",
      "+---------------+-------+-------------------+\n",
      "only showing top 20 rows\n",
      "\n"
     ]
    }
   ],
   "source": [
    "tags_emb = tags.join(\n",
    "    spark.createDataFrame(w2v).withColumnRenamed(\"index\", \"name\"), on=\"name\", how=\"left\"\n",
    ").orderBy(\"emb\")\n",
    "tags_emb.show()\n",
    "\n",
    "path = Path(\n",
    "    \"../data/processed/2022-12-20-recommendation-manga-tags-word2vec/tags-hyperboloid.json\"\n",
    ")\n",
    "tags_emb.toPandas().to_json(path, orient=\"records\")"
   ]
  }
 ],
 "metadata": {
  "kernelspec": {
   "display_name": ".venv",
   "language": "python",
   "name": "python3"
  },
  "language_info": {
   "codemirror_mode": {
    "name": "ipython",
    "version": 3
   },
   "file_extension": ".py",
   "mimetype": "text/x-python",
   "name": "python",
   "nbconvert_exporter": "python",
   "pygments_lexer": "ipython3",
   "version": "3.10.5"
  },
  "orig_nbformat": 4,
  "vscode": {
   "interpreter": {
    "hash": "bca7b2bdba768571c0082ebd75c4aeb7591ff0a55f8644ae03b303997b530c9d"
   }
  }
 },
 "nbformat": 4,
 "nbformat_minor": 2
}
