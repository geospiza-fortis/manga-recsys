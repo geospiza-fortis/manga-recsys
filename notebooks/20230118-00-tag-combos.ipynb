{
 "cells": [
  {
   "cell_type": "code",
   "execution_count": 3,
   "metadata": {},
   "outputs": [
    {
     "name": "stdout",
     "output_type": "stream",
     "text": [
      "The autoreload extension is already loaded. To reload it, use:\n",
      "  %reload_ext autoreload\n",
      "The lab_black extension is already loaded. To reload it, use:\n",
      "  %reload_ext lab_black\n"
     ]
    }
   ],
   "source": [
    "%load_ext autoreload\n",
    "%autoreload 2\n",
    "%load_ext lab_black\n",
    "from pyspark.sql import functions as F, Window\n",
    "from manga_recsys.spark import get_spark\n",
    "\n",
    "spark = get_spark()"
   ]
  },
  {
   "cell_type": "code",
   "execution_count": 5,
   "metadata": {},
   "outputs": [],
   "source": [
    "manga_info = spark.read.parquet(\n",
    "    \"../data/processed/2022-12-17-metadata-listing/manga_info.parquet\"\n",
    ")"
   ]
  },
  {
   "cell_type": "code",
   "execution_count": 42,
   "metadata": {},
   "outputs": [
    {
     "data": {
      "text/plain": [
       "FPGrowthModel: uid=FPGrowth_cf676a1c8919, numTrainingRecords=64464"
      ]
     },
     "execution_count": 42,
     "metadata": {},
     "output_type": "execute_result"
    }
   ],
   "source": [
    "from pyspark.ml.fpm import FPGrowth\n",
    "\n",
    "fp = FPGrowth(\n",
    "    itemsCol=\"tags\",\n",
    "    predictionCol=\"prediction\",\n",
    "    minSupport=0.001,\n",
    "    minConfidence=0.001,\n",
    ")\n",
    "fpm = fp.fit(manga_info)\n",
    "fpm"
   ]
  },
  {
   "cell_type": "code",
   "execution_count": 43,
   "metadata": {},
   "outputs": [
    {
     "data": {
      "text/plain": [
       "118100"
      ]
     },
     "execution_count": 43,
     "metadata": {},
     "output_type": "execute_result"
    }
   ],
   "source": [
    "fpm.freqItemsets.count()"
   ]
  },
  {
   "cell_type": "code",
   "execution_count": 44,
   "metadata": {},
   "outputs": [
    {
     "name": "stdout",
     "output_type": "stream",
     "text": [
      "+------------------------------------------------------------+----+\n",
      "|                                                       items|freq|\n",
      "+------------------------------------------------------------+----+\n",
      "|                                           [{content, Gore}]|1783|\n",
      "|               [{content, Gore}, {content, Sexual Violence}]| 398|\n",
      "|[{content, Gore}, {content, Sexual Violence}, {genre, Act...| 243|\n",
      "|[{content, Gore}, {content, Sexual Violence}, {genre, Act...|  89|\n",
      "|[{content, Gore}, {content, Sexual Violence}, {genre, Act...| 180|\n",
      "|[{content, Gore}, {content, Sexual Violence}, {genre, Act...|  69|\n",
      "|[{content, Gore}, {content, Sexual Violence}, {genre, Act...|  94|\n",
      "|[{content, Gore}, {content, Sexual Violence}, {genre, Act...|  69|\n",
      "|[{content, Gore}, {content, Sexual Violence}, {genre, Adv...| 136|\n",
      "|[{content, Gore}, {content, Sexual Violence}, {genre, Adv...| 129|\n",
      "+------------------------------------------------------------+----+\n",
      "only showing top 10 rows\n",
      "\n"
     ]
    }
   ],
   "source": [
    "fpm.freqItemsets.sort(\"items\").show(n=10, truncate=60)"
   ]
  },
  {
   "cell_type": "code",
   "execution_count": 45,
   "metadata": {},
   "outputs": [
    {
     "name": "stdout",
     "output_type": "stream",
     "text": [
      "root\n",
      " |-- items: array (nullable = false)\n",
      " |    |-- element: struct (containsNull = true)\n",
      " |    |    |-- group: string (nullable = true)\n",
      " |    |    |-- name: string (nullable = true)\n",
      " |-- freq: long (nullable = false)\n",
      "\n"
     ]
    }
   ],
   "source": [
    "fpm.freqItemsets.printSchema()"
   ]
  },
  {
   "cell_type": "code",
   "execution_count": 46,
   "metadata": {},
   "outputs": [
    {
     "name": "stdout",
     "output_type": "stream",
     "text": [
      "50\n"
     ]
    }
   ],
   "source": [
    "exploded = (\n",
    "    fpm.freqItemsets.where(F.size(\"items\") == 2)\n",
    "    .withColumn(\"id\", F.monotonically_increasing_id())\n",
    "    .withColumn(\"exploded\", F.explode(\"items\"))\n",
    "    .select(\"id\", \"exploded.*\", \"freq\", \"items\")\n",
    ")\n",
    "genres = exploded.where(F.col(\"group\") == \"genre\").select(\"name\").distinct()\n",
    "\n",
    "# only keep ids that have at least one instance of genre, but not \"format\" or \"content\"\n",
    "valid_ids = (\n",
    "    exploded.groupBy(\"id\")\n",
    "    .agg(F.collect_set(\"group\").alias(\"groups\"))\n",
    "    .where(F.array_contains(\"groups\", \"genre\"))\n",
    "    .where(~F.array_contains(\"groups\", \"format\"))\n",
    "    .where(~F.array_contains(\"groups\", \"content\"))\n",
    "    .select(\n",
    "        \"id\",\n",
    "        F.when(F.array_contains(\"groups\", \"theme\"), 1).otherwise(0).alias(\"is_theme\"),\n",
    "    )\n",
    "    .distinct()\n",
    ")\n",
    "\n",
    "filtered = exploded.join(valid_ids, on=\"id\", how=\"inner\")\n",
    "\n",
    "ranked = (\n",
    "    genres.join(filtered, on=\"name\", how=\"left\")\n",
    "    .withColumn(\n",
    "        \"rank\",\n",
    "        F.row_number().over(\n",
    "            Window.partitionBy(\"name\", \"is_theme\").orderBy(F.desc(\"freq\"))\n",
    "        ),\n",
    "    )\n",
    "    .where(\"rank = 1\")\n",
    ")\n",
    "\n",
    "res = (\n",
    "    ranked.withColumn(\"exploded\", F.explode(\"items\"))\n",
    "    .where(\"name != exploded.name\")\n",
    "    .selectExpr(\"name as genre\", \"exploded.name as pair\", \"is_theme\", \"freq\")\n",
    ")\n",
    "print(res.count())"
   ]
  },
  {
   "cell_type": "code",
   "execution_count": 49,
   "metadata": {},
   "outputs": [],
   "source": [
    "res.toPandas().to_csv(\"../data/processed/2023-01-18-genre-pairs.csv\", index=False)"
   ]
  },
  {
   "cell_type": "code",
   "execution_count": 51,
   "metadata": {},
   "outputs": [
    {
     "name": "stdout",
     "output_type": "stream",
     "text": [
      "+-------------+-------------+--------+-----+\n",
      "|        genre|         pair|is_theme| freq|\n",
      "+-------------+-------------+--------+-----+\n",
      "|       Action|    Adventure|       0| 5257|\n",
      "|       Action| Supernatural|       1| 3447|\n",
      "|    Adventure|       Action|       0| 5257|\n",
      "|    Adventure| Supernatural|       1| 1871|\n",
      "|   Boys' Love|      Romance|       0| 5084|\n",
      "|   Boys' Love|  School Life|       1| 2220|\n",
      "|       Comedy|      Romance|       0|11086|\n",
      "|       Comedy|  School Life|       1| 7067|\n",
      "|        Crime|        Drama|       0|  804|\n",
      "|        Crime|       Police|       1|  401|\n",
      "|        Drama|      Romance|       0|10486|\n",
      "|        Drama|  School Life|       1| 4806|\n",
      "|      Fantasy|       Action|       0| 5190|\n",
      "|      Fantasy| Supernatural|       1| 3334|\n",
      "|  Girls' Love|      Romance|       0| 1515|\n",
      "|  Girls' Love|  School Life|       1| 1290|\n",
      "|   Historical|        Drama|       0| 2018|\n",
      "|   Historical| Supernatural|       1|  807|\n",
      "|       Horror|        Drama|       0| 1358|\n",
      "|       Horror| Supernatural|       1| 1471|\n",
      "|       Isekai|      Fantasy|       0| 1784|\n",
      "|       Isekai|Reincarnation|       1|  897|\n",
      "|Magical Girls|       Comedy|       0|  164|\n",
      "|Magical Girls|        Magic|       1|  127|\n",
      "|        Mecha|       Action|       0|  662|\n",
      "|        Mecha|     Military|       1|  276|\n",
      "|      Medical|        Drama|       0|  187|\n",
      "|      Medical| Supernatural|       1|   74|\n",
      "|      Mystery|        Drama|       0| 2546|\n",
      "|      Mystery| Supernatural|       1| 1973|\n",
      "|Philosophical|        Drama|       0|  664|\n",
      "|Philosophical|     Survival|       1|  384|\n",
      "|Psychological|        Drama|       0| 3587|\n",
      "|Psychological| Supernatural|       1| 1408|\n",
      "|      Romance|       Comedy|       0|11086|\n",
      "|      Romance|  School Life|       1| 8164|\n",
      "|       Sci-Fi|       Action|       0| 1837|\n",
      "|       Sci-Fi| Supernatural|       1|  742|\n",
      "|Slice of Life|       Comedy|       0| 7675|\n",
      "|Slice of Life|  School Life|       1| 4503|\n",
      "|       Sports|       Comedy|       0|  794|\n",
      "|       Sports|  School Life|       1|  699|\n",
      "|    Superhero|       Action|       0|  291|\n",
      "|    Superhero|     Monsters|       1|  136|\n",
      "|     Thriller|        Drama|       0| 1494|\n",
      "|     Thriller|     Survival|       1|  990|\n",
      "|      Tragedy|        Drama|       0| 3091|\n",
      "|      Tragedy| Supernatural|       1| 1407|\n",
      "|        Wuxia|       Action|       0|  293|\n",
      "|        Wuxia| Martial Arts|       1|  267|\n",
      "+-------------+-------------+--------+-----+\n",
      "\n"
     ]
    }
   ],
   "source": [
    "res.show(n=100, truncate=80)"
   ]
  }
 ],
 "metadata": {
  "kernelspec": {
   "display_name": ".venv",
   "language": "python",
   "name": "python3"
  },
  "language_info": {
   "codemirror_mode": {
    "name": "ipython",
    "version": 3
   },
   "file_extension": ".py",
   "mimetype": "text/x-python",
   "name": "python",
   "nbconvert_exporter": "python",
   "pygments_lexer": "ipython3",
   "version": "3.10.5"
  },
  "orig_nbformat": 4,
  "vscode": {
   "interpreter": {
    "hash": "bca7b2bdba768571c0082ebd75c4aeb7591ff0a55f8644ae03b303997b530c9d"
   }
  }
 },
 "nbformat": 4,
 "nbformat_minor": 2
}
