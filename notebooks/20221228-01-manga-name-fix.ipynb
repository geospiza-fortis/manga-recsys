{
 "cells": [
  {
   "cell_type": "code",
   "execution_count": 2,
   "metadata": {},
   "outputs": [],
   "source": [
    "%load_ext autoreload\n",
    "%autoreload 2\n",
    "%load_ext lab_black\n",
    "from pyspark.sql import functions as F, Window\n",
    "from manga_recsys.spark import get_spark\n",
    "\n",
    "spark = get_spark(memory=\"2g\")"
   ]
  },
  {
   "cell_type": "code",
   "execution_count": 2,
   "metadata": {},
   "outputs": [],
   "source": [
    "manga = spark.read.parquet(\"../data/processed/2022-12-10-mangadex-manga.parquet\")"
   ]
  },
  {
   "cell_type": "code",
   "execution_count": 3,
   "metadata": {},
   "outputs": [
    {
     "name": "stdout",
     "output_type": "stream",
     "text": [
      "+------------------------------------+-----------------------------------------------+\n",
      "|manga_id                            |manga_name                                     |\n",
      "+------------------------------------+-----------------------------------------------+\n",
      "|0003d7e8-31da-463b-97e9-e87045f8f5ee|Persona 3 - AraHamu Manga (Doujinshi)          |\n",
      "|0011545f-6560-481e-a53a-972690fb3695|Wagging the Tail                               |\n",
      "|00148825-e802-456c-8cfd-e10ab05d58c6|Pretty Guardian Sailor Moon Short Stories      |\n",
      "|0018c989-4361-477d-89e8-29e269be93b7|Arknights: A1 Operations Preparation Detachment|\n",
      "|001c5f74-c18f-4ab5-9cd6-a46455932934|Anjuu no Chi                                   |\n",
      "|001f4bb7-d544-4e5a-8efc-2abc012f4e09|Futago, Futagokoro.                            |\n",
      "|00204d60-d5c8-486d-9dbc-868a91d27612|Furimuku Dake de Anata Tsumi na Otoko          |\n",
      "|0020845f-63e2-45bd-b69d-5e958aa37dff|Nonbeing                                       |\n",
      "|002a8f9e-b2e1-4841-8745-bd3d66f252e6|Mamotte Shugogetten!                           |\n",
      "|002d34bf-4514-4f8d-9f60-4219d0de8402|Kuroi Inu                                      |\n",
      "+------------------------------------+-----------------------------------------------+\n",
      "only showing top 10 rows\n",
      "\n"
     ]
    }
   ],
   "source": [
    "manga_name_lang = manga.select(\n",
    "    F.col(\"id\").alias(\"manga_id\"),\n",
    "    F.explode(\"attributes.title\").alias(\"lang\", \"manga_name\"),\n",
    ")\n",
    "\n",
    "manga_description_lang = manga.select(\n",
    "    F.col(\"id\").alias(\"manga_id\"),\n",
    "    F.explode(\"attributes.description\").alias(\"lang\", \"manga_description\"),\n",
    ")\n",
    "\n",
    "lang_ordered = (\n",
    "    manga_name_lang.groupBy(\"lang\")\n",
    "    .count()\n",
    "    .orderBy(F.desc(\"count\"))\n",
    "    .withColumn(\"rank\", F.row_number().over(Window.orderBy(F.desc(\"count\"))))\n",
    ")\n",
    "\n",
    "# take the language for each manga that has the lowest rank\n",
    "manga_name_description = (\n",
    "    manga_name_lang.join(manga_description_lang, [\"manga_id\", \"lang\"])\n",
    "    .join(lang_ordered, \"lang\")\n",
    "    .withColumn(\n",
    "        \"manga_lang_rank\",\n",
    "        F.row_number().over(Window.partitionBy(\"manga_id\").orderBy(\"rank\")),\n",
    "    )\n",
    "    .filter(F.col(\"manga_lang_rank\") == 1)\n",
    "    .select(\"manga_id\", \"manga_name\", \"manga_description\", \"lang\")\n",
    ")\n",
    "\n",
    "manga_name_description.select(\"manga_id\", \"manga_name\").show(10, False)"
   ]
  },
  {
   "cell_type": "code",
   "execution_count": 4,
   "metadata": {},
   "outputs": [
    {
     "data": {
      "text/plain": [
       "0"
      ]
     },
     "execution_count": 4,
     "metadata": {},
     "output_type": "execute_result"
    }
   ],
   "source": [
    "manga_name_description.where(\"manga_name is null\").count()"
   ]
  },
  {
   "cell_type": "code",
   "execution_count": 21,
   "metadata": {},
   "outputs": [
    {
     "name": "stdout",
     "output_type": "stream",
     "text": [
      "+--------------------+--------------------+--------------------+-------------+----------+\n",
      "|                  id|                name|           createdAt|chapter_count|page_count|\n",
      "+--------------------+--------------------+--------------------+-------------+----------+\n",
      "|005b434a-f5ba-49c...|Uwate na Otoko no...|2018-07-13T13:17:...|            8|       185|\n",
      "|0088c8ad-eb0f-44f...|Harry Potter - Pi...|2019-10-07T18:55:...|            1|        39|\n",
      "|009b6788-48f3-4e7...|Urami Koi, Koi, U...|2018-09-27T23:31:...|           63|      2823|\n",
      "|00e3ccc4-0ec3-4fd...|                null|2021-02-15T19:43:...|         null|      null|\n",
      "|0103c05a-187a-45d...|       Dana's Garden|2018-11-07T04:07:...|            1|        36|\n",
      "|010a2252-bdc9-4cd...|     Kare no Shouzou|2020-01-20T22:50:...|            5|       187|\n",
      "|010abcb5-c705-4dc...|Gyaru Gamer ni Ho...|2021-01-02T09:48:...|           33|       329|\n",
      "|0111ec91-d174-43e...|         Neung Neung|2018-03-28T05:40:...|            2|        36|\n",
      "|014cc30b-d045-4f8...|                null|2021-10-10T08:59:...|         null|      null|\n",
      "|016443a9-1b0a-4f5...|                null|2020-09-09T11:36:...|         null|      null|\n",
      "|02b30f7c-9327-4c3...|                null|2019-06-26T10:49:...|         null|      null|\n",
      "|02f0f46c-3c5e-433...|                null|2019-08-16T12:05:...|         null|      null|\n",
      "|032c989c-1051-489...|                DNA²|2018-05-09T03:26:...|           42|       968|\n",
      "|03d919cd-6ace-451...|         Change☆Idol|2018-06-19T20:27:...|            1|        25|\n",
      "|04451bff-8a97-4f7...|Touhou - Shinkon ...|2020-05-06T06:10:...|            1|        27|\n",
      "|04493a65-9ee7-41e...|Discovering Our H...|2021-02-08T08:50:...|            4|        25|\n",
      "|04508712-07ef-489...|                null|2020-05-28T23:16:...|         null|      null|\n",
      "|04a4681a-c04b-4ce...|      Furin Shokudou|2020-05-09T20:11:...|           24|       665|\n",
      "|05218715-dbc7-44f...|             Knights|2018-05-25T17:18:...|           25|       894|\n",
      "|0572560e-b1d3-4c4...|       Okujou Fuukei|2020-01-18T14:22:...|            8|       205|\n",
      "+--------------------+--------------------+--------------------+-------------+----------+\n",
      "only showing top 20 rows\n",
      "\n"
     ]
    }
   ],
   "source": [
    "manga_info_slim = spark.read.parquet(\n",
    "    \"../data/processed/2022-12-17-metadata-listing/manga_info_slim.parquet\"\n",
    ")\n",
    "manga_info_slim.show()"
   ]
  },
  {
   "cell_type": "code",
   "execution_count": 22,
   "metadata": {},
   "outputs": [
    {
     "data": {
      "text/plain": [
       "25415"
      ]
     },
     "execution_count": 22,
     "metadata": {},
     "output_type": "execute_result"
    }
   ],
   "source": [
    "manga_info_slim.where(\"name is null\").count()"
   ]
  },
  {
   "cell_type": "code",
   "execution_count": 3,
   "metadata": {},
   "outputs": [
    {
     "data": {
      "text/plain": [
       "0"
      ]
     },
     "execution_count": 3,
     "metadata": {},
     "output_type": "execute_result"
    }
   ],
   "source": [
    "# after fixing the name\n",
    "manga_info_slim = spark.read.parquet(\n",
    "    \"../data/processed/2022-12-17-metadata-listing/manga_info_slim.parquet\"\n",
    ")\n",
    "manga_info_slim.where(\"name is null\").count()"
   ]
  }
 ],
 "metadata": {
  "kernelspec": {
   "display_name": ".venv",
   "language": "python",
   "name": "python3"
  },
  "language_info": {
   "codemirror_mode": {
    "name": "ipython",
    "version": 3
   },
   "file_extension": ".py",
   "mimetype": "text/x-python",
   "name": "python",
   "nbconvert_exporter": "python",
   "pygments_lexer": "ipython3",
   "version": "3.10.5"
  },
  "orig_nbformat": 4,
  "vscode": {
   "interpreter": {
    "hash": "bca7b2bdba768571c0082ebd75c4aeb7591ff0a55f8644ae03b303997b530c9d"
   }
  }
 },
 "nbformat": 4,
 "nbformat_minor": 2
}
