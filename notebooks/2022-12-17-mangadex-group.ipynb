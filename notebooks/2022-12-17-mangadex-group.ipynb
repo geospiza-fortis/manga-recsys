{
 "cells": [
  {
   "cell_type": "code",
   "execution_count": 1,
   "metadata": {},
   "outputs": [],
   "source": [
    "%load_ext autoreload\n",
    "%autoreload 2\n",
    "%load_ext lab_black"
   ]
  },
  {
   "cell_type": "code",
   "execution_count": 2,
   "metadata": {},
   "outputs": [
    {
     "name": "stdout",
     "output_type": "stream",
     "text": [
      "root\n",
      " |-- attributes: struct (nullable = true)\n",
      " |    |-- altNames: array (nullable = true)\n",
      " |    |    |-- element: struct (containsNull = true)\n",
      " |    |    |    |-- en: string (nullable = true)\n",
      " |    |-- contactEmail: string (nullable = true)\n",
      " |    |-- createdAt: string (nullable = true)\n",
      " |    |-- description: string (nullable = true)\n",
      " |    |-- discord: string (nullable = true)\n",
      " |    |-- focusedLanguages: array (nullable = true)\n",
      " |    |    |-- element: string (containsNull = true)\n",
      " |    |-- inactive: boolean (nullable = true)\n",
      " |    |-- ircChannel: string (nullable = true)\n",
      " |    |-- ircServer: string (nullable = true)\n",
      " |    |-- locked: boolean (nullable = true)\n",
      " |    |-- mangaUpdates: string (nullable = true)\n",
      " |    |-- name: string (nullable = true)\n",
      " |    |-- official: boolean (nullable = true)\n",
      " |    |-- publishDelay: string (nullable = true)\n",
      " |    |-- twitter: string (nullable = true)\n",
      " |    |-- updatedAt: string (nullable = true)\n",
      " |    |-- verified: boolean (nullable = true)\n",
      " |    |-- version: long (nullable = true)\n",
      " |    |-- website: string (nullable = true)\n",
      " |-- id: string (nullable = true)\n",
      " |-- relationships: array (nullable = true)\n",
      " |    |-- element: struct (containsNull = true)\n",
      " |    |    |-- id: string (nullable = true)\n",
      " |    |    |-- type: string (nullable = true)\n",
      " |-- type: string (nullable = true)\n",
      "\n",
      "-RECORD 0---------------------------------------------------------------------\n",
      " attributes    | {[], LaSecteDuScan@gmail.com, 2021-04-19T21:45:59+00:00, ... \n",
      " id            | c6931ee7-b4cd-44da-a52b-c8d1a90db4d2                         \n",
      " relationships | [{7c68e07d-d2f4-4021-82dc-054d42241aeb, leader}, {7c68e07... \n",
      " type          | scanlation_group                                             \n",
      "-RECORD 1---------------------------------------------------------------------\n",
      " attributes    | {[], null, 2021-04-19T21:45:59+00:00, null, null, [es], f... \n",
      " id            | 3eef1981-4ab5-434c-a13a-8128351447b7                         \n",
      " relationships | []                                                           \n",
      " type          | scanlation_group                                             \n",
      "-RECORD 2---------------------------------------------------------------------\n",
      " attributes    | {[], null, 2021-04-19T21:45:59+00:00, This group serves t... \n",
      " id            | 145f9110-0a6c-4b71-8737-6acb1a3c5da4                         \n",
      " relationships | [{d2ae45e0-b5e2-4e7f-a688-17925c2d7d6b, leader}, {d2ae45e... \n",
      " type          | scanlation_group                                             \n",
      "only showing top 3 rows\n",
      "\n"
     ]
    }
   ],
   "source": [
    "from pyspark.sql import functions as F\n",
    "from manga_recsys.spark import get_spark\n",
    "\n",
    "spark = get_spark()\n",
    "df = spark.read.json(\"../data/raw/2022-12-17-mangadex-group.ndjson\")\n",
    "df.printSchema()\n",
    "df.show(n=3, truncate=60, vertical=True)"
   ]
  },
  {
   "cell_type": "code",
   "execution_count": 8,
   "metadata": {},
   "outputs": [
    {
     "name": "stdout",
     "output_type": "stream",
     "text": [
      "+------------------------------------+--------------------+\n",
      "|id                                  |altNames            |\n",
      "+------------------------------------+--------------------+\n",
      "|80d82a0e-4ed3-41b5-8f2f-9eb2a06e8daf|Sol Cafe Scans      |\n",
      "|fdad9851-164f-43fc-9ab0-25b8054c99ed|FLAME-SCANS         |\n",
      "|26e19083-dda2-4a4e-b706-51546e3cb374|Le Cercle du Webtoon|\n",
      "|56ddcbfa-ac51-43ee-8055-5f93d3757386|Manga-TR            |\n",
      "|56ddcbfa-ac51-43ee-8055-5f93d3757386|MTR                 |\n",
      "|43a13d2b-21d5-4453-ad78-cba547b7e879|mangacultivator     |\n",
      "|134873ad-5513-4fbe-83bb-402a1d18ed7e|MissMystery94       |\n",
      "|134873ad-5513-4fbe-83bb-402a1d18ed7e|Miss Mystery        |\n",
      "|d7eb99fd-4444-4fbc-bd3c-c55ed35188e2|Ow! Scan            |\n",
      "|ba83b2a6-7b2f-431b-9cae-4436cd8cce42|AnimaRegia Scantrad |\n",
      "|70607404-c6c9-4467-b372-b174bb6097ad|Студия Гротеск      |\n",
      "|8ca19ad0-f0ce-46bd-a3a9-46932cfa3d83|Naabii              |\n",
      "|efd8e5ca-eef9-43c6-9a1a-d5199c43d758|FwPA                |\n",
      "|b2def6de-2728-44f8-8c0f-a307584159f7|Żółć                |\n",
      "|c0ce390f-760f-43f9-ba41-d85a40d1dcd6|digest's Party      |\n",
      "|75b1c135-ee47-4bd7-b45f-d18e0aeff025|Strohhut Scans      |\n",
      "|e898f2d7-8dbb-43c7-b823-6852919cbe3d|Yanime              |\n",
      "|3d2d56bd-dbc9-4838-80d1-cce226e1c763|VIScans             |\n",
      "|5cdb5b08-e527-4ba1-b542-a9b91a3596b8|Traumerei Scans     |\n",
      "|b4799393-29e4-4de1-b914-bb7964219308|FxF Scan            |\n",
      "+------------------------------------+--------------------+\n",
      "only showing top 20 rows\n",
      "\n"
     ]
    },
    {
     "data": {
      "text/plain": [
       "58"
      ]
     },
     "execution_count": 8,
     "metadata": {},
     "output_type": "execute_result"
    }
   ],
   "source": [
    "alt_names = (\n",
    "    df.select(\"id\", F.explode(\"attributes.altNames\"))\n",
    "    .withColumn(\"altNames\", F.col(\"col.en\"))\n",
    "    .drop(\"col\")\n",
    ")\n",
    "alt_names.show(truncate=False)\n",
    "alt_names.groupBy(\"id\").count().where(F.col(\"count\") > 1).count()"
   ]
  },
  {
   "cell_type": "code",
   "execution_count": 10,
   "metadata": {},
   "outputs": [
    {
     "name": "stdout",
     "output_type": "stream",
     "text": [
      "+------------------------------------+------------------------------------+------+\n",
      "|id                                  |group_id                            |type  |\n",
      "+------------------------------------+------------------------------------+------+\n",
      "|c6931ee7-b4cd-44da-a52b-c8d1a90db4d2|7c68e07d-d2f4-4021-82dc-054d42241aeb|leader|\n",
      "|c6931ee7-b4cd-44da-a52b-c8d1a90db4d2|7c68e07d-d2f4-4021-82dc-054d42241aeb|member|\n",
      "|145f9110-0a6c-4b71-8737-6acb1a3c5da4|d2ae45e0-b5e2-4e7f-a688-17925c2d7d6b|leader|\n",
      "|145f9110-0a6c-4b71-8737-6acb1a3c5da4|d2ae45e0-b5e2-4e7f-a688-17925c2d7d6b|member|\n",
      "|7f4ea5d0-6af4-48a4-b56c-c7240668096b|f4ef0210-c7b8-48fb-867a-f63dff560eeb|leader|\n",
      "|7f4ea5d0-6af4-48a4-b56c-c7240668096b|f4ef0210-c7b8-48fb-867a-f63dff560eeb|member|\n",
      "|1d1bf070-9e6d-490c-b20b-e69c06964338|5a64e325-ae24-4449-bd9e-8b726b6b507f|leader|\n",
      "|1d1bf070-9e6d-490c-b20b-e69c06964338|192bc266-def4-46de-8d2d-bc37b60eaa68|member|\n",
      "|1d1bf070-9e6d-490c-b20b-e69c06964338|286be38c-cc89-4fb8-9883-959498140fcf|member|\n",
      "|1d1bf070-9e6d-490c-b20b-e69c06964338|2ed83cb0-01fc-4efd-9835-66b772016d43|member|\n",
      "|1d1bf070-9e6d-490c-b20b-e69c06964338|5a64e325-ae24-4449-bd9e-8b726b6b507f|member|\n",
      "|1d1bf070-9e6d-490c-b20b-e69c06964338|6839dbac-e6c0-492f-a021-22dac886c014|member|\n",
      "|1d1bf070-9e6d-490c-b20b-e69c06964338|891aca17-1c33-4870-82ae-3d8b1ca70f7b|member|\n",
      "|1d1bf070-9e6d-490c-b20b-e69c06964338|90c73d2d-2ca2-4b62-8d4f-022bc2f0fe8c|member|\n",
      "|1d1bf070-9e6d-490c-b20b-e69c06964338|b4366db3-3f9b-4159-bb7f-9eb8aeb056ff|member|\n",
      "|1d1bf070-9e6d-490c-b20b-e69c06964338|dd556e1e-59bc-4d59-ae4f-065fe83d9e03|member|\n",
      "|1d1bf070-9e6d-490c-b20b-e69c06964338|e0ce695b-0dd6-45f8-b3c6-b5004e46f4c1|member|\n",
      "|71321300-d76c-4a0f-81a9-84918fc08f06|aff66ce1-4b34-4516-b71c-ae78652996c1|leader|\n",
      "|71321300-d76c-4a0f-81a9-84918fc08f06|497cbd1f-a3b4-49b0-abaf-e0c1ade59bda|member|\n",
      "|71321300-d76c-4a0f-81a9-84918fc08f06|50dbfdbe-afb3-478e-8880-ec53d2f7b97b|member|\n",
      "+------------------------------------+------------------------------------+------+\n",
      "only showing top 20 rows\n",
      "\n"
     ]
    }
   ],
   "source": [
    "relationships = (\n",
    "    df.select(\"id\", F.explode(\"relationships\"))\n",
    "    .select(\"id\", F.col(\"col.id\").alias(\"group_id\"), F.col(\"col.type\"))\n",
    "    .drop(\"col\")\n",
    ")\n",
    "relationships.show(truncate=False)"
   ]
  }
 ],
 "metadata": {
  "kernelspec": {
   "display_name": ".venv",
   "language": "python",
   "name": "python3"
  },
  "language_info": {
   "codemirror_mode": {
    "name": "ipython",
    "version": 3
   },
   "file_extension": ".py",
   "mimetype": "text/x-python",
   "name": "python",
   "nbconvert_exporter": "python",
   "pygments_lexer": "ipython3",
   "version": "3.10.5"
  },
  "orig_nbformat": 4,
  "vscode": {
   "interpreter": {
    "hash": "bca7b2bdba768571c0082ebd75c4aeb7591ff0a55f8644ae03b303997b530c9d"
   }
  }
 },
 "nbformat": 4,
 "nbformat_minor": 2
}
