{
 "cells": [
  {
   "cell_type": "code",
   "execution_count": 1,
   "metadata": {},
   "outputs": [],
   "source": [
    "%load_ext autoreload\n",
    "%autoreload 2\n",
    "%load_ext lab_black\n",
    "from pyspark.sql import functions as F, Window\n",
    "from manga_recsys.spark import get_spark\n",
    "\n",
    "spark = get_spark()"
   ]
  },
  {
   "cell_type": "code",
   "execution_count": 2,
   "metadata": {},
   "outputs": [
    {
     "data": {
      "text/plain": [
       "<gensim.models.word2vec.Word2Vec at 0x23506385fc0>"
      ]
     },
     "execution_count": 2,
     "metadata": {},
     "output_type": "execute_result"
    }
   ],
   "source": [
    "from manga_recsys.models.manga import generate_manga_tags_word2vec\n",
    "\n",
    "manga_info = spark.read.parquet(\n",
    "    \"../data/processed/2022-12-17-metadata-listing/manga_info.parquet\"\n",
    ")\n",
    "\n",
    "manga_tags, model = generate_manga_tags_word2vec(\n",
    "    manga_info, vector_col=\"w2v\", return_model=True\n",
    ")\n",
    "\n",
    "model"
   ]
  },
  {
   "cell_type": "code",
   "execution_count": 33,
   "metadata": {},
   "outputs": [
    {
     "data": {
      "text/plain": [
       "26229"
      ]
     },
     "execution_count": 33,
     "metadata": {},
     "output_type": "execute_result"
    }
   ],
   "source": [
    "# convert keyed vector in wv to a dataframe\n",
    "# use key_to_index and wv.vectors\n",
    "import pandas as pd\n",
    "import json\n",
    "from pathlib import Path\n",
    "\n",
    "df = pd.DataFrame({}, index=model.wv.key_to_index)\n",
    "df[\"emb\"] = model.wv.vectors.tolist()\n",
    "\n",
    "# save this to the w2v model directory\n",
    "\n",
    "path = Path(\n",
    "    \"../data/processed/2022-12-20-recommendation-manga-tags-word2vec/word2vec.json\"\n",
    ")\n",
    "path.write_text(json.dumps(df.to_dict()))"
   ]
  }
 ],
 "metadata": {
  "kernelspec": {
   "display_name": ".venv",
   "language": "python",
   "name": "python3"
  },
  "language_info": {
   "codemirror_mode": {
    "name": "ipython",
    "version": 3
   },
   "file_extension": ".py",
   "mimetype": "text/x-python",
   "name": "python",
   "nbconvert_exporter": "python",
   "pygments_lexer": "ipython3",
   "version": "3.10.5"
  },
  "orig_nbformat": 4,
  "vscode": {
   "interpreter": {
    "hash": "bca7b2bdba768571c0082ebd75c4aeb7591ff0a55f8644ae03b303997b530c9d"
   }
  }
 },
 "nbformat": 4,
 "nbformat_minor": 2
}
