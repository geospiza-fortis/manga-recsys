{
 "cells": [
  {
   "cell_type": "code",
   "execution_count": 2,
   "metadata": {},
   "outputs": [],
   "source": [
    "%load_ext autoreload\n",
    "%autoreload 2\n",
    "%load_ext lab_black"
   ]
  },
  {
   "cell_type": "code",
   "execution_count": 3,
   "metadata": {},
   "outputs": [
    {
     "data": {
      "text/html": [
       "\n",
       "            <div>\n",
       "                <p><b>SparkSession - in-memory</b></p>\n",
       "                \n",
       "        <div>\n",
       "            <p><b>SparkContext</b></p>\n",
       "\n",
       "            <p><a href=\"http://DESKTOP-A3EF5O5:4040\">Spark UI</a></p>\n",
       "\n",
       "            <dl>\n",
       "              <dt>Version</dt>\n",
       "                <dd><code>v3.3.1</code></dd>\n",
       "              <dt>Master</dt>\n",
       "                <dd><code>local[*]</code></dd>\n",
       "              <dt>AppName</dt>\n",
       "                <dd><code>pyspark-shell</code></dd>\n",
       "            </dl>\n",
       "        </div>\n",
       "        \n",
       "            </div>\n",
       "        "
      ],
      "text/plain": [
       "<pyspark.sql.session.SparkSession at 0x1acd6201150>"
      ]
     },
     "execution_count": 3,
     "metadata": {},
     "output_type": "execute_result"
    }
   ],
   "source": [
    "from pyspark.sql import functions as F\n",
    "from manga_recsys.spark import get_spark\n",
    "\n",
    "spark = get_spark()\n",
    "spark"
   ]
  },
  {
   "cell_type": "code",
   "execution_count": 4,
   "metadata": {},
   "outputs": [
    {
     "name": "stdout",
     "output_type": "stream",
     "text": [
      "root\n",
      " |-- id: string (nullable = true)\n",
      " |-- relationships: array (nullable = true)\n",
      " |    |-- element: struct (containsNull = true)\n",
      " |    |    |-- id: string (nullable = true)\n",
      " |    |    |-- related: string (nullable = true)\n",
      " |    |    |-- type: string (nullable = true)\n",
      " |-- type: string (nullable = true)\n",
      " |-- attributes: struct (nullable = true)\n",
      " |    |-- availableTranslatedLanguages: array (nullable = true)\n",
      " |    |    |-- element: string (containsNull = true)\n",
      " |    |-- chapterNumbersResetOnNewVolume: boolean (nullable = true)\n",
      " |    |-- contentRating: string (nullable = true)\n",
      " |    |-- createdAt: string (nullable = true)\n",
      " |    |-- isLocked: boolean (nullable = true)\n",
      " |    |-- lastChapter: string (nullable = true)\n",
      " |    |-- lastVolume: string (nullable = true)\n",
      " |    |-- latestUploadedChapter: string (nullable = true)\n",
      " |    |-- originalLanguage: string (nullable = true)\n",
      " |    |-- publicationDemographic: string (nullable = true)\n",
      " |    |-- state: string (nullable = true)\n",
      " |    |-- status: string (nullable = true)\n",
      " |    |-- tags: array (nullable = true)\n",
      " |    |    |-- element: struct (containsNull = true)\n",
      " |    |    |    |-- attributes: struct (nullable = true)\n",
      " |    |    |    |    |-- group: string (nullable = true)\n",
      " |    |    |    |    |-- name: struct (nullable = true)\n",
      " |    |    |    |    |    |-- en: string (nullable = true)\n",
      " |    |    |    |    |-- version: long (nullable = true)\n",
      " |    |    |    |-- id: string (nullable = true)\n",
      " |    |    |    |-- relationships: array (nullable = true)\n",
      " |    |    |    |    |-- element: string (containsNull = true)\n",
      " |    |    |    |-- type: string (nullable = true)\n",
      " |    |-- updatedAt: string (nullable = true)\n",
      " |    |-- version: long (nullable = true)\n",
      " |    |-- year: long (nullable = true)\n",
      " |    |-- altTitles: map (nullable = true)\n",
      " |    |    |-- key: string\n",
      " |    |    |-- value: string (valueContainsNull = true)\n",
      " |    |-- description: map (nullable = true)\n",
      " |    |    |-- key: string\n",
      " |    |    |-- value: string (valueContainsNull = true)\n",
      " |    |-- links: map (nullable = true)\n",
      " |    |    |-- key: string\n",
      " |    |    |-- value: string (valueContainsNull = true)\n",
      " |    |-- title: map (nullable = true)\n",
      " |    |    |-- key: string\n",
      " |    |    |-- value: string (valueContainsNull = true)\n",
      "\n"
     ]
    }
   ],
   "source": [
    "df = spark.read.parquet(\"../data/processed/2022-12-10-mangadex-manga/\")\n",
    "df.printSchema()"
   ]
  },
  {
   "cell_type": "code",
   "execution_count": 7,
   "metadata": {},
   "outputs": [
    {
     "name": "stdout",
     "output_type": "stream",
     "text": [
      "+------------------------------------+----------+------------------------------------+\n",
      "|                            manga_id|  tag_name|                              tag_id|\n",
      "+------------------------------------+----------+------------------------------------+\n",
      "|6b64bfb7-8fff-4633-82e2-340cbb8bc92e|Boys' Love|5920b825-4181-4a17-beeb-9918b0ff7a30|\n",
      "|6b64bfb7-8fff-4633-82e2-340cbb8bc92e| Doujinshi|b13b2a48-c720-44a9-9c77-39c9979373fb|\n",
      "|6b64bfb7-8fff-4633-82e2-340cbb8bc92e|Full Color|f5ba408b-0e7a-484d-8d49-4e9125ac96de|\n",
      "|4660003f-15c9-4b52-84c1-ba46c6943edf|   Oneshot|0234a31e-a729-4e28-9d6a-3f87c4966b9e|\n",
      "|4660003f-15c9-4b52-84c1-ba46c6943edf|   Romance|423e2eae-a7a2-4a8b-ac03-a8351462d71d|\n",
      "|4660003f-15c9-4b52-84c1-ba46c6943edf|     Drama|b9af3a63-f058-46de-a9a0-e0c13906197a|\n",
      "|4660003f-15c9-4b52-84c1-ba46c6943edf|   Tragedy|f8f62932-27da-4fe4-8ee1-6779a8c5edba|\n",
      "|699f08d0-7661-4f8e-8eb8-9718b3de1a7a|Long Strip|3e2b8dae-350e-4ab8-a8ce-016e844b9f0d|\n",
      "|699f08d0-7661-4f8e-8eb8-9718b3de1a7a|   Romance|423e2eae-a7a2-4a8b-ac03-a8351462d71d|\n",
      "|699f08d0-7661-4f8e-8eb8-9718b3de1a7a|Full Color|f5ba408b-0e7a-484d-8d49-4e9125ac96de|\n",
      "+------------------------------------+----------+------------------------------------+\n",
      "only showing top 10 rows\n",
      "\n"
     ]
    }
   ],
   "source": [
    "exploded_tags = df.select(\"id\", F.explode(\"attributes.tags\").alias(\"tag\")).select(\n",
    "    F.col(\"id\").alias(\"manga_id\"),\n",
    "    F.col(\"tag.attributes.name.en\").alias(\"tag_name\"),\n",
    "    F.col(\"tag.id\").alias(\"tag_id\"),\n",
    ")\n",
    "exploded_tags.show(n=10, truncate=60)"
   ]
  },
  {
   "cell_type": "code",
   "execution_count": 8,
   "metadata": {},
   "outputs": [
    {
     "name": "stdout",
     "output_type": "stream",
     "text": [
      "+------------------------------------+------------------------------------------------------------+\n",
      "|                            manga_id|                                                   tag_names|\n",
      "+------------------------------------+------------------------------------------------------------+\n",
      "|0003d7e8-31da-463b-97e9-e87045f8f5ee|[Slice of Life, Drama, Romance, Oneshot, Doujinshi, Tragedy]|\n",
      "|001bc08b-21a9-47fa-bfc0-82b0ad77a58b|      [Boys' Love, Drama, Oneshot, Doujinshi, Crossdressing]|\n",
      "|00204d60-d5c8-486d-9dbc-868a91d27612|                                 [Boys' Love, Comedy, Shota]|\n",
      "|0020845f-63e2-45bd-b69d-5e958aa37dff|[Thriller, Action, User Created, Horror, Psychological, T...|\n",
      "|002a8f9e-b2e1-4841-8745-bd3d66f252e6|                    [Fantasy, Comedy, Romance, Supernatural]|\n",
      "|002d34bf-4514-4f8d-9f60-4219d0de8402|                   [Boys' Love, Drama, School Life, Romance]|\n",
      "|0030db10-93a6-4f6a-85f8-939db42600f4|[Villainess, Fantasy, Reincarnation, Comedy, Romance, Ada...|\n",
      "|003e1cfd-b4f9-4d66-9080-34455ac19a96|                       [Historical, Drama, Romance, Tragedy]|\n",
      "|003e7fbf-f047-4783-a7df-1533a2a653d4|[Sports, Award Winning, Comedy, Drama, School Life, Slice...|\n",
      "|004f244e-03d0-4ee0-ba0e-d2d2f8e6cdbf|[Thriller, School Life, Long Strip, Full Color, Supernatu...|\n",
      "+------------------------------------+------------------------------------------------------------+\n",
      "only showing top 10 rows\n",
      "\n"
     ]
    }
   ],
   "source": [
    "collected_tags = exploded_tags.groupBy(\"manga_id\").agg(\n",
    "    F.collect_set(\"tag_name\").alias(\"tag_names\")\n",
    ")\n",
    "collected_tags.show(n=10, truncate=60)"
   ]
  },
  {
   "attachments": {},
   "cell_type": "markdown",
   "metadata": {},
   "source": [
    "# fpgrowth\n",
    "\n",
    "This is an algorithm for building association rule sets, where sets of tags are used to predict other sets of tags.\n",
    "\n",
    "## support \n",
    "\n",
    "Support is an indicator of frequency of a set of tags.\n",
    "\n",
    "$$\n",
    "supp(X) = \\frac{|(i, t) \\in T: X \\subseteq t|}{|T|}\n",
    "$$\n",
    "\n",
    "where $(i, t)$ is the identifier and itemset of a transaction.\n",
    "\n",
    "## confidence\n",
    "\n",
    "Confidence is the percentage of times that a set of tags is present when another set of tags is present.\n",
    "\n",
    "$$\n",
    "conf(X \\rightarrow Y) = \\frac{supp(X \\cap Y)}{supp(X)}\n",
    "$$\n",
    "\n",
    "where $X \\rightarrow Y$ is the rule.\n",
    "\n",
    "## lift\n",
    "\n",
    "Lift gives a measure of how likely two sets of tags are independent of each other.\n",
    "When lift is greater than 1, then the sets are dependent.\n",
    "When lift is less than 1, then the sets are independent.\n",
    "\n",
    "$$\n",
    "lift(X \\rightarrow Y) = \\frac{conf(X \\cap Y)}{supp(X) \\times supp(Y)}\n",
    "$$\n"
   ]
  },
  {
   "cell_type": "code",
   "execution_count": 27,
   "metadata": {},
   "outputs": [
    {
     "data": {
      "text/plain": [
       "FPGrowthModel: uid=FPGrowth_446a70da9edd, numTrainingRecords=64464"
      ]
     },
     "execution_count": 27,
     "metadata": {},
     "output_type": "execute_result"
    }
   ],
   "source": [
    "from pyspark.ml.fpm import FPGrowth\n",
    "\n",
    "fp = FPGrowth(\n",
    "    itemsCol=\"tag_names\",\n",
    "    predictionCol=\"prediction\",\n",
    "    minSupport=0.01,\n",
    "    minConfidence=0.01,\n",
    ")\n",
    "fpm = fp.fit(collected_tags)\n",
    "fpm"
   ]
  },
  {
   "cell_type": "code",
   "execution_count": 28,
   "metadata": {},
   "outputs": [
    {
     "data": {
      "text/plain": [
       "884"
      ]
     },
     "execution_count": 28,
     "metadata": {},
     "output_type": "execute_result"
    }
   ],
   "source": [
    "fpm.freqItemsets.count()"
   ]
  },
  {
   "cell_type": "code",
   "execution_count": 30,
   "metadata": {},
   "outputs": [
    {
     "name": "stdout",
     "output_type": "stream",
     "text": [
      "+--------------------------------+-----+\n",
      "|                           items| freq|\n",
      "+--------------------------------+-----+\n",
      "|                        [4-Koma]| 1277|\n",
      "|                [4-Koma, Comedy]| 1110|\n",
      "|         [4-Koma, Slice of Life]|  716|\n",
      "|                        [Action]|11559|\n",
      "|                [Action, Comedy]| 4832|\n",
      "|       [Action, Comedy, Romance]| 1611|\n",
      "|                 [Action, Drama]| 5115|\n",
      "|         [Action, Drama, Comedy]| 2114|\n",
      "|[Action, Drama, Comedy, Romance]|  861|\n",
      "|        [Action, Drama, Romance]| 1570|\n",
      "+--------------------------------+-----+\n",
      "only showing top 10 rows\n",
      "\n"
     ]
    }
   ],
   "source": [
    "fpm.freqItemsets.sort(\"items\").show(n=10, truncate=60)"
   ]
  },
  {
   "cell_type": "code",
   "execution_count": 31,
   "metadata": {},
   "outputs": [
    {
     "name": "stdout",
     "output_type": "stream",
     "text": [
      "+---------------+---------------+-------------------+------------------+-------------------+\n",
      "|     antecedent|     consequent|         confidence|              lift|            support|\n",
      "+---------------+---------------+-------------------+------------------+-------------------+\n",
      "|       [Comedy]|      [Romance]| 0.4948886210437034|1.2352383190831804|0.17197195333829735|\n",
      "|      [Romance]|       [Comedy]|0.42924071707902584|1.2352383190831802|0.17197195333829735|\n",
      "|        [Drama]|      [Romance]| 0.5344001630822546|1.3338588342794153| 0.1626644328617523|\n",
      "|      [Romance]|        [Drama]|0.40600921516242694|1.3338588342794153| 0.1626644328617523|\n",
      "|  [School Life]|      [Romance]| 0.6168492633169625|1.5396511755319888|0.12664432861752295|\n",
      "|      [Romance]|  [School Life]|0.31610330274518916|1.5396511755319888|0.12664432861752295|\n",
      "|[Slice of Life]|       [Comedy]| 0.5569262027429069|1.6026825022819853|0.11905869942913874|\n",
      "|       [Comedy]|[Slice of Life]|0.34261863309673674| 1.602682502281985|0.11905869942913874|\n",
      "|   [Long Strip]|   [Full Color]| 0.7995376486129459| 5.501269610437073| 0.1126675353685778|\n",
      "|   [Full Color]|   [Long Strip]| 0.7752161383285303| 5.501269610437074| 0.1126675353685778|\n",
      "|  [School Life]|       [Comedy]| 0.5339629769550435|1.5366005690116478| 0.1096270786795731|\n",
      "|       [Comedy]|  [School Life]| 0.3154769876344806|1.5366005690116478| 0.1096270786795731|\n",
      "|   [Full Color]|    [Web Comic]| 0.7381791012914932| 4.607472655466191|0.10728468602630926|\n",
      "|    [Web Comic]|   [Full Color]| 0.6696359411309063| 4.607472655466191|0.10728468602630926|\n",
      "|        [Drama]|       [Comedy]|0.34914891448374274|1.0047558422963256|0.10627637130801688|\n",
      "|       [Comedy]|        [Drama]|0.30583456095710015|1.0047558422963256|0.10627637130801688|\n",
      "|[Slice of Life]|      [Romance]| 0.4967709164792105|  1.23993651449707|  0.106198808637379|\n",
      "|      [Romance]|[Slice of Life]| 0.2650714368683935|1.2399365144970698|  0.106198808637379|\n",
      "|   [Long Strip]|    [Web Comic]| 0.7219286657859973| 4.506042748957062|0.10173119880863737|\n",
      "|    [Web Comic]|   [Long Strip]| 0.6349728892331526| 4.506042748957062|0.10173119880863737|\n",
      "+---------------+---------------+-------------------+------------------+-------------------+\n",
      "only showing top 20 rows\n",
      "\n"
     ]
    }
   ],
   "source": [
    "fpm.associationRules.sort(F.desc(\"support\"), F.desc(\"confidence\")).show()"
   ]
  },
  {
   "cell_type": "code",
   "execution_count": 48,
   "metadata": {},
   "outputs": [
    {
     "name": "stdout",
     "output_type": "stream",
     "text": [
      "+------------------------+---------------+-------------------+------------------+-------------------+\n",
      "|              antecedent|     consequent|         confidence|              lift|            support|\n",
      "+------------------------+---------------+-------------------+------------------+-------------------+\n",
      "| [Long Strip, Web Comic]|   [Full Color]| 0.9281793229643184|  6.38639682736384|0.09442479523454951|\n",
      "|[Long Strip, Full Color]|    [Web Comic]| 0.8380834365964478| 5.231042859871555|0.09442479523454951|\n",
      "| [Full Color, Web Comic]|   [Long Strip]|  0.880133024869867|6.2458052966987125|0.09442479523454951|\n",
      "|       [Comedy, Romance]|  [School Life]|0.41286307053941906|  2.01094106378943|0.07100086870191115|\n",
      "|   [School Life, Comedy]|      [Romance]|  0.647658129333522|1.6165498760737276|0.07100086870191115|\n",
      "|  [School Life, Romance]|       [Comedy]| 0.5606320431161196|1.6133469053808995|0.07100086870191115|\n",
      "|         [Drama, Comedy]|      [Romance]| 0.6082323748357904|1.5181434859416267|0.06464072970960535|\n",
      "|        [Drama, Romance]|       [Comedy]| 0.3973869921800496|1.1435719416050496|0.06464072970960535|\n",
      "|       [Comedy, Romance]|        [Drama]| 0.3758794876420711|1.2348738809172597|0.06464072970960535|\n",
      "|   [Full Color, Romance]|   [Long Strip]| 0.8572905894519132| 6.083705477590063|0.06429945395879871|\n",
      "|[Long Strip, Full Color]|      [Romance]|    0.5707008123365| 1.424464984956059|0.06429945395879871|\n",
      "|   [Long Strip, Romance]|   [Full Color]| 0.8397487844408428| 5.777944886348008|0.06429945395879871|\n",
      "| [Full Color, Web Comic]|      [Romance]| 0.5704164256795836| 1.423755157974549|0.06119694713328369|\n",
      "|    [Web Comic, Romance]|   [Full Color]| 0.7257174392935982| 4.993344968152686|0.06119694713328369|\n",
      "|   [Full Color, Romance]|    [Web Comic]| 0.8159255429162358| 5.092740530456258|0.06119694713328369|\n",
      "|       [Comedy, Romance]|[Slice of Life]| 0.3499909796139275|1.6371684572841028|0.06018863241499131|\n",
      "| [Slice of Life, Comedy]|      [Romance]| 0.5055374592833877|1.2618177401651103|0.06018863241499131|\n",
      "|[Slice of Life, Romance]|       [Comedy]| 0.5667543090855974|1.6309651257039395|0.06018863241499131|\n",
      "| [Long Strip, Web Comic]|      [Romance]| 0.5805123513266239|1.4489545133356365|0.05905621742367833|\n",
      "|   [Long Strip, Romance]|    [Web Comic]| 0.7712722852512156|4.8140294922961235|0.05905621742367833|\n",
      "+------------------------+---------------+-------------------+------------------+-------------------+\n",
      "only showing top 20 rows\n",
      "\n"
     ]
    }
   ],
   "source": [
    "fpm.associationRules.where(\"size(antecedent) > 1\").sort(F.desc(\"support\")).show(\n",
    "    truncate=60\n",
    ")"
   ]
  },
  {
   "cell_type": "code",
   "execution_count": 59,
   "metadata": {},
   "outputs": [
    {
     "name": "stdout",
     "output_type": "stream",
     "text": [
      "+------------------------+----------+-------------------+------------------+--------------------+\n",
      "|              antecedent|consequent|         confidence|              lift|             support|\n",
      "+------------------------+----------+-------------------+------------------+--------------------+\n",
      "|[Reincarnation, Fantasy]|  [Isekai]| 0.6085240726124704|18.573814307239722|0.011960163812360387|\n",
      "|         [Reincarnation]|  [Isekai]|  0.525175644028103| 16.02979295294869|0.013914743112434848|\n",
      "|   [Adaptation, Fantasy]|  [Isekai]| 0.3764002987303958|11.488763663520945| 0.01563663440059568|\n",
      "|   [Adaptation, Romance]|  [Isekai]|0.29385574354407834|  8.96927871772039|0.010238272524199553|\n",
      "|        [Magic, Fantasy]|  [Isekai]|  0.282590051457976| 8.625419070637767|0.010222759990071979|\n",
      "|            [Adaptation]|  [Isekai]|0.25822485207100593| 7.881726734803658|0.016924174733184413|\n",
      "|                 [Magic]|  [Isekai]|0.24475524475524477| 7.470597584233948|0.010858773889302557|\n",
      "|      [Fantasy, Romance]|  [Isekai]|0.19025380710659898| 5.807065066912783| 0.01453524447753785|\n",
      "|    [Adventure, Fantasy]|  [Isekai]|0.18732970027247955| 5.717813351498637|0.012797840655249441|\n",
      "|       [Fantasy, Comedy]|  [Isekai]| 0.1664980780902286| 5.081975428981296| 0.01276681558699429|\n",
      "|               [Fantasy]|  [Isekai]|0.14306335204490778|  4.36668367718889|0.027674360883593943|\n",
      "|       [Action, Fantasy]|  [Isekai]|0.14026974951830443| 4.281415309160974|0.011293124844874658|\n",
      "|             [Adventure]|  [Isekai]| 0.1261061946902655|3.8491049879324217|0.014147431124348473|\n",
      "|[Long Strip, Full Color]|  [Isekai]|0.09954564229657166|3.0384044910067214|0.011215562174236783|\n",
      "| [Full Color, Web Comic]|  [Isekai]|0.09470792365529207|2.8907441242967558|0.010160709853561678|\n",
      "|            [Full Color]|  [Isekai]|0.08538798164158394|2.6062740760147096|0.012410027302060065|\n",
      "|            [Long Strip]|  [Isekai]|0.08520475561426684|2.6006815179536447|0.012006701414743113|\n",
      "|                [Action]|  [Isekai]|0.07145946881218099|2.1811378776081605|0.012813353189377017|\n",
      "|             [Web Comic]|  [Isekai]|0.07116576297443843|2.1721731744243367|0.011401712583767685|\n",
      "|                [Comedy]|  [Isekai]|0.04307843399848221|1.3148712922718548|0.014969595433109953|\n",
      "+------------------------+----------+-------------------+------------------+--------------------+\n",
      "only showing top 20 rows\n",
      "\n"
     ]
    }
   ],
   "source": [
    "fpm.associationRules.where(F.array_contains(F.col(\"consequent\"), \"Isekai\")).sort(\n",
    "    F.desc(\"confidence\")\n",
    ").show(truncate=60)"
   ]
  }
 ],
 "metadata": {
  "kernelspec": {
   "display_name": ".venv",
   "language": "python",
   "name": "python3"
  },
  "language_info": {
   "codemirror_mode": {
    "name": "ipython",
    "version": 3
   },
   "file_extension": ".py",
   "mimetype": "text/x-python",
   "name": "python",
   "nbconvert_exporter": "python",
   "pygments_lexer": "ipython3",
   "version": "3.10.5"
  },
  "orig_nbformat": 4,
  "vscode": {
   "interpreter": {
    "hash": "bca7b2bdba768571c0082ebd75c4aeb7591ff0a55f8644ae03b303997b530c9d"
   }
  }
 },
 "nbformat": 4,
 "nbformat_minor": 2
}
