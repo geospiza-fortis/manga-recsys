{
 "cells": [
  {
   "cell_type": "code",
   "execution_count": 1,
   "metadata": {},
   "outputs": [],
   "source": [
    "%load_ext autoreload\n",
    "%autoreload 2\n",
    "%load_ext lab_black\n",
    "from pyspark.sql import functions as F, Window\n",
    "from manga_recsys.spark import get_spark\n",
    "\n",
    "spark = get_spark()"
   ]
  },
  {
   "cell_type": "code",
   "execution_count": 2,
   "metadata": {},
   "outputs": [],
   "source": [
    "group = spark.read.parquet(\"../data/processed/2022-12-17-mangadex-group.parquet\")\n",
    "manga = spark.read.parquet(\"../data/processed/2022-12-10-mangadex-manga.parquet\")"
   ]
  },
  {
   "cell_type": "code",
   "execution_count": 3,
   "metadata": {},
   "outputs": [
    {
     "name": "stdout",
     "output_type": "stream",
     "text": [
      "+--------------------+--------------------+--------------------+--------------------+--------------------+--------+\n",
      "|                  id|                name|           createdAt|           updatedAt|         description|inactive|\n",
      "+--------------------+--------------------+--------------------+--------------------+--------------------+--------+\n",
      "|c6931ee7-b4cd-44d...|       LaSecteDuScan|2021-04-19T21:45:...|2021-04-19T21:45:...|Bonjours,LaSecteD...|   false|\n",
      "|3eef1981-4ab5-434...|         Alive Scans|2021-04-19T21:45:...|2021-04-19T21:45:...|                null|   false|\n",
      "|145f9110-0a6c-4b7...|             Unknown|2021-04-19T21:45:...|2022-09-18T16:16:...|This group serves...|   false|\n",
      "|7f4ea5d0-6af4-48a...| Effortposting Scans|2021-04-19T21:45:...|2021-04-19T21:45:...|              *Ahem*|   false|\n",
      "|c1a3aadb-8b80-445...|         Saikai Scan|2021-04-19T21:45:...|2021-04-19T21:45:...|                null|   false|\n",
      "|1d1bf070-9e6d-490...|          SH-Project|2021-04-19T21:45:...|2022-05-15T20:42:...|La SH Project, un...|   false|\n",
      "|71321300-d76c-4a0...|          Mangasushi|2021-04-19T21:45:...|2021-04-19T21:45:...|Greetings readers...|   false|\n",
      "|3cb344d9-8d3c-40a...|     Hetascanlations|2022-03-27T19:29:...|2022-03-27T19:29:...|This is a page fo...|   false|\n",
      "|177a42cc-5fbe-412...|         Furio Scans|2021-04-19T21:45:...|2021-04-19T21:45:...|                null|   false|\n",
      "|f24e53fd-eadd-4b1...|         AxeScanTeam|2022-01-12T18:39:...|2022-06-24T08:07:...|                null|   false|\n",
      "|a07f801d-599f-47c...|      Psylocke Scans|2021-04-19T21:45:...|2021-04-19T21:45:...|                null|   false|\n",
      "|c75cfd03-7db7-4ab...|            JKCscans|2021-04-19T21:45:...|2022-08-20T10:04:...|Tujuan dari saya ...|   false|\n",
      "|06d82c21-becc-40f...|Fake Manga Scanla...|2021-04-19T21:45:...|2021-04-19T21:45:...|                null|   false|\n",
      "|80d82a0e-4ed3-41b...|      Sol Café Scans|2021-04-19T21:45:...|2022-06-07T01:32:...|>  **Sol Café Sca...|   false|\n",
      "|a960d783-2826-4bf...|          Mummy Clap|2021-04-19T21:45:...|2021-09-30T08:06:...|We like mummies. ...|   false|\n",
      "|e6864cbb-e1ec-478...|Japanese Unloved ...|2021-04-19T21:45:...|2022-02-12T17:24:...|We bring to the E...|   false|\n",
      "|434457d1-59ba-412...|Viz Media (Ex-Lic...|2021-04-19T21:45:...|2021-04-19T21:45:...|Official Publishe...|   false|\n",
      "|b47691c1-555b-497...|      Kingdom Italia|2021-04-19T21:45:...|2021-04-19T21:45:...|Chi siamo?   \\n-O...|   false|\n",
      "|9c89b77b-5dc4-41f...| Rakuen Translations|2021-04-19T21:45:...|2022-07-13T23:14:...|A scanlation grou...|   false|\n",
      "|fdad9851-164f-43f...|         Flame Scans|2021-04-19T21:45:...|2022-09-24T09:19:...|**Flame Scans is ...|   false|\n",
      "+--------------------+--------------------+--------------------+--------------------+--------------------+--------+\n",
      "only showing top 20 rows\n",
      "\n"
     ]
    }
   ],
   "source": [
    "group_info = group.select(\n",
    "    \"id\",\n",
    "    \"attributes.name\",\n",
    "    \"attributes.createdAt\",\n",
    "    \"attributes.updatedAt\",\n",
    "    \"attributes.description\",\n",
    "    \"attributes.inactive\",\n",
    ")\n",
    "group_info.show()"
   ]
  },
  {
   "cell_type": "code",
   "execution_count": 4,
   "metadata": {},
   "outputs": [
    {
     "name": "stdout",
     "output_type": "stream",
     "text": [
      "+--------------------+--------------------+--------------------+----+\n",
      "|            manga_id|          manga_name|   manga_description|lang|\n",
      "+--------------------+--------------------+--------------------+----+\n",
      "|002a8f9e-b2e1-484...|Mamotte Shugogetten!|The story is abou...|  en|\n",
      "|004f244e-03d0-4ee...|  Nether Cram School|Because the real ...|  en|\n",
      "|005b434a-f5ba-49c...|Uwate na Otoko no...|In the rain Yuuic...|  en|\n",
      "|0061c5ed-c160-4d3...|Shuumatsu no Izet...|Pairing: Fine x I...|  en|\n",
      "|00635b26-aa06-4b3...|Raise A Young Master|The Female doctor...|  en|\n",
      "|006fa844-b8d0-4fc...|My Girlfriend wil...|The main characte...|  en|\n",
      "|00714216-e23d-448...|Reincarnated Esco...|My dream is to be...|  en|\n",
      "|0088c8ad-eb0f-44f...|Harry Potter - Pi...|     Strip Ping Pong|  en|\n",
      "|008c1aec-fbd9-41b...|Sweet Pain (Minat...|Yuuto and I are c...|  en|\n",
      "|009b6788-48f3-4e7...|Urami Koi, Koi, U...|The Twelve City, ...|  en|\n",
      "|00a32677-20ff-4f4...|About a Webtoon W...|One day, writer P...|  en|\n",
      "|00a9a2ba-89a8-479...|Brothers Grimm’s ...|The beautiful fai...|  en|\n",
      "|00e3e117-15b2-436...|           7 Wonders|Jaka's life fille...|  en|\n",
      "|00e51ba5-08d4-45d...|Yo-kai Watch Shad...|There used to be ...|  en|\n",
      "|00f9a938-2f38-44b...|An Omega's Love A...|Hyun, who had no ...|  en|\n",
      "|0103c05a-187a-45d...|       Dana's Garden|\"Don't cry, Dana ...|  en|\n",
      "|010a2252-bdc9-4cd...|     Kare no Shouzou|Not-so-prodigal s...|  en|\n",
      "|010abcb5-c705-4dc...|Gyaru Gamer ni Ho...|Raito Sasaki is y...|  en|\n",
      "|0111ec91-d174-43e...|         Neung Neung|About a class ful...|  en|\n",
      "|012291e8-7033-498...|Amagami - Igokoch...|                    |  en|\n",
      "+--------------------+--------------------+--------------------+----+\n",
      "only showing top 20 rows\n",
      "\n"
     ]
    }
   ],
   "source": [
    "manga_name_lang = manga.select(\n",
    "    F.col(\"id\").alias(\"manga_id\"),\n",
    "    F.explode(\"attributes.title\").alias(\"lang\", \"manga_name\"),\n",
    ")\n",
    "\n",
    "manga_description_lang = manga.select(\n",
    "    F.col(\"id\").alias(\"manga_id\"),\n",
    "    F.explode(\"attributes.description\").alias(\"lang\", \"manga_description\"),\n",
    ")\n",
    "\n",
    "lang_ordered = (\n",
    "    manga_name_lang.groupBy(\"lang\")\n",
    "    .count()\n",
    "    .orderBy(F.desc(\"count\"))\n",
    "    .withColumn(\"rank\", F.row_number().over(Window.orderBy(F.desc(\"count\"))))\n",
    ")\n",
    "\n",
    "# take the language for each manga that has the lowest rank\n",
    "manga_name = (\n",
    "    manga_name_lang.join(manga_description_lang, [\"manga_id\", \"lang\"])\n",
    "    .join(lang_ordered, \"lang\")\n",
    "    .withColumn(\n",
    "        \"manga_lang_rank\",\n",
    "        F.row_number().over(Window.partitionBy(\"manga_id\").orderBy(\"rank\")),\n",
    "    )\n",
    "    .filter(F.col(\"manga_lang_rank\") == 1)\n",
    "    .select(\"manga_id\", \"manga_name\", \"manga_description\", \"lang\")\n",
    ")\n",
    "\n",
    "manga_name.show()"
   ]
  },
  {
   "cell_type": "code",
   "execution_count": 5,
   "metadata": {},
   "outputs": [
    {
     "name": "stdout",
     "output_type": "stream",
     "text": [
      "+------------------------------------+------------------------------------------------------------+\n",
      "|                                  id|                                                        tags|\n",
      "+------------------------------------+------------------------------------------------------------+\n",
      "|001bc08b-21a9-47fa-bfc0-82b0ad77a58b|[{format, Oneshot}, {genre, Boys' Love}, {theme, Crossdre...|\n",
      "|00204d60-d5c8-486d-9dbc-868a91d27612|      [{genre, Comedy}, {genre, Boys' Love}, {theme, Shota}]|\n",
      "|0020845f-63e2-45bd-b69d-5e958aa37dff|[{genre, Thriller}, {genre, Sci-Fi}, {genre, Action}, {ge...|\n",
      "|002a8f9e-b2e1-4841-8745-bd3d66f252e6|[{genre, Romance}, {genre, Comedy}, {genre, Fantasy}, {th...|\n",
      "|003e1cfd-b4f9-4d66-9080-34455ac19a96|[{genre, Historical}, {genre, Romance}, {genre, Drama}, {...|\n",
      "|003e7fbf-f047-4783-a7df-1533a2a653d4|[{format, Award Winning}, {genre, Psychological}, {genre,...|\n",
      "|004f244e-03d0-4ee0-ba0e-d2d2f8e6cdbf|[{genre, Thriller}, {format, Long Strip}, {theme, School ...|\n",
      "|005317c6-02d6-4059-bb9e-3630e5876b91|[{genre, Romance}, {genre, Boys' Love}, {theme, School Li...|\n",
      "|0056e7a5-33fc-4aa3-97e1-6a74170c7f50|   [{genre, Romance}, {genre, Comedy}, {theme, School Life}]|\n",
      "|00575427-0dcd-4905-b764-16f3aea8bfe4|     [{genre, Boys' Love}, {genre, Drama}, {genre, Mystery}]|\n",
      "|005b434a-f5ba-49cc-8a97-549ae4a386c6|      [{genre, Comedy}, {genre, Boys' Love}, {genre, Drama}]|\n",
      "|005defc5-b51f-47f2-8e29-da0f1e4c48a3|[{genre, Historical}, {genre, Action}, {format, Long Stri...|\n",
      "|0061c5ed-c160-4d37-8ff1-ecc28a54d3cc|[{genre, Romance}, {genre, Girls' Love}, {format, Doujins...|\n",
      "|00629057-62b1-4e63-aab1-951ffed85a6a|                  [{genre, Boys' Love}, {format, Doujinshi}]|\n",
      "|00635b26-aa06-4b3c-8ac3-91b406469dd4|        [{genre, Romance}, {genre, Drama}, {genre, Fantasy}]|\n",
      "|0064ebff-4cbf-444f-bb0d-fbc824d1e370|[{genre, Psychological}, {format, Long Strip}, {genre, Dr...|\n",
      "|006a499e-cb23-42eb-bb60-d6ad8b4bd427|                        [{format, Oneshot}, {genre, Action}]|\n",
      "|006fa844-b8d0-4fc1-a3ff-ec5ab63223e5|[{format, Oneshot}, {genre, Romance}, {genre, Comedy}, {t...|\n",
      "|00714216-e23d-4485-8d55-d30ece04812f|[{theme, Reincarnation}, {theme, Time Travel}, {genre, Ac...|\n",
      "|0088c8ad-eb0f-44fd-8e92-db2028eb40c0|[{genre, Comedy}, {genre, Boys' Love}, {format, Doujinshi...|\n",
      "+------------------------------------+------------------------------------------------------------+\n",
      "only showing top 20 rows\n",
      "\n"
     ]
    }
   ],
   "source": [
    "# get all tags for each manga, we purposely omit the tag id\n",
    "# since all tags are unique anyways\n",
    "manga_tags = (\n",
    "    manga.select(\"id\", F.explode(\"attributes.tags\").alias(\"tag\"))\n",
    "    .select(\n",
    "        \"id\",\n",
    "        F.struct(\n",
    "            \"tag.attributes.group\",\n",
    "            F.col(\"tag.attributes.name.en\").alias(\"name\"),\n",
    "        ).alias(\"tag\"),\n",
    "    )\n",
    "    .groupBy(\"id\")\n",
    "    .agg(F.collect_list(\"tag\").alias(\"tags\"))\n",
    ")\n",
    "manga_tags.show(truncate=60)"
   ]
  },
  {
   "cell_type": "code",
   "execution_count": 6,
   "metadata": {},
   "outputs": [
    {
     "name": "stdout",
     "output_type": "stream",
     "text": [
      "-RECORD 0---------------------------------------------------------------------------------------------------------------------------------------------------------\n",
      " id                           | 002a8f9e-b2e1-4841-8745-bd3d66f252e6                                                                                              \n",
      " createdAt                    | 2019-06-16T19:41:38+00:00                                                                                                         \n",
      " updatedAt                    | 2019-06-16T19:41:38+00:00                                                                                                         \n",
      " availableTranslatedLanguages | []                                                                                                                                \n",
      " originalLanguage             | ja                                                                                                                                \n",
      " publicationDemographic       | shounen                                                                                                                           \n",
      " status                       | completed                                                                                                                         \n",
      " year                         | null                                                                                                                              \n",
      " contentRating                | safe                                                                                                                              \n",
      " name                         | Mamotte Shugogetten!                                                                                                              \n",
      " tags                         | [{genre, Romance}, {genre, Comedy}, {genre, Fantasy}, {theme, Supernatural}]                                                      \n",
      "-RECORD 1---------------------------------------------------------------------------------------------------------------------------------------------------------\n",
      " id                           | 004f244e-03d0-4ee0-ba0e-d2d2f8e6cdbf                                                                                              \n",
      " createdAt                    | 2020-11-03T22:25:31+00:00                                                                                                         \n",
      " updatedAt                    | 2020-11-03T22:25:31+00:00                                                                                                         \n",
      " availableTranslatedLanguages | []                                                                                                                                \n",
      " originalLanguage             | zh                                                                                                                                \n",
      " publicationDemographic       | null                                                                                                                              \n",
      " status                       | ongoing                                                                                                                           \n",
      " year                         | null                                                                                                                              \n",
      " contentRating                | safe                                                                                                                              \n",
      " name                         | Nether Cram School                                                                                                                \n",
      " tags                         | [{genre, Thriller}, {format, Long Strip}, {theme, School Life}, {format, Web Comic}, {theme, Supernatural}, {format, Full Color}] \n",
      "-RECORD 2---------------------------------------------------------------------------------------------------------------------------------------------------------\n",
      " id                           | 00575427-0dcd-4905-b764-16f3aea8bfe4                                                                                              \n",
      " createdAt                    | 2018-11-16T03:25:03+00:00                                                                                                         \n",
      " updatedAt                    | 2021-05-25T15:38:46+00:00                                                                                                         \n",
      " availableTranslatedLanguages | [pl, en]                                                                                                                          \n",
      " originalLanguage             | ja                                                                                                                                \n",
      " publicationDemographic       | null                                                                                                                              \n",
      " status                       | completed                                                                                                                         \n",
      " year                         | null                                                                                                                              \n",
      " contentRating                | safe                                                                                                                              \n",
      " name                         | Ai no Binzoko                                                                                                                     \n",
      " tags                         | [{genre, Boys' Love}, {genre, Drama}, {genre, Mystery}]                                                                           \n",
      "only showing top 3 rows\n",
      "\n"
     ]
    }
   ],
   "source": [
    "manga_info = (\n",
    "    manga.select(\n",
    "        \"id\",\n",
    "        \"attributes.createdAt\",\n",
    "        \"attributes.updatedAt\",\n",
    "        \"attributes.availableTranslatedLanguages\",\n",
    "        \"attributes.originalLanguage\",\n",
    "        \"attributes.publicationDemographic\",\n",
    "        \"attributes.status\",\n",
    "        \"attributes.year\",\n",
    "        \"attributes.contentRating\",\n",
    "    )\n",
    "    .join(\n",
    "        manga_name.select(\n",
    "            F.col(\"manga_id\").alias(\"id\"), F.col(\"manga_name\").alias(\"name\")\n",
    "        ),\n",
    "        \"id\",\n",
    "    )\n",
    "    .join(manga_tags, \"id\")\n",
    ")\n",
    "manga_info.show(vertical=True, truncate=False, n=3)"
   ]
  },
  {
   "cell_type": "code",
   "execution_count": 11,
   "metadata": {},
   "outputs": [
    {
     "data": {
      "text/plain": [
       "{'id': '002a8f9e-b2e1-4841-8745-bd3d66f252e6',\n",
       " 'createdAt': '2019-06-16T19:41:38+00:00',\n",
       " 'updatedAt': '2019-06-16T19:41:38+00:00',\n",
       " 'availableTranslatedLanguages': [],\n",
       " 'originalLanguage': 'ja',\n",
       " 'publicationDemographic': 'shounen',\n",
       " 'status': 'completed',\n",
       " 'year': None,\n",
       " 'contentRating': 'safe',\n",
       " 'name': 'Mamotte Shugogetten!',\n",
       " 'tags': [{'group': 'genre', 'name': 'Romance'},\n",
       "  {'group': 'genre', 'name': 'Comedy'},\n",
       "  {'group': 'genre', 'name': 'Fantasy'},\n",
       "  {'group': 'theme', 'name': 'Supernatural'}]}"
      ]
     },
     "execution_count": 11,
     "metadata": {},
     "output_type": "execute_result"
    }
   ],
   "source": [
    "manga_info.limit(10).collect()[0].asDict(recursive=True)"
   ]
  }
 ],
 "metadata": {
  "kernelspec": {
   "display_name": ".venv",
   "language": "python",
   "name": "python3"
  },
  "language_info": {
   "codemirror_mode": {
    "name": "ipython",
    "version": 3
   },
   "file_extension": ".py",
   "mimetype": "text/x-python",
   "name": "python",
   "nbconvert_exporter": "python",
   "pygments_lexer": "ipython3",
   "version": "3.10.5"
  },
  "orig_nbformat": 4,
  "vscode": {
   "interpreter": {
    "hash": "bca7b2bdba768571c0082ebd75c4aeb7591ff0a55f8644ae03b303997b530c9d"
   }
  }
 },
 "nbformat": 4,
 "nbformat_minor": 2
}
